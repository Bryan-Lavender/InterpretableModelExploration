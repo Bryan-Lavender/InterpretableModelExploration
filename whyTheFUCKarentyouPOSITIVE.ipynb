{
 "cells": [
  {
   "cell_type": "code",
   "execution_count": 58,
   "metadata": {},
   "outputs": [
    {
     "name": "stdout",
     "output_type": "stream",
     "text": [
      "device:  cpu\n"
     ]
    },
    {
     "name": "stderr",
     "output_type": "stream",
     "text": [
      "c:\\Users\\blav1\\Scripts\\BryansClaimToFame\\InterpretableModelExploration\\EnvRunner.py:58: FutureWarning: You are using `torch.load` with `weights_only=False` (the current default value), which uses the default pickle module implicitly. It is possible to construct malicious pickle data which will execute arbitrary code during unpickling (See https://github.com/pytorch/pytorch/blob/main/SECURITY.md#untrusted-models for more details). In a future release, the default value for `weights_only` will be flipped to `True`. This limits the functions that could be executed during unpickling. Arbitrary objects will no longer be allowed to be loaded via this mode unless they are explicitly allowlisted by the user via `torch.serialization.add_safe_globals`. We recommend you start setting `weights_only=True` for any use case where you don't have full control of the loaded file. Please open an issue on GitHub for any issues related to this experimental feature.\n",
      "  self.model.baseline_network.load_state_dict(torch.load(PATH_critic,map_location=torch.device('cpu')))\n",
      "c:\\Users\\blav1\\Scripts\\BryansClaimToFame\\InterpretableModelExploration\\EnvRunner.py:59: FutureWarning: You are using `torch.load` with `weights_only=False` (the current default value), which uses the default pickle module implicitly. It is possible to construct malicious pickle data which will execute arbitrary code during unpickling (See https://github.com/pytorch/pytorch/blob/main/SECURITY.md#untrusted-models for more details). In a future release, the default value for `weights_only` will be flipped to `True`. This limits the functions that could be executed during unpickling. Arbitrary objects will no longer be allowed to be loaded via this mode unless they are explicitly allowlisted by the user via `torch.serialization.add_safe_globals`. We recommend you start setting `weights_only=True` for any use case where you don't have full control of the loaded file. Please open an issue on GitHub for any issues related to this experimental feature.\n",
      "  self.model.policy.load_state_dict((torch.load(PATH_actor,map_location=torch.device('cpu'))))\n"
     ]
    }
   ],
   "source": [
    "from Explanations_Models.Custom_DT.LIME import LIME\n",
    "from FeatureImportance.FI import FeatureImportance\n",
    "import yaml\n",
    "import pandas as pd\n",
    "import argparse\n",
    "import os\n",
    "import sys\n",
    "import numpy as np\n",
    "import torch\n",
    "import gym\n",
    "import matplotlib\n",
    "import matplotlib.pyplot as plt\n",
    "import unittest\n",
    "from DeepLearning_Models.utils.general import join, plot_combined\n",
    "from DeepLearning_Models.ActorCritic.policy_gradient import PolicyGradient\n",
    "from EnvRunner import GymRunner\n",
    "import json\n",
    "import warnings\n",
    "from tqdm import tqdm\n",
    "import torch\n",
    "# Suppress all deprecation warnings\n",
    "warnings.filterwarnings('ignore', category=DeprecationWarning)\n",
    "warnings.filterwarnings('ignore', category=UserWarning)\n",
    "\n",
    "yaml.add_constructor(\"!join\", join)\n",
    "parser = argparse.ArgumentParser()\n",
    "\n",
    "parser.add_argument(\"--config_filename\", required=False, type=str)\n",
    "\n",
    "config_file = open(\"config_envs/{}.yml\".format(\"cartpole\"))\n",
    "config = yaml.load(config_file, Loader=yaml.FullLoader)\n",
    "config.update(yaml.load(open(\"config_explanations/{}.yml\".format(\"cartpole\"), encoding=\"utf8\"), Loader= yaml.FullLoader))\n",
    "Runner = GymRunner(config)\n",
    "Runner.load_weights(PATH = None)\n",
    "\n",
    "\n",
    "def PCA_Ish(FI, out_logits):\n",
    "    tmp = FI.mean()\n",
    "    arr = []\n",
    "    for i in out_logits.keys():\n",
    "        arr.append(tmp[i].to_numpy())\n",
    "    tmp = np.stack(arr)\n",
    "    A = torch.tensor(tmp, dtype=torch.float64).T\n",
    "\n",
    "    print(A)\n",
    "    print(A.T@A)\n",
    "    vals, vecs = torch.linalg.eig(A@A.T)\n",
    "    #print(torch.linalg.eig(A))\n",
    "    print(vals.real, vecs.real)\n",
    "    weighted_FI = torch.unsqueeze(vals.real,1) * vecs.real\n",
    "    return torch.sum(weighted_FI, dim=0).detach().numpy()\n",
    "\n",
    "\n"
   ]
  },
  {
   "cell_type": "code",
   "execution_count": 59,
   "metadata": {},
   "outputs": [],
   "source": [
    "DT = LIME(config, Runner)\n",
    "X,Y = DT.sample_set()\n",
    "\n",
    "FI = FeatureImportance(config, Runner.model.network) \n",
    "out, fi = FI.Relevence(X)\n",
    "\n",
    "columns = pd.MultiIndex.from_product([config[\"picture\"][\"class_names\"], config[\"picture\"][\"labels\"]], names=['OutLogit', 'InLogit'])\n",
    "fi = np.abs(fi)\n",
    "# Reshape the data to (60, 8) to match the multi-level column structurel\n",
    "reshaped_data = fi.reshape(fi.shape[0], -1)\n",
    "\n",
    "# Create the DataFrame\n",
    "df = pd.DataFrame(reshaped_data, columns=columns)\n",
    "out = pd.DataFrame(out, columns=config[\"picture\"][\"class_names\"])"
   ]
  },
  {
   "cell_type": "code",
   "execution_count": 60,
   "metadata": {},
   "outputs": [
    {
     "name": "stdout",
     "output_type": "stream",
     "text": [
      "tensor([[0.2976, 0.4349],\n",
      "        [0.2876, 0.2182],\n",
      "        [0.2862, 0.2952],\n",
      "        [0.3477, 0.3278]], dtype=torch.float64)\n",
      "tensor([[0.3741, 0.3907],\n",
      "        [0.3907, 0.4313]], dtype=torch.float64)\n",
      "tensor([ 7.9441e-01,  1.1016e-02, -4.8574e-18,  3.2106e-17],\n",
      "       dtype=torch.float64) tensor([[-0.5847,  0.7437,  0.3035,  0.0372],\n",
      "        [-0.3990, -0.5914,  0.4943, -0.2168],\n",
      "        [-0.4612, -0.0825, -0.8146, -0.6757],\n",
      "        [-0.5350, -0.3007,  0.0020,  0.7036]], dtype=torch.float64)\n"
     ]
    },
    {
     "data": {
      "text/plain": [
       "array([-0.4689105 ,  0.58426421,  0.24653739,  0.02712519])"
      ]
     },
     "execution_count": 60,
     "metadata": {},
     "output_type": "execute_result"
    }
   ],
   "source": [
    "\n",
    "PCA_Ish(df, out)"
   ]
  },
  {
   "cell_type": "code",
   "execution_count": 67,
   "metadata": {},
   "outputs": [
    {
     "name": "stdout",
     "output_type": "stream",
     "text": [
      "tensor([-1.7421e-16,  5.6252e-17,  8.6973e-03,  2.6010e+00],\n",
      "       dtype=torch.float64)\n",
      "tensor([[ 0.3320, -0.5302,  0.4455, -0.6404],\n",
      "        [-0.0907, -0.4178, -0.8543, -0.2955],\n",
      "        [ 0.6327,  0.6333, -0.2491, -0.3695],\n",
      "        [-0.6937,  0.3785,  0.0978, -0.6050]], dtype=torch.float64)\n"
     ]
    }
   ],
   "source": [
    "tp1 = torch.DoubleTensor([[70.1270, 39.3422, 43.8028, 68.3783],\n",
    "        [75.9377, 28.0442, 40.4800, 69.6060]])*(1/100)\n",
    "a = torch.mm( tp1.t(),tp1)\n",
    "\n",
    "eigVals, eigVecs = torch.linalg.eigh(a)\n",
    "\n",
    "print(eigVals.real)\n",
    "print(eigVecs.real)"
   ]
  },
  {
   "cell_type": "code",
   "execution_count": 68,
   "metadata": {},
   "outputs": [
    {
     "data": {
      "text/plain": [
       "torch.return_types.svd(\n",
       "U=tensor([[ 0.7074, -0.7068],\n",
       "        [ 0.7068,  0.7074]], dtype=torch.float64),\n",
       "S=tensor([1.6127, 0.0933], dtype=torch.float64),\n",
       "V=tensor([[ 0.6404,  0.4455],\n",
       "        [ 0.2955, -0.8543],\n",
       "        [ 0.3695, -0.2491],\n",
       "        [ 0.6050,  0.0978]], dtype=torch.float64))"
      ]
     },
     "execution_count": 68,
     "metadata": {},
     "output_type": "execute_result"
    }
   ],
   "source": [
    "torch.svd(tp1)"
   ]
  },
  {
   "cell_type": "code",
   "execution_count": 70,
   "metadata": {},
   "outputs": [
    {
     "data": {
      "text/plain": [
       "left     1.586315\n",
       "right    1.718487\n",
       "dtype: float32"
      ]
     },
     "execution_count": 70,
     "metadata": {},
     "output_type": "execute_result"
    }
   ],
   "source": []
  },
  {
   "cell_type": "code",
   "execution_count": 80,
   "metadata": {},
   "outputs": [],
   "source": [
    "def Policy_Smoothing_MaxAvg_Weighting(FI, out_logits):\n",
    "    tmp = []\n",
    "    for i in list(out_logits.keys()):\n",
    "        tmp.append(FI[i].mean().to_numpy())\n",
    "    tmp = tmp[np.argmax(np.stack(tmp).mean(axis=1))]\n",
    "    tmp = pd.DataFrame(np.expand_dims(tmp, axis=0), columns = list(FI[out_logits.keys()[0]].keys()))\n",
    "    return tmp\n",
    "i = Policy_Smoothing_MaxAvg_Weighting(df, out)"
   ]
  },
  {
   "cell_type": "code",
   "execution_count": 82,
   "metadata": {},
   "outputs": [
    {
     "data": {
      "text/plain": [
       "0.29521686"
      ]
     },
     "execution_count": 82,
     "metadata": {},
     "output_type": "execute_result"
    }
   ],
   "source": [
    "i[\"angle\"].iloc[0]"
   ]
  },
  {
   "cell_type": "code",
   "execution_count": 5,
   "metadata": {},
   "outputs": [
    {
     "name": "stdout",
     "output_type": "stream",
     "text": [
      "[-0.44366953  0.21514174]\n"
     ]
    }
   ],
   "source": [
    "shape = 2\n",
    "array = np.random.uniform(low=-1, high=1, size=shape)\n",
    "print(array)"
   ]
  },
  {
   "cell_type": "code",
   "execution_count": null,
   "metadata": {},
   "outputs": [],
   "source": []
  }
 ],
 "metadata": {
  "kernelspec": {
   "display_name": "XAI_RL3.6",
   "language": "python",
   "name": "python3"
  },
  "language_info": {
   "codemirror_mode": {
    "name": "ipython",
    "version": 3
   },
   "file_extension": ".py",
   "mimetype": "text/x-python",
   "name": "python",
   "nbconvert_exporter": "python",
   "pygments_lexer": "ipython3",
   "version": "3.8.19"
  }
 },
 "nbformat": 4,
 "nbformat_minor": 2
}
