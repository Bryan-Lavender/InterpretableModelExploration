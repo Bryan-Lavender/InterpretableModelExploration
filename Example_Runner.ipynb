{
 "cells": [
  {
   "cell_type": "code",
   "execution_count": 1,
   "id": "7621b308",
   "metadata": {},
   "outputs": [
    {
     "name": "stdout",
     "output_type": "stream",
     "text": [
      "device:  cpu\n"
     ]
    },
    {
     "name": "stderr",
     "output_type": "stream",
     "text": [
      "/home/bryan/Scripts/messAround/Utils/LoadModel.py:29: FutureWarning: You are using `torch.load` with `weights_only=False` (the current default value), which uses the default pickle module implicitly. It is possible to construct malicious pickle data which will execute arbitrary code during unpickling (See https://github.com/pytorch/pytorch/blob/main/SECURITY.md#untrusted-models for more details). In a future release, the default value for `weights_only` will be flipped to `True`. This limits the functions that could be executed during unpickling. Arbitrary objects will no longer be allowed to be loaded via this mode unless they are explicitly allowlisted by the user via `torch.serialization.add_safe_globals`. We recommend you start setting `weights_only=True` for any use case where you don't have full control of the loaded file. Please open an issue on GitHub for any issues related to this experimental feature.\n",
      "  model.baseline_network.load_state_dict(torch.load(PATH_critic,map_location=torch.device('cpu')))\n",
      "/home/bryan/Scripts/messAround/Utils/LoadModel.py:30: FutureWarning: You are using `torch.load` with `weights_only=False` (the current default value), which uses the default pickle module implicitly. It is possible to construct malicious pickle data which will execute arbitrary code during unpickling (See https://github.com/pytorch/pytorch/blob/main/SECURITY.md#untrusted-models for more details). In a future release, the default value for `weights_only` will be flipped to `True`. This limits the functions that could be executed during unpickling. Arbitrary objects will no longer be allowed to be loaded via this mode unless they are explicitly allowlisted by the user via `torch.serialization.add_safe_globals`. We recommend you start setting `weights_only=True` for any use case where you don't have full control of the loaded file. Please open an issue on GitHub for any issues related to this experimental feature.\n",
      "  model.policy.load_state_dict((torch.load(PATH_actor,map_location=torch.device('cpu'))))\n"
     ]
    },
    {
     "name": "stdout",
     "output_type": "stream",
     "text": [
      "SAMPLING: 0.7388718128204346\n",
      "FI: 5.443315267562866\n",
      "FITTING: 1.154679298400879\n"
     ]
    }
   ],
   "source": [
    "from Utils.Sampler import trajectory_sampler\n",
    "from Utils.LoadModel import read_config, load_weights\n",
    "from FeatureImportance.FI import FeatureImportance\n",
    "import time\n",
    "\n",
    "#these are the trees tested in this study\n",
    "from DecisionTrees.Lavender_DT.DecisionTree import WeightedDecisionTrees\n",
    "from DecisionTrees.Feature_specific_trees.DecisionTree import FeatureSpecifcTrees\n",
    "from DecisionTrees.viper.viper import VIPER_reSampled, VIPER_weighted\n",
    "from DecisionTrees.ScikitlearnDT.scikitlearnDT import SKLTree\n",
    "\n",
    "#if it is one of our methods, some customization is necessary\n",
    "#leaf_creator: STD for continuous action space, single_class for categorical\n",
    "#splitting function: 'normal', 'ImportanceWeighing', and 'ImportanceMinimization'\n",
    "#weighing_method: 'Var_Weighted', 'Max_Avg', 'Max_All', 'Double_Avg', 'Class'\n",
    "#object_names: if you want to name the axis' for explanation purposes\n",
    "def create_tree_config(config):\n",
    "    if not config[\"env\"][\"discrete\"]:\n",
    "        config[\"Tree\"] = {\"criterion\": \"MSE\", \n",
    "            \"leaf_creator\": \"STD\", \n",
    "            \"splitting_function\": \"ImportanceWeighing\",\n",
    "            \"weighing_method\": \"Var_Weighted\",\n",
    "            \"object_names\": None}\n",
    "    else:\n",
    "        config[\"Tree\"] = {\"criterion\": \"entropy\", \n",
    "            \"leaf_creator\": \"single_class\", \n",
    "            \"splitting_function\": \"ImportanceWeighing\",\n",
    "            \"weighing_method\": \"Var_Weighted\",\n",
    "            \"object_names\": None}\n",
    "\n",
    "#load environment\n",
    "#possible domains: bipedal, cartpole, acrobot, lunar_lander, half_cheetah\n",
    "DOMAIN = \"bipedal\"\n",
    "config = read_config(DOMAIN)\n",
    "model = load_weights(config)\n",
    "create_tree_config(config)\n",
    "\n",
    "#sample trajectory\n",
    "start = time.time()\n",
    "X,Y = trajectory_sampler(config, model, n = 1)\n",
    "print(\"SAMPLING:\", time.time() - start)\n",
    "\n",
    "#get Feature Importance\n",
    "#possible FI types: Finite Differences (FD), Layerwise Relevency Prop (LRP)\n",
    "start = time.time()\n",
    "FI_calculator = FeatureImportance(\"FD\", model.network)\n",
    "out, FI = FI_calculator.Relevence(X)\n",
    "print(\"FI:\", time.time() - start)\n",
    "\n",
    "#fit tree\n",
    "tree_creator = FeatureSpecifcTrees(config)\n",
    "start = time.time()\n",
    "tree_creator.fit(X,Y,FI,out)\n",
    "print(\"FITTING:\", time.time() - start)\n"
   ]
  },
  {
   "cell_type": "markdown",
   "id": "ad26f1e3",
   "metadata": {},
   "source": [
    "after building the tree we run the following metrics"
   ]
  },
  {
   "cell_type": "code",
   "execution_count": 4,
   "id": "cc1a7bd2",
   "metadata": {},
   "outputs": [
    {
     "name": "stdout",
     "output_type": "stream",
     "text": [
      "{'MSE': 3.4993092988779937, 'MAE': 1.3566447029231203, 'MED': 3.1857501286778867}\n",
      "{'MSE': 3.472539422511418, 'MAE': 1.3541899683167187, 'MED': 3.1819301403046185}\n",
      "[{'StateEucDifferences': array([0.       , 0.       , 0.       , 2.5272815, 1.4607552, 1.8835047,\n",
      "       2.754642 , 3.406379 , 3.5853634, 1.5877451, 2.2643123, 1.9277934,\n",
      "       2.5117493, 3.229769 , 1.9122998, 2.2083094, 2.9502401, 2.7823462,\n",
      "       2.7857673, 3.0012987, 2.5928826, 2.2160356, 2.5684695, 2.1913846,\n",
      "       2.5408435, 1.5243863, 3.939281 , 2.005973 , 2.8832793, 1.619947 ,\n",
      "       1.8493226, 2.7408326, 3.4757266, 2.73834  , 2.0329888, 3.1441176,\n",
      "       3.2546687, 2.7378914, 1.4842484, 3.679435 , 2.2526321, 2.3417609,\n",
      "       2.6126168, 3.1340673, 2.5750208, 2.593642 , 3.3275764, 2.9725673,\n",
      "       2.64768  , 2.662199 , 2.3311555, 3.9889812, 2.2168503, 2.9370162],\n",
      "      dtype=float32), 'ActionError': array([3.23075189e-03, 3.84232836e-03, 7.01807629e+00, 5.29287392e+00,\n",
      "       4.48930634e+00, 7.12344158e+00, 4.70557818e+00, 5.87597662e+00,\n",
      "       3.03861746e+00, 1.55507391e+00, 3.56095206e+00, 3.82270747e+00,\n",
      "       5.43341025e+00, 3.36226143e+00, 3.89496861e+00, 3.05856860e+00,\n",
      "       2.94644560e+00, 4.64878743e+00, 3.46561026e+00, 1.60108709e+00,\n",
      "       2.50051326e+00, 3.70464973e+00, 2.51098760e+00, 5.42764606e+00,\n",
      "       1.41507318e+00, 4.31248831e+00, 2.63270408e+00, 2.40467265e+00,\n",
      "       1.05958175e+00, 5.50537470e+00, 5.00646701e+00, 5.58657898e+00,\n",
      "       4.95478010e+00, 2.89596433e+00, 5.32839235e+00, 7.21603655e+00,\n",
      "       5.77710740e+00, 3.04216261e+00, 3.08867590e+00, 2.12103613e+00,\n",
      "       4.73804816e+00, 6.50741503e+00, 5.96079028e+00, 2.43110508e+00,\n",
      "       1.44304933e+00, 3.46747409e+00, 1.63643726e+00, 1.59817335e+00,\n",
      "       4.98836450e+00, 3.43951658e+00, 5.59755707e+00, 2.95162413e+00,\n",
      "       2.60170023e+00, 3.79802208e+00]), 'RewardDifferences': array([ 0.00000000e+00,  5.79560995e-05,  1.33277346e-01,  9.45528804e-02,\n",
      "        7.53024871e-02,  1.47386941e-01,  1.96888480e-02,  3.22776532e-02,\n",
      "        5.43875673e-02, -4.43144360e-02,  1.88814344e-01,  3.15509103e-01,\n",
      "       -1.43926989e-02, -1.28681679e-01, -2.46458334e-01, -2.71399716e-01,\n",
      "       -2.06035877e-01, -7.76613575e-02, -1.35806875e-01,  2.73006271e-01,\n",
      "        2.87401005e-01,  3.02473608e-01,  2.14866884e-01,  2.35327218e-01,\n",
      "        2.45683997e-01,  3.13332390e-01,  3.93993918e-01,  3.69904152e-01,\n",
      "        4.52476370e-01,  4.80852153e-01,  5.57473558e-01,  6.43683824e-01,\n",
      "        5.25149394e-01,  5.93459601e-01,  3.88063721e-01,  3.86091066e-01,\n",
      "        4.24090765e-01,  4.29203057e-01,  5.21444918e-01,  5.49679236e-01,\n",
      "        4.11191167e-01,  6.04638128e-01,  6.64998618e-01,  5.40742134e-01,\n",
      "        6.47813918e-01,  6.12411359e-01,  7.95994203e-01,  7.68052908e-01,\n",
      "        7.83500623e-01,  5.74386775e-01,  5.73472446e-01,  5.82413189e-01,\n",
      "        5.85712733e-01,  1.00235157e+02])}]\n"
     ]
    }
   ],
   "source": [
    "from Utils.Metrics import Uniform, Trajectory, EpisodeDivergence\n",
    "print(Uniform(config, tree_creator, model, n=100))\n",
    "print(Trajectory(config, tree_creator, model, trajectory_number=1))\n",
    "print(EpisodeDivergence(config, [tree_creator], model, n=1))"
   ]
  },
  {
   "cell_type": "markdown",
   "id": "c1893db5",
   "metadata": {},
   "source": [
    "Below is how we obtained the test-sets"
   ]
  },
  {
   "cell_type": "code",
   "execution_count": 1,
   "id": "d55c5259",
   "metadata": {},
   "outputs": [
    {
     "name": "stdout",
     "output_type": "stream",
     "text": [
      "device:  cpu\n",
      "device:  cpu\n"
     ]
    },
    {
     "name": "stderr",
     "output_type": "stream",
     "text": [
      "/home/bryan/Scripts/messAround/Utils/LoadModel.py:29: FutureWarning: You are using `torch.load` with `weights_only=False` (the current default value), which uses the default pickle module implicitly. It is possible to construct malicious pickle data which will execute arbitrary code during unpickling (See https://github.com/pytorch/pytorch/blob/main/SECURITY.md#untrusted-models for more details). In a future release, the default value for `weights_only` will be flipped to `True`. This limits the functions that could be executed during unpickling. Arbitrary objects will no longer be allowed to be loaded via this mode unless they are explicitly allowlisted by the user via `torch.serialization.add_safe_globals`. We recommend you start setting `weights_only=True` for any use case where you don't have full control of the loaded file. Please open an issue on GitHub for any issues related to this experimental feature.\n",
      "  model.baseline_network.load_state_dict(torch.load(PATH_critic,map_location=torch.device('cpu')))\n",
      "/home/bryan/Scripts/messAround/Utils/LoadModel.py:30: FutureWarning: You are using `torch.load` with `weights_only=False` (the current default value), which uses the default pickle module implicitly. It is possible to construct malicious pickle data which will execute arbitrary code during unpickling (See https://github.com/pytorch/pytorch/blob/main/SECURITY.md#untrusted-models for more details). In a future release, the default value for `weights_only` will be flipped to `True`. This limits the functions that could be executed during unpickling. Arbitrary objects will no longer be allowed to be loaded via this mode unless they are explicitly allowlisted by the user via `torch.serialization.add_safe_globals`. We recommend you start setting `weights_only=True` for any use case where you don't have full control of the loaded file. Please open an issue on GitHub for any issues related to this experimental feature.\n",
      "  model.policy.load_state_dict((torch.load(PATH_actor,map_location=torch.device('cpu'))))\n"
     ]
    },
    {
     "name": "stdout",
     "output_type": "stream",
     "text": [
      "device:  cpu\n",
      "device:  cpu\n",
      "device:  cpu\n"
     ]
    }
   ],
   "source": [
    "#uniform/global policy\n",
    "from Utils.Sampler import uniform_sample_policy\n",
    "from Utils.LoadModel import read_config, load_weights\n",
    "import os\n",
    "import numpy as np\n",
    "def save_samples(path, X, Y, activations = None):\n",
    "    os.makedirs(os.path.dirname(path), exist_ok=True)\n",
    "    np.save(path + \"X.npy\", X)\n",
    "    np.save(path + \"Y.npy\", Y)\n",
    "\n",
    "    if activations is not None:\n",
    "        np.save(path + \"Activations.npy\", activations)\n",
    "for DOMAIN in [\"bipedal\", \"cartpole\", \"acrobot\", \"lunar_lander\", \"half_cheetah\"]:\n",
    "    config = read_config(DOMAIN)\n",
    "    model = load_weights(config)\n",
    "\n",
    "\n",
    "    samples = uniform_sample_policy(config, model, n=10000)\n",
    "    path = \"Test_Sets/Uniform_Samples/\" + DOMAIN + \"/\"\n",
    "\n",
    "    if len(samples) == 3:\n",
    "        save_samples(path, samples[0], samples[1], samples[2])\n",
    "    else:\n",
    "        save_samples(path, samples[0], samples[1])\n"
   ]
  },
  {
   "cell_type": "code",
   "execution_count": null,
   "id": "ea99c261",
   "metadata": {},
   "outputs": [
    {
     "name": "stdout",
     "output_type": "stream",
     "text": [
      "device:  cpu\n"
     ]
    },
    {
     "name": "stderr",
     "output_type": "stream",
     "text": [
      "/home/bryan/Scripts/messAround/Utils/LoadModel.py:29: FutureWarning: You are using `torch.load` with `weights_only=False` (the current default value), which uses the default pickle module implicitly. It is possible to construct malicious pickle data which will execute arbitrary code during unpickling (See https://github.com/pytorch/pytorch/blob/main/SECURITY.md#untrusted-models for more details). In a future release, the default value for `weights_only` will be flipped to `True`. This limits the functions that could be executed during unpickling. Arbitrary objects will no longer be allowed to be loaded via this mode unless they are explicitly allowlisted by the user via `torch.serialization.add_safe_globals`. We recommend you start setting `weights_only=True` for any use case where you don't have full control of the loaded file. Please open an issue on GitHub for any issues related to this experimental feature.\n",
      "  model.baseline_network.load_state_dict(torch.load(PATH_critic,map_location=torch.device('cpu')))\n",
      "/home/bryan/Scripts/messAround/Utils/LoadModel.py:30: FutureWarning: You are using `torch.load` with `weights_only=False` (the current default value), which uses the default pickle module implicitly. It is possible to construct malicious pickle data which will execute arbitrary code during unpickling (See https://github.com/pytorch/pytorch/blob/main/SECURITY.md#untrusted-models for more details). In a future release, the default value for `weights_only` will be flipped to `True`. This limits the functions that could be executed during unpickling. Arbitrary objects will no longer be allowed to be loaded via this mode unless they are explicitly allowlisted by the user via `torch.serialization.add_safe_globals`. We recommend you start setting `weights_only=True` for any use case where you don't have full control of the loaded file. Please open an issue on GitHub for any issues related to this experimental feature.\n",
      "  model.policy.load_state_dict((torch.load(PATH_actor,map_location=torch.device('cpu'))))\n"
     ]
    }
   ],
   "source": [
    "#trajectory\n",
    "from Utils.Sampler import trajectory_sampler\n",
    "from Utils.LoadModel import read_config, load_weights\n",
    "import os\n",
    "import numpy as np\n",
    "def save_samples(path, X, Y, activations = None):\n",
    "    os.makedirs(os.path.dirname(path), exist_ok=True)\n",
    "    np.save(path + \"X.npy\", X)\n",
    "    np.save(path + \"Y.npy\", Y)\n",
    "\n",
    "    if activations is not None:\n",
    "        np.save(path + \"Activations.npy\", activations)\n",
    "for DOMAIN in [\"bipedal\", \"cartpole\", \"acrobot\", \"lunar_lander\", \"half_cheetah\"]:\n",
    "    config = read_config(DOMAIN)\n",
    "    model = load_weights(config)\n",
    "\n",
    "\n",
    "    samples = trajectory_sampler(config, model, n=100, use_seed = True)\n",
    "    path = \"Test_Sets/Trajectory_Samples/\" + DOMAIN + \"/\"\n",
    "\n",
    "    if len(samples) == 3:\n",
    "        save_samples(path, samples[0], samples[1], samples[2])\n",
    "    else:\n",
    "        save_samples(path, samples[0], samples[1])"
   ]
  },
  {
   "cell_type": "code",
   "execution_count": null,
   "id": "6767eaea",
   "metadata": {},
   "outputs": [],
   "source": []
  }
 ],
 "metadata": {
  "kernelspec": {
   "display_name": "DecisionTree",
   "language": "python",
   "name": "python3"
  },
  "language_info": {
   "codemirror_mode": {
    "name": "ipython",
    "version": 3
   },
   "file_extension": ".py",
   "mimetype": "text/x-python",
   "name": "python",
   "nbconvert_exporter": "python",
   "pygments_lexer": "ipython3",
   "version": "3.8.20"
  }
 },
 "nbformat": 4,
 "nbformat_minor": 5
}
