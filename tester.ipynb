{
 "cells": [
  {
   "cell_type": "code",
   "execution_count": 1,
   "metadata": {},
   "outputs": [
    {
     "data": {
      "text/plain": [
       "_StoreAction(option_strings=['--config_filename'], dest='config_filename', nargs=None, const=None, default=None, type=<class 'str'>, choices=None, help=None, metavar=None)"
      ]
     },
     "execution_count": 1,
     "metadata": {},
     "output_type": "execute_result"
    }
   ],
   "source": [
    "from Explanations_Models.Custom_DT.LIME import LIME\n",
    "from FeatureImportance.FI import FeatureImportance\n",
    "import yaml\n",
    "import argparse\n",
    "import os\n",
    "import sys\n",
    "import numpy as np\n",
    "import torch\n",
    "import gym\n",
    "import matplotlib\n",
    "import matplotlib.pyplot as plt\n",
    "import unittest\n",
    "from DeepLearning_Models.utils.general import join, plot_combined\n",
    "from DeepLearning_Models.ActorCritic.policy_gradient import PolicyGradient\n",
    "from EnvRunner import GymRunner\n",
    "import json\n",
    "import warnings\n",
    "from tqdm import tqdm\n",
    "\n",
    "# Suppress all deprecation warnings\n",
    "warnings.filterwarnings('ignore', category=DeprecationWarning)\n",
    "warnings.filterwarnings('ignore', category=UserWarning)\n",
    "\n",
    "yaml.add_constructor(\"!join\", join)\n",
    "parser = argparse.ArgumentParser()\n",
    "\n",
    "parser.add_argument(\"--config_filename\", required=False, type=str)"
   ]
  },
  {
   "cell_type": "code",
   "execution_count": 2,
   "metadata": {},
   "outputs": [
    {
     "name": "stdout",
     "output_type": "stream",
     "text": [
      "device:  cpu\n"
     ]
    },
    {
     "name": "stderr",
     "output_type": "stream",
     "text": [
      "c:\\Users\\blav1\\Scripts\\BryansClaimToFame\\InterpretableModelExploration\\EnvRunner.py:58: FutureWarning: You are using `torch.load` with `weights_only=False` (the current default value), which uses the default pickle module implicitly. It is possible to construct malicious pickle data which will execute arbitrary code during unpickling (See https://github.com/pytorch/pytorch/blob/main/SECURITY.md#untrusted-models for more details). In a future release, the default value for `weights_only` will be flipped to `True`. This limits the functions that could be executed during unpickling. Arbitrary objects will no longer be allowed to be loaded via this mode unless they are explicitly allowlisted by the user via `torch.serialization.add_safe_globals`. We recommend you start setting `weights_only=True` for any use case where you don't have full control of the loaded file. Please open an issue on GitHub for any issues related to this experimental feature.\n",
      "  self.model.baseline_network.load_state_dict(torch.load(PATH_critic,map_location=torch.device('cpu')))\n",
      "c:\\Users\\blav1\\Scripts\\BryansClaimToFame\\InterpretableModelExploration\\EnvRunner.py:59: FutureWarning: You are using `torch.load` with `weights_only=False` (the current default value), which uses the default pickle module implicitly. It is possible to construct malicious pickle data which will execute arbitrary code during unpickling (See https://github.com/pytorch/pytorch/blob/main/SECURITY.md#untrusted-models for more details). In a future release, the default value for `weights_only` will be flipped to `True`. This limits the functions that could be executed during unpickling. Arbitrary objects will no longer be allowed to be loaded via this mode unless they are explicitly allowlisted by the user via `torch.serialization.add_safe_globals`. We recommend you start setting `weights_only=True` for any use case where you don't have full control of the loaded file. Please open an issue on GitHub for any issues related to this experimental feature.\n",
      "  self.model.policy.load_state_dict((torch.load(PATH_actor,map_location=torch.device('cpu'))))\n"
     ]
    }
   ],
   "source": [
    "\n",
    "config_file = open(\"config_envs/{}.yml\".format(\"_lunar_lander\"))\n",
    "config = yaml.load(config_file, Loader=yaml.FullLoader)\n",
    "config.update(yaml.load(open(\"config_explanations/{}.yml\".format(\"_lunar_lander\"), encoding=\"utf8\"), Loader= yaml.FullLoader))\n",
    "Runner = GymRunner(config)\n",
    "Runner.load_weights(PATH = None)"
   ]
  },
  {
   "cell_type": "code",
   "execution_count": 3,
   "metadata": {},
   "outputs": [],
   "source": [
    "config[\"surrogate\"][\"use_FI\"] = True\n",
    "config[\"sampler\"][\"num_samples\"] = 20\n",
    "config[\"FI\"][\"grouping\"] = \"Max_avg\"\n",
    "\n",
    "FI = FeatureImportance(config, Runner.model.network)\n",
    "DTMode = LIME(config, Runner, FI_getta=FI)\n",
    "#DTMod = LIME(config, Runner)\n",
    "X,Y = DTMode.sample_set()\n"
   ]
  },
  {
   "cell_type": "code",
   "execution_count": 4,
   "metadata": {},
   "outputs": [
    {
     "name": "stdout",
     "output_type": "stream",
     "text": [
      "0.5\n"
     ]
    },
    {
     "data": {
      "text/plain": [
       "array([[[4.50962074e-02, 3.58811706e-01, 9.23777744e-02, 5.65175831e-01,\n",
       "         9.25378799e-02, 2.99558435e-02, 1.52548887e-02, 1.50913805e-01],\n",
       "        [3.73007953e-01, 2.09140763e-01, 7.15429962e-01, 4.01259422e-01,\n",
       "         9.19306040e-01, 8.07571650e-01, 2.06775278e-01, 3.86880308e-01],\n",
       "        [1.05154797e-01, 4.80010152e-01, 3.88781987e-02, 7.28065491e-01,\n",
       "         1.89774837e-02, 5.27935363e-02, 4.17410657e-02, 1.74671441e-01],\n",
       "        [3.13299924e-01, 2.78001755e-01, 4.03197616e-01, 3.77511859e-01,\n",
       "         5.47171891e-01, 5.45387089e-01, 1.59822121e-01, 8.84426683e-02]],\n",
       "\n",
       "       [[5.89077100e-02, 4.01527584e-01, 6.30915165e-02, 5.85912287e-01,\n",
       "         6.48523048e-02, 3.66035220e-03, 1.18080257e-02, 1.48149997e-01],\n",
       "        [4.19452548e-01, 2.04703689e-01, 7.17371643e-01, 3.30864757e-01,\n",
       "         9.22625840e-01, 8.05771768e-01, 2.04830959e-01, 4.01640594e-01],\n",
       "        [1.31617710e-01, 5.52318573e-01, 2.99787172e-03, 7.75525749e-01,\n",
       "         1.89211946e-02, 9.87069607e-02, 4.05633338e-02, 1.68118522e-01],\n",
       "        [3.64098907e-01, 3.41242194e-01, 4.42625880e-01, 4.61751878e-01,\n",
       "         5.84616542e-01, 5.86658299e-01, 1.58511579e-01, 1.03103280e-01]],\n",
       "\n",
       "       [[6.82024509e-02, 2.29907408e-01, 9.23211500e-02, 4.06730115e-01,\n",
       "         7.87438974e-02, 7.67678097e-02, 1.08047694e-01, 1.07416250e-02],\n",
       "        [1.32657230e-01, 2.26637423e-01, 4.52178270e-01, 3.13488066e-01,\n",
       "         5.77724755e-01, 3.15246820e-01, 2.29030162e-01, 7.68212527e-02],\n",
       "        [1.22633852e-01, 3.20897937e-01, 8.81501511e-02, 5.53962231e-01,\n",
       "         5.55188358e-02, 1.46004140e-01, 1.45345017e-01, 2.70455144e-03],\n",
       "        [1.74786821e-01, 1.21967554e-01, 1.99102268e-01, 2.68780500e-01,\n",
       "         3.02860409e-01, 3.17870259e-01, 2.46166047e-02, 4.17800508e-02]],\n",
       "\n",
       "       [[6.86837211e-02, 2.10497841e-01, 1.34259358e-01, 4.02468830e-01,\n",
       "         9.69763696e-02, 7.45071545e-02, 1.25801250e-01, 2.34053787e-02],\n",
       "        [9.15007219e-02, 3.08707774e-01, 4.77793694e-01, 3.91437143e-01,\n",
       "         6.14563465e-01, 3.43949795e-01, 2.64783472e-01, 8.81576240e-02],\n",
       "        [1.13373533e-01, 2.75367975e-01, 1.42786860e-01, 5.25201976e-01,\n",
       "         7.33036846e-02, 1.41714945e-01, 1.66590571e-01, 2.39993036e-02],\n",
       "        [1.42693385e-01, 3.30962241e-02, 1.66999534e-01, 1.98615327e-01,\n",
       "         3.08793277e-01, 3.31262231e-01, 3.02006267e-02, 3.28938030e-02]],\n",
       "\n",
       "       [[6.54569268e-02, 2.28415161e-01, 9.79449078e-02, 4.06371713e-01,\n",
       "         8.29577148e-02, 7.35819042e-02, 1.10671028e-01, 1.24765253e-02],\n",
       "        [1.32454544e-01, 2.40085348e-01, 4.55764234e-01, 3.26094210e-01,\n",
       "         5.82124054e-01, 3.19517165e-01, 2.35890910e-01, 7.69146681e-02],\n",
       "        [1.18032761e-01, 3.17055374e-01, 9.59191844e-02, 5.50099850e-01,\n",
       "         6.06663562e-02, 1.41512617e-01, 1.48894489e-01, 5.82550047e-03],\n",
       "        [1.71052858e-01, 1.10055111e-01, 1.94509462e-01, 2.57877141e-01,\n",
       "         3.00968349e-01, 3.17011118e-01, 2.60105673e-02, 3.96409705e-02]],\n",
       "\n",
       "       [[4.88085113e-02, 3.70049179e-01, 4.44975160e-02, 5.33493340e-01,\n",
       "         5.57737052e-02, 2.96123736e-02, 5.85422060e-03, 1.18860774e-01],\n",
       "        [3.74318510e-01, 1.75078735e-01, 6.03961527e-01, 2.23055899e-01,\n",
       "         8.09075177e-01, 6.69983506e-01, 2.32318148e-01, 3.34605187e-01],\n",
       "        [1.13126390e-01, 5.17384589e-01, 1.01665957e-02, 7.26083934e-01,\n",
       "         1.24219935e-02, 1.14026405e-01, 3.44692282e-02, 1.30788922e-01],\n",
       "        [3.25261801e-01, 3.26444983e-01, 3.77183229e-01, 4.83051836e-01,\n",
       "         5.07556975e-01, 5.14923930e-01, 1.72003478e-01, 9.34439749e-02]],\n",
       "\n",
       "       [[4.59637344e-02, 3.30198467e-01, 9.78591144e-02, 5.70641637e-01,\n",
       "         1.13155209e-01, 5.87614104e-02, 6.29362604e-03, 1.45937115e-01],\n",
       "        [2.85140902e-01, 2.25921974e-01, 7.32776046e-01, 4.98598814e-01,\n",
       "         9.62915123e-01, 8.59280229e-01, 1.45956501e-01, 3.37011278e-01],\n",
       "        [9.72095206e-02, 4.19608086e-01, 4.32013161e-02, 7.08704591e-01,\n",
       "         3.78769375e-02, 2.30480712e-02, 2.49206927e-02, 1.68287322e-01],\n",
       "        [2.52911180e-01, 2.21477851e-01, 4.06513035e-01, 3.04620355e-01,\n",
       "         5.57243347e-01, 5.48634231e-01, 1.07251771e-01, 6.10125661e-02]],\n",
       "\n",
       "       [[3.43668684e-02, 1.05388448e-01, 1.96333788e-02, 1.35513559e-01,\n",
       "         1.02466242e-02, 4.64977920e-02, 4.33194591e-03, 6.79791393e-03],\n",
       "        [1.10291250e-01, 4.11785543e-02, 2.28789598e-01, 7.39005357e-02,\n",
       "         3.80819499e-01, 3.03986639e-01, 7.66835064e-02, 5.07745557e-02],\n",
       "        [6.69366196e-02, 1.81046858e-01, 4.60877642e-02, 2.31210411e-01,\n",
       "         3.22367735e-02, 8.84857550e-02, 1.30095249e-02, 1.58248749e-02],\n",
       "        [1.16112486e-01, 1.07004836e-01, 1.70877218e-01, 2.27153137e-01,\n",
       "         2.57157475e-01, 2.53061861e-01, 5.45479618e-02, 4.05153483e-02]],\n",
       "\n",
       "       [[7.30261952e-02, 2.31870145e-01, 8.68464485e-02, 4.07056063e-01,\n",
       "         7.33868554e-02, 8.13400894e-02, 1.05336443e-01, 6.98621990e-03],\n",
       "        [1.32923782e-01, 2.11971834e-01, 4.51330155e-01, 3.00518185e-01,\n",
       "         5.75563669e-01, 3.12156111e-01, 2.22047806e-01, 7.61489272e-02],\n",
       "        [1.30236268e-01, 3.25652391e-01, 8.01769719e-02, 5.57676315e-01,\n",
       "         4.82124761e-02, 1.52482033e-01, 1.41382083e-01, 2.60174600e-03],\n",
       "        [1.81512997e-01, 1.35339499e-01, 2.05497563e-01, 2.79949307e-01,\n",
       "         3.07931483e-01, 3.21478516e-01, 2.33888812e-02, 4.54495959e-02]],\n",
       "\n",
       "       [[5.19217737e-02, 1.09890185e-01, 4.37315702e-02, 1.26715943e-01,\n",
       "         5.01737334e-02, 7.97849372e-02, 1.26409659e-03, 1.08361058e-02],\n",
       "        [1.12137169e-01, 3.60830426e-02, 2.31992349e-01, 9.19170156e-02,\n",
       "         3.35530072e-01, 2.98289686e-01, 6.58140630e-02, 6.25750199e-02],\n",
       "        [9.08653736e-02, 1.83256760e-01, 8.39380249e-02, 2.12231785e-01,\n",
       "         9.81986672e-02, 1.45171180e-01, 3.37403821e-04, 1.97569504e-02],\n",
       "        [1.42485529e-01, 1.19611651e-01, 2.09450528e-01, 2.25649908e-01,\n",
       "         2.85893708e-01, 3.00373673e-01, 4.29517366e-02, 5.58417775e-02]],\n",
       "\n",
       "       [[3.34036388e-02, 3.48272800e-01, 4.97763194e-02, 5.21928191e-01,\n",
       "         5.87138906e-02, 4.25660461e-02, 1.98160224e-02, 8.45442340e-02],\n",
       "        [3.59915137e-01, 1.54919893e-01, 5.88151455e-01, 2.59726167e-01,\n",
       "         7.54094481e-01, 6.07861519e-01, 2.56052852e-01, 3.54060352e-01],\n",
       "        [8.93485472e-02, 4.84215885e-01, 1.10428489e-03, 7.03859448e-01,\n",
       "         1.98104372e-03, 1.25878006e-01, 5.64270429e-02, 7.89706856e-02],\n",
       "        [2.93360949e-01, 3.11336517e-01, 3.59352499e-01, 4.41417307e-01,\n",
       "         4.64033544e-01, 4.86873329e-01, 2.03288779e-01, 1.49550214e-01]],\n",
       "\n",
       "       [[6.75683096e-02, 2.08290905e-01, 1.38848782e-01, 4.01468068e-01,\n",
       "         1.00304663e-01, 7.15429261e-02, 1.26628041e-01, 2.26153936e-02],\n",
       "        [7.64801353e-02, 3.16862136e-01, 4.79860157e-01, 4.05759990e-01,\n",
       "         6.17185473e-01, 3.47144544e-01, 2.64435858e-01, 8.49163681e-02],\n",
       "        [1.09556712e-01, 2.70475507e-01, 1.48713917e-01, 5.20040691e-01,\n",
       "         7.72839859e-02, 1.37307853e-01, 1.66816592e-01, 2.31028628e-02],\n",
       "        [1.30636290e-01, 2.40299758e-02, 1.63162485e-01, 1.85875863e-01,\n",
       "         3.06837529e-01, 3.28640163e-01, 2.94467043e-02, 3.15176062e-02]],\n",
       "\n",
       "       [[6.91748708e-02, 2.20053375e-01, 8.71310160e-02, 4.57682848e-01,\n",
       "         6.81282431e-02, 8.53172392e-02, 4.55580130e-02, 4.02790792e-02],\n",
       "        [1.74825683e-01, 1.27751216e-01, 4.33673829e-01, 2.47432753e-01,\n",
       "         6.24305427e-01, 3.34022462e-01, 1.78219438e-01, 2.42818077e-03],\n",
       "        [1.27848700e-01, 3.22093368e-01, 8.84924680e-02, 6.47543967e-01,\n",
       "         4.44064327e-02, 1.61871582e-01, 6.02311082e-02, 7.47733489e-02],\n",
       "        [2.02647761e-01, 1.80921540e-01, 1.89942688e-01, 3.84368926e-01,\n",
       "         3.43821138e-01, 3.34717840e-01, 5.93192764e-02, 5.47165759e-02]],\n",
       "\n",
       "       [[1.08330240e-02, 8.49336609e-02, 3.02626770e-02, 1.80834308e-01,\n",
       "         6.17696606e-02, 6.84090191e-03, 8.55341740e-03, 2.42242659e-03],\n",
       "        [9.12127569e-02, 7.47222602e-02, 3.18126559e-01, 6.89395070e-02,\n",
       "         5.17914236e-01, 3.91251564e-01, 5.91083132e-02, 2.54680775e-02],\n",
       "        [2.78829318e-02, 1.48539826e-01, 2.64030155e-02, 2.74519652e-01,\n",
       "         5.86169437e-02, 1.46042835e-02, 8.59910250e-03, 0.00000000e+00],\n",
       "        [7.07491338e-02, 6.45507276e-02, 1.67816758e-01, 1.76633954e-01,\n",
       "         2.68096834e-01, 2.48434275e-01, 2.88553089e-02, 1.50673594e-02]],\n",
       "\n",
       "       [[6.93407729e-02, 2.30462164e-01, 9.41908509e-02, 4.06878233e-01,\n",
       "         7.90356174e-02, 7.68962055e-02, 1.09491862e-01, 1.11402906e-02],\n",
       "        [1.34306625e-01, 2.29398474e-01, 4.56341714e-01, 3.16487998e-01,\n",
       "         5.81954539e-01, 3.18441153e-01, 2.32547164e-01, 7.76204616e-02],\n",
       "        [1.24307908e-01, 3.21255982e-01, 9.03091803e-02, 5.53074956e-01,\n",
       "         5.50315753e-02, 1.46346554e-01, 1.46929219e-01, 3.05310241e-03],\n",
       "        [1.77523464e-01, 1.20568834e-01, 1.99751168e-01, 2.66327173e-01,\n",
       "         3.05761725e-01, 3.20523381e-01, 2.53767930e-02, 4.20451835e-02]],\n",
       "\n",
       "       [[3.72659564e-02, 3.45026761e-01, 6.55509606e-02, 5.96332669e-01,\n",
       "         1.03246376e-01, 5.05290851e-02, 2.54433993e-02, 1.12851873e-01],\n",
       "        [3.30126107e-01, 2.17308372e-01, 7.49263644e-01, 5.19878864e-01,\n",
       "         1.00000000e+00, 9.07356501e-01, 1.64494708e-01, 3.11978489e-01],\n",
       "        [9.52352732e-02, 4.37100470e-01, 9.18622501e-03, 7.35080779e-01,\n",
       "         1.55794173e-02, 4.50077057e-02, 5.79442531e-02, 1.18646391e-01],\n",
       "        [2.77726382e-01, 2.42667183e-01, 4.57676947e-01, 3.17591220e-01,\n",
       "         6.01546347e-01, 5.95686674e-01, 1.46022886e-01, 9.00553241e-02]],\n",
       "\n",
       "       [[8.19512531e-02, 2.35294819e-01, 8.17563608e-02, 4.08496678e-01,\n",
       "         6.62764758e-02, 8.84970278e-02, 1.01715788e-01, 1.67666629e-04],\n",
       "        [1.35262892e-01, 1.94495648e-01, 4.55492109e-01, 2.82746702e-01,\n",
       "         5.78578949e-01, 3.11062038e-01, 2.19773635e-01, 7.52657801e-02],\n",
       "        [1.44037440e-01, 3.32807899e-01, 7.20165893e-02, 5.63137591e-01,\n",
       "         3.72717865e-02, 1.62709683e-01, 1.35680214e-01, 1.45448400e-02],\n",
       "        [1.95306301e-01, 1.52551576e-01, 2.15186253e-01, 2.95706093e-01,\n",
       "         3.19462866e-01, 3.29983473e-01, 2.66676266e-02, 5.29649779e-02]],\n",
       "\n",
       "       [[1.14199414e-03, 4.10181105e-01, 1.08470321e-01, 5.67057729e-01,\n",
       "         1.57816529e-01, 6.48309216e-02, 4.22894582e-02, 2.51068990e-03],\n",
       "        [3.62891078e-01, 3.65443528e-01, 7.12418258e-01, 4.44741696e-01,\n",
       "         9.65180039e-01, 8.21120024e-01, 2.89427310e-01, 1.30088285e-01],\n",
       "        [4.34025750e-02, 5.72615385e-01, 8.07086453e-02, 7.60764599e-01,\n",
       "         1.22464269e-01, 6.53702440e-03, 2.48451531e-02, 1.75454076e-02],\n",
       "        [2.59104669e-01, 2.46312201e-01, 3.65694463e-01, 3.70576859e-01,\n",
       "         4.84934360e-01, 4.98498380e-01, 1.54793426e-01, 9.46233645e-02]],\n",
       "\n",
       "       [[4.69805449e-02, 3.71686220e-01, 4.25228663e-02, 5.39310575e-01,\n",
       "         5.15147522e-02, 4.75093648e-02, 1.73207410e-02, 9.70473662e-02],\n",
       "        [3.82294327e-01, 1.63145110e-01, 6.13494158e-01, 2.39383668e-01,\n",
       "         7.94262290e-01, 6.46405518e-01, 2.45152354e-01, 3.47945422e-01],\n",
       "        [1.10999718e-01, 5.17038941e-01, 1.55605478e-02, 7.30640471e-01,\n",
       "         1.75557360e-02, 1.37444511e-01, 5.19336089e-02, 9.77547765e-02],\n",
       "        [3.26290160e-01, 3.35362166e-01, 3.87937248e-01, 4.77685839e-01,\n",
       "         5.03330708e-01, 5.21730185e-01, 1.93126425e-01, 1.30408868e-01]],\n",
       "\n",
       "       [[7.34121725e-02, 2.21798152e-01, 8.18443894e-02, 4.57595706e-01,\n",
       "         6.46178424e-02, 8.88835117e-02, 4.29148749e-02, 4.12140675e-02],\n",
       "        [1.70520321e-01, 1.20341994e-01, 4.30336058e-01, 2.38486379e-01,\n",
       "         6.19498610e-01, 3.29356045e-01, 1.72522739e-01, 3.60518158e-03],\n",
       "        [1.34088308e-01, 3.25827360e-01, 8.08216631e-02, 6.48566365e-01,\n",
       "         3.98480482e-02, 1.66625649e-01, 5.68327270e-02, 7.60495514e-02],\n",
       "        [2.05229566e-01, 1.88487962e-01, 1.94453880e-01, 3.91114920e-01,\n",
       "         3.44841808e-01, 3.35793704e-01, 5.83130941e-02, 5.63576370e-02]]],\n",
       "      dtype=float32)"
      ]
     },
     "execution_count": 4,
     "metadata": {},
     "output_type": "execute_result"
    }
   ],
   "source": [
    "out, FI_out = FI.Relevence(X, h = .5)\n",
    "FI_out"
   ]
  },
  {
   "cell_type": "code",
   "execution_count": 5,
   "metadata": {},
   "outputs": [
    {
     "name": "stdout",
     "output_type": "stream",
     "text": [
      "False\n"
     ]
    }
   ],
   "source": [
    "print(config[\"surrogate\"][\"multi_tree\"])\n",
    "config[\"surrogate\"][\"multi_tree\"] = False"
   ]
  },
  {
   "cell_type": "code",
   "execution_count": 6,
   "metadata": {},
   "outputs": [
    {
     "name": "stdout",
     "output_type": "stream",
     "text": [
      "5\n",
      "Baseline {'Policy_Captured': 0.1794682418691322, 'Uniform_Captured': 0.1909, 'Representation': 1.25, 'Depth': 4, 'Breadth': 2}\n",
      "0.0001\n",
      "Max_avg {'Policy_Captured': 0.1438166708674162, 'Uniform_Captured': 0.2536, 'Representation': 1.25, 'Depth': 3, 'Breadth': 4}\n",
      "0.0001\n",
      "Var_weighted {'Policy_Captured': 0.14639973191802744, 'Uniform_Captured': 0.2536, 'Representation': 1.25, 'Depth': 3, 'Breadth': 4}\n",
      "0.0001\n",
      "Max_all {'Policy_Captured': 0.1846200363992752, 'Uniform_Captured': 0.2536, 'Representation': 1.25, 'Depth': 3, 'Breadth': 4}\n",
      "0.0001\n",
      "class {'Policy_Captured': 0.17264583237048717, 'Uniform_Captured': 0.3683, 'Representation': 1.25, 'Depth': 3, 'Breadth': 4}\n",
      "10\n",
      "Baseline {'Policy_Captured': 0.2923258184031536, 'Uniform_Captured': 0.2658, 'Representation': 2.5, 'Depth': 4, 'Breadth': 2}\n",
      "0.0001\n",
      "Max_avg {'Policy_Captured': 0.31846715708467793, 'Uniform_Captured': 0.3745, 'Representation': 2.5, 'Depth': 4, 'Breadth': 2}\n",
      "0.0001\n",
      "Var_weighted {'Policy_Captured': 0.3288147814197771, 'Uniform_Captured': 0.3745, 'Representation': 2.5, 'Depth': 4, 'Breadth': 2}\n",
      "0.0001\n",
      "Max_all {'Policy_Captured': 0.3216275179285402, 'Uniform_Captured': 0.3745, 'Representation': 2.5, 'Depth': 4, 'Breadth': 2}\n",
      "0.0001\n",
      "class {'Policy_Captured': 0.3040737148559644, 'Uniform_Captured': 0.4058, 'Representation': 2.5, 'Depth': 4, 'Breadth': 2}\n",
      "20\n",
      "Baseline {'Policy_Captured': 0.3796207856046842, 'Uniform_Captured': 0.2513, 'Representation': 2.857142857142857, 'Depth': 5, 'Breadth': 3}\n",
      "0.0001\n",
      "Max_avg {'Policy_Captured': 0.35276086141231977, 'Uniform_Captured': 0.2505, 'Representation': 2.5, 'Depth': 5, 'Breadth': 4}\n",
      "0.0001\n",
      "Var_weighted {'Policy_Captured': 0.4137418533354722, 'Uniform_Captured': 0.3021, 'Representation': 2.2222222222222223, 'Depth': 5, 'Breadth': 7}\n",
      "0.0001\n",
      "Max_all {'Policy_Captured': 0.3464413668650291, 'Uniform_Captured': 0.2505, 'Representation': 2.5, 'Depth': 5, 'Breadth': 4}\n",
      "0.0001\n",
      "class {'Policy_Captured': 0.430387002737035, 'Uniform_Captured': 0.3846, 'Representation': 2.0, 'Depth': 7, 'Breadth': 5}\n"
     ]
    }
   ],
   "source": [
    "Metrics = {}\n",
    "for i in [\"Max_avg\", \"Max_all\", \"Var_weighted\", \"Baseline\", \"class\"]:\n",
    "    Metrics[i] = []\n",
    "NumEpochs = 1\n",
    "num_samples = [5,10,20]\n",
    "for samps in num_samples:\n",
    "    print(samps)\n",
    "    for ep in range(NumEpochs):\n",
    "        config[\"surrogate\"][\"use_FI\"] = True\n",
    "        config[\"sampler\"][\"num_samples\"] = samps\n",
    "        config[\"FI\"][\"grouping\"] = \"Max_avg\"\n",
    "\n",
    "        FI = FeatureImportance(config, Runner.model.network)\n",
    "        DTMode = LIME(config, Runner, FI_getta=FI)\n",
    "        #DTMod = LIME(config, Runner)\n",
    "        X,Y = DTMode.sample_set()\n",
    "        config[\"surrogate\"][\"use_FI\"] = False\n",
    "        config[\"sampler\"][\"num_samples\"] = samps\n",
    "        config[\"FI\"][\"grouping\"] = \"Baseline\"\n",
    "        DTMode = LIME(config, Runner)\n",
    "        DTMode.surr_model.fit(X,Y)\n",
    "        # DTMode.percent_Correct()\n",
    "        # DTMode.uniform_Correct()\n",
    "        print(config[\"FI\"][\"grouping\"],DTMode.get_metrics())\n",
    "        Metrics[config[\"FI\"][\"grouping\"]].append(DTMode.get_metrics())\n",
    "        \n",
    "        config[\"surrogate\"][\"use_FI\"] = True\n",
    "        config[\"sampler\"][\"num_samples\"] = samps\n",
    "        config[\"FI\"][\"grouping\"] = \"Max_avg\"\n",
    "        FI = FeatureImportance(config, Runner.model.network)\n",
    "        DTMode = LIME(config, Runner,FI_getta=FI)\n",
    "        DTMode.surr_model.fit(X,Y)\n",
    "        #DTMode.percent_Correct()\n",
    "        #DTMode.uniform_Correct()\n",
    "        print(config[\"FI\"][\"grouping\"],DTMode.get_metrics())\n",
    "        Metrics[config[\"FI\"][\"grouping\"]].append(DTMode.get_metrics())\n",
    "\n",
    "        config[\"surrogate\"][\"use_FI\"] = True\n",
    "        config[\"sampler\"][\"num_samples\"] = samps\n",
    "        config[\"FI\"][\"grouping\"] = \"Var_weighted\"\n",
    "        FI = FeatureImportance(config, Runner.model.network)\n",
    "        DTMode = LIME(config, Runner,FI_getta=FI)\n",
    "        DTMode.surr_model.fit(X,Y)\n",
    "        #DTMode.percent_Correct()\n",
    "        #DTMode.uniform_Correct()\n",
    "        print(config[\"FI\"][\"grouping\"],DTMode.get_metrics())\n",
    "        Metrics[config[\"FI\"][\"grouping\"]].append(DTMode.get_metrics())\n",
    "\n",
    "        config[\"surrogate\"][\"use_FI\"] = True\n",
    "        config[\"sampler\"][\"num_samples\"] = samps\n",
    "        config[\"FI\"][\"grouping\"] = \"Max_all\"\n",
    "        FI = FeatureImportance(config, Runner.model.network)\n",
    "        DTMode = LIME(config, Runner,FI_getta=FI)\n",
    "        DTMode.surr_model.fit(X,Y)\n",
    "        #DTMode.percent_Correct()\n",
    "        #DTMode.uniform_Correct()\n",
    "        print(config[\"FI\"][\"grouping\"],DTMode.get_metrics())\n",
    "        Metrics[config[\"FI\"][\"grouping\"]].append(DTMode.get_metrics())\n",
    "\n",
    "        config[\"surrogate\"][\"use_FI\"] = True\n",
    "        config[\"sampler\"][\"num_samples\"] = samps\n",
    "        config[\"FI\"][\"grouping\"] = \"class\"\n",
    "        FI = FeatureImportance(config, Runner.model.network)\n",
    "        DTMode = LIME(config, Runner,FI_getta=FI)\n",
    "        DTMode.surr_model.model.single_tree = True\n",
    "        DTMode.surr_model.fit(X,Y)\n",
    "        #DTMode.percent_Correct()\n",
    "        #DTMode.uniform_Correct()\n",
    "        print(config[\"FI\"][\"grouping\"],DTMode.get_metrics())\n",
    "        Metrics[config[\"FI\"][\"grouping\"]].append(DTMode.get_metrics())"
   ]
  },
  {
   "cell_type": "code",
   "execution_count": 5,
   "metadata": {},
   "outputs": [
    {
     "name": "stdout",
     "output_type": "stream",
     "text": [
      "10\n",
      "Baseline {'Policy_Captured': 0.6755, 'Uniform_Captured': 0.3905, 'Representation': 2.5, 'Depth': 4, 'Breadth': 2}\n"
     ]
    },
    {
     "name": "stderr",
     "output_type": "stream",
     "text": [
      "c:\\Users\\blav1\\Scripts\\BryansClaimToFame\\InterpretableModelExploration\\Explanations_Models\\Custom_DT\\Custom_DT_Pack\\Node.py:149: RuntimeWarning: divide by zero encountered in divide\n",
      "  val = (1/FI_val[var].iloc[0]) * val\n",
      "c:\\Users\\blav1\\Scripts\\BryansClaimToFame\\InterpretableModelExploration\\Explanations_Models\\Custom_DT\\Custom_DT_Pack\\Node.py:149: RuntimeWarning: invalid value encountered in scalar multiply\n",
      "  val = (1/FI_val[var].iloc[0]) * val\n"
     ]
    },
    {
     "name": "stdout",
     "output_type": "stream",
     "text": [
      "Max_avg {'Policy_Captured': 0.6456666666666667, 'Uniform_Captured': 0.7059, 'Representation': 2.5, 'Depth': 4, 'Breadth': 2}\n"
     ]
    },
    {
     "name": "stderr",
     "output_type": "stream",
     "text": [
      "c:\\Users\\blav1\\Scripts\\BryansClaimToFame\\InterpretableModelExploration\\Explanations_Models\\Custom_DT\\Custom_DT_Pack\\Node.py:149: RuntimeWarning: divide by zero encountered in divide\n",
      "  val = (1/FI_val[var].iloc[0]) * val\n",
      "c:\\Users\\blav1\\Scripts\\BryansClaimToFame\\InterpretableModelExploration\\Explanations_Models\\Custom_DT\\Custom_DT_Pack\\Node.py:149: RuntimeWarning: invalid value encountered in scalar multiply\n",
      "  val = (1/FI_val[var].iloc[0]) * val\n"
     ]
    },
    {
     "name": "stdout",
     "output_type": "stream",
     "text": [
      "Var_weighted {'Policy_Captured': 0.647, 'Uniform_Captured': 0.7059, 'Representation': 2.5, 'Depth': 4, 'Breadth': 2}\n"
     ]
    },
    {
     "name": "stderr",
     "output_type": "stream",
     "text": [
      "c:\\Users\\blav1\\Scripts\\BryansClaimToFame\\InterpretableModelExploration\\Explanations_Models\\Custom_DT\\Custom_DT_Pack\\Node.py:149: RuntimeWarning: divide by zero encountered in divide\n",
      "  val = (1/FI_val[var].iloc[0]) * val\n",
      "c:\\Users\\blav1\\Scripts\\BryansClaimToFame\\InterpretableModelExploration\\Explanations_Models\\Custom_DT\\Custom_DT_Pack\\Node.py:149: RuntimeWarning: invalid value encountered in scalar multiply\n",
      "  val = (1/FI_val[var].iloc[0]) * val\n"
     ]
    },
    {
     "name": "stdout",
     "output_type": "stream",
     "text": [
      "Max_all {'Policy_Captured': 0.6528333333333335, 'Uniform_Captured': 0.7059, 'Representation': 2.5, 'Depth': 4, 'Breadth': 2}\n"
     ]
    },
    {
     "name": "stderr",
     "output_type": "stream",
     "text": [
      "c:\\Users\\blav1\\Scripts\\BryansClaimToFame\\InterpretableModelExploration\\Explanations_Models\\Custom_DT\\Custom_DT_Pack\\Node.py:149: RuntimeWarning: divide by zero encountered in divide\n",
      "  val = (1/FI_val[var].iloc[0]) * val\n",
      "c:\\Users\\blav1\\Scripts\\BryansClaimToFame\\InterpretableModelExploration\\Explanations_Models\\Custom_DT\\Custom_DT_Pack\\Node.py:149: RuntimeWarning: invalid value encountered in scalar multiply\n",
      "  val = (1/FI_val[var].iloc[0]) * val\n"
     ]
    },
    {
     "name": "stdout",
     "output_type": "stream",
     "text": [
      "class {'Policy_Captured': 0.6485, 'Uniform_Captured': 0.7059, 'Representation': 2.5, 'Depth': 4, 'Breadth': 2}\n"
     ]
    }
   ],
   "source": [
    "Metrics = {}\n",
    "for i in [\"Max_avg\", \"Max_all\", \"Var_weighted\", \"Baseline\", \"class\"]:\n",
    "    Metrics[i] = []\n",
    "NumEpochs = 1\n",
    "num_samples = [10]\n",
    "for samps in num_samples:\n",
    "    print(samps)\n",
    "    for ep in range(NumEpochs):\n",
    "        config[\"surrogate\"][\"use_FI\"] = True\n",
    "        config[\"sampler\"][\"num_samples\"] = samps\n",
    "        config[\"FI\"][\"grouping\"] = \"Max_avg\"\n",
    "\n",
    "        FI = FeatureImportance(config, Runner.model.network)\n",
    "        DTMode = LIME(config, Runner, FI_getta=FI)\n",
    "        #DTMod = LIME(config, Runner)\n",
    "        X,Y = DTMode.sample_set()\n",
    "        config[\"surrogate\"][\"use_FI\"] = False\n",
    "        config[\"sampler\"][\"num_samples\"] = samps\n",
    "        config[\"FI\"][\"grouping\"] = \"Baseline\"\n",
    "        DTMode = LIME(config, Runner)\n",
    "        DTMode.surr_model.model.single_tree = True\n",
    "        DTMode.surr_model.fit(X,Y)\n",
    "        # DTMode.percent_Correct()\n",
    "        # DTMode.uniform_Correct()\n",
    "        print(config[\"FI\"][\"grouping\"],DTMode.get_metrics())\n",
    "        Metrics[config[\"FI\"][\"grouping\"]].append(DTMode.get_metrics())\n",
    "\n",
    "        config[\"surrogate\"][\"use_FI\"] = True\n",
    "        config[\"sampler\"][\"num_samples\"] = samps\n",
    "        config[\"FI\"][\"grouping\"] = \"Max_avg\"\n",
    "        DTMode = LIME(config, Runner,FI_getta=FI)\n",
    "        DTMode.surr_model.model.single_tree = True\n",
    "        DTMode.surr_model.fit(X,Y)\n",
    "        #DTMode.percent_Correct()\n",
    "        #DTMode.uniform_Correct()\n",
    "        print(config[\"FI\"][\"grouping\"],DTMode.get_metrics())\n",
    "        Metrics[config[\"FI\"][\"grouping\"]].append(DTMode.get_metrics())\n",
    "\n",
    "        config[\"surrogate\"][\"use_FI\"] = True\n",
    "        config[\"sampler\"][\"num_samples\"] = samps\n",
    "        config[\"FI\"][\"grouping\"] = \"Var_weighted\"\n",
    "        DTMode = LIME(config, Runner,FI_getta=FI)\n",
    "        DTMode.surr_model.model.single_tree = True\n",
    "        DTMode.surr_model.fit(X,Y)\n",
    "        #DTMode.percent_Correct()\n",
    "        #DTMode.uniform_Correct()\n",
    "        print(config[\"FI\"][\"grouping\"],DTMode.get_metrics())\n",
    "        Metrics[config[\"FI\"][\"grouping\"]].append(DTMode.get_metrics())\n",
    "\n",
    "        config[\"surrogate\"][\"use_FI\"] = True\n",
    "        config[\"sampler\"][\"num_samples\"] = samps\n",
    "        config[\"FI\"][\"grouping\"] = \"Max_all\"\n",
    "        DTMode = LIME(config, Runner,FI_getta=FI)\n",
    "        DTMode.surr_model.model.single_tree = True\n",
    "        DTMode.surr_model.fit(X,Y)\n",
    "        #DTMode.percent_Correct()\n",
    "        #DTMode.uniform_Correct()\n",
    "        print(config[\"FI\"][\"grouping\"],DTMode.get_metrics())\n",
    "        Metrics[config[\"FI\"][\"grouping\"]].append(DTMode.get_metrics())\n",
    "\n",
    "        config[\"surrogate\"][\"use_FI\"] = True\n",
    "        config[\"sampler\"][\"num_samples\"] = samps\n",
    "        config[\"FI\"][\"grouping\"] = \"class\"\n",
    "        DTMode = LIME(config, Runner,FI_getta=FI)\n",
    "        DTMode.surr_model.model.single_tree = True\n",
    "        DTMode.surr_model.fit(X,Y)\n",
    "        #DTMode.percent_Correct()\n",
    "        #DTMode.uniform_Correct()\n",
    "        print(config[\"FI\"][\"grouping\"],DTMode.get_metrics())\n",
    "        Metrics[config[\"FI\"][\"grouping\"]].append(DTMode.get_metrics())"
   ]
  },
  {
   "cell_type": "code",
   "execution_count": 12,
   "metadata": {},
   "outputs": [
    {
     "name": "stdout",
     "output_type": "stream",
     "text": [
      "{'Policy_Captured': 0.905, 'Uniform_Captured': 0.8111, 'Representation': 5.0, 'Depth': 4, 'Breadth': 2}\n"
     ]
    }
   ],
   "source": [
    "config[\"surrogate\"][\"use_FI\"] = True\n",
    "config[\"sampler\"][\"num_samples\"] = 20\n",
    "config[\"FI\"][\"grouping\"] = \"Max_avg\"\n",
    "DTMode = LIME(config, Runner,FI_getta=FI)\n",
    "DTMode.surr_model.model.single_tree = True\n",
    "DTMode.surr_model.fit(X,Y)\n",
    "#DTMode.percent_Correct()\n",
    "#DTMode.uniform_Correct()\n",
    "print(DTMode.get_metrics())"
   ]
  },
  {
   "cell_type": "code",
   "execution_count": null,
   "metadata": {},
   "outputs": [],
   "source": [
    "#np.linalg.norm(X)\n",
    "NumNorm = 3\n",
    "norms = np.linalg.norm(X - X[3,:],axis=1)\n",
    "print(norms)\n",
    "closest_points = np.argsort(norms)\n",
    "print(closest_points)\n",
    "print(X[closest_points[1:NumNorm+1]])\n",
    "X[3]\n"
   ]
  },
  {
   "cell_type": "code",
   "execution_count": 12,
   "metadata": {},
   "outputs": [
    {
     "name": "stdout",
     "output_type": "stream",
     "text": [
      "     leg1hip\n",
      "0  -1.184277\n",
      "1   1.074105\n",
      "2   0.067084\n",
      "3  -0.566440\n",
      "4  -0.411135\n",
      "5   2.650956\n",
      "6   2.516359\n",
      "7   1.593475\n",
      "8   0.600363\n",
      "9  -1.657920\n",
      "10  1.001916\n",
      "11 -0.120257\n",
      "12 -0.671482\n",
      "13  1.443364\n",
      "14  2.785102\n",
      "15 -2.105793\n",
      "16 -2.189750\n",
      "17 -1.235336\n",
      "18  1.244805\n",
      "19  1.019308\n",
      "    leg1knee\n",
      "0   4.281791\n",
      "1   1.049716\n",
      "2   4.373060\n",
      "3   4.644642\n",
      "4   3.873209\n",
      "5  -0.985386\n",
      "6   0.414858\n",
      "7   0.504745\n",
      "8   0.614699\n",
      "9   5.468406\n",
      "10  1.301445\n",
      "11 -0.765672\n",
      "12  4.251453\n",
      "13  1.037093\n",
      "14 -1.448827\n",
      "15  5.371675\n",
      "16  4.024936\n",
      "17  3.412257\n",
      "18 -1.186071\n",
      "19  0.428277\n",
      "     leg2hip\n",
      "0   1.117309\n",
      "1   3.041218\n",
      "2   0.456903\n",
      "3   0.470654\n",
      "4   0.392121\n",
      "5   0.118636\n",
      "6   0.012060\n",
      "7   1.071565\n",
      "8   2.719003\n",
      "9   1.161066\n",
      "10  1.637380\n",
      "11  1.026187\n",
      "12  0.437998\n",
      "13  0.713088\n",
      "14  0.318753\n",
      "15  1.931831\n",
      "16  1.195518\n",
      "17  0.369234\n",
      "18  1.617476\n",
      "19  1.115166\n",
      "    leg2knee\n",
      "0   1.479223\n",
      "1   0.562052\n",
      "2  -0.163588\n",
      "3  -0.379814\n",
      "4  -0.476035\n",
      "5  -1.503159\n",
      "6  -1.534957\n",
      "7   0.571014\n",
      "8   1.573693\n",
      "9   1.091411\n",
      "10  0.381035\n",
      "11  0.733117\n",
      "12  0.072092\n",
      "13  0.134205\n",
      "14 -2.065925\n",
      "15  1.701183\n",
      "16  1.123032\n",
      "17  0.029166\n",
      "18  0.380619\n",
      "19 -0.080062\n"
     ]
    }
   ],
   "source": [
    "import pandas as pd\n",
    "def fit_multi_tree(X,Y):\n",
    "    X = pd.DataFrame(X, columns=config[\"picture\"][\"labels\"])\n",
    "    Y_set =[]\n",
    "    for i in range(Y.shape[1]):\n",
    "        Y_ind = Y[:,i]\n",
    "        \n",
    "        Y_ind = pd.DataFrame(Y_ind, columns=[config[\"picture\"][\"class_names\"][i]])\n",
    "        Y_set.append(Y_ind)\n",
    "    for df in Y_set:\n",
    "        "
   ]
  },
  {
   "cell_type": "code",
   "execution_count": null,
   "metadata": {},
   "outputs": [],
   "source": [
    "def fit_multi_tree(self, X,Y):\n",
    "        X = pd.DataFrame(X, columns=self.config[\"picture\"][\"labels\"])\n",
    "        Y_set =[]\n",
    "        for i in range(Y.shape[1]):\n",
    "            Y_ind = Y[:,i]\n",
    "            Y_ind = pd.DataFrame(Y_ind, columns=self.config[\"picture\"][\"class_names\"][i])\n",
    "            Y_set.append(Y_ind)\n",
    "        print(Y_set)"
   ]
  },
  {
   "cell_type": "code",
   "execution_count": 31,
   "metadata": {},
   "outputs": [
    {
     "name": "stdout",
     "output_type": "stream",
     "text": [
      "[3.5472643  2.6999311  2.0795522  0.         0.47523844 3.1976788\n",
      " 2.294066   1.2353044  2.9847898  3.3937418  0.3390295  0.5805512\n",
      " 1.5873252  0.2678124  2.7930048  1.5496327  1.426849   1.0590192\n",
      " 2.1165824  3.4515421 ]\n",
      "[ 3 13 10  4 11 17  7 16 15 12  2 18  6  1 14  8  5  9 19  0]\n",
      "[[ 8.7027878e-02  2.6118262e-02  5.7043105e-01  2.4200780e-03\n",
      "   2.1383483e-02  9.9994922e-01 -5.4509425e-01 -9.9999672e-01\n",
      "   0.0000000e+00  1.1351696e+00  1.1324883e-06 -1.2880957e-01\n",
      "  -6.6493994e-01  1.0000000e+00  3.3688778e-01  3.4025449e-01\n",
      "   3.4990591e-01  3.6822218e-01  3.9869690e-01  4.5358717e-01\n",
      "   5.3456855e-01  6.6646701e-01  9.2623001e-01  1.0000000e+00]\n",
      " [-2.8283965e-02  3.6027487e-02  5.4276425e-01  5.2066308e-02\n",
      "   4.4382095e-02  1.0000005e+00 -4.9516773e-01 -1.0000001e+00\n",
      "   0.0000000e+00  1.1261002e+00 -1.4901161e-08  7.7043772e-03\n",
      "  -1.0000002e+00  1.0000000e+00  3.5446528e-01  3.6189559e-01\n",
      "   3.7697279e-01  3.9752460e-01  4.3017569e-01  4.8260763e-01\n",
      "   5.6276029e-01  6.8090039e-01  8.4897119e-01  1.0000000e+00]\n",
      " [ 8.1022054e-02  4.8247922e-02  5.4997551e-01  4.1264530e-02\n",
      "  -1.2272763e-01  9.9997592e-01 -4.0596533e-01 -1.0000004e+00\n",
      "   0.0000000e+00  1.1349074e+00  5.0663948e-07  2.5075078e-02\n",
      "  -9.9998975e-01  1.0000000e+00  3.2524690e-01  3.2814798e-01\n",
      "   3.4159350e-01  3.6270177e-01  3.9524773e-01  4.4781542e-01\n",
      "   5.3195220e-01  7.1245801e-01  1.0000000e+00  1.0000000e+00]]\n"
     ]
    },
    {
     "data": {
      "text/plain": [
       "array([ 5.9509367e-02,  2.5702687e-02,  5.3696597e-01, -5.4441798e-03,\n",
       "        1.8686780e-01,  9.9884343e-01, -6.7270041e-01, -9.9980217e-01,\n",
       "        0.0000000e+00,  1.1359957e+00,  2.6330352e-05, -9.8160863e-02,\n",
       "       -8.2328790e-01,  1.0000000e+00,  3.3734119e-01,  3.3890429e-01,\n",
       "        3.5152331e-01,  3.7168124e-01,  4.0349156e-01,  4.5370671e-01,\n",
       "        5.3601521e-01,  6.6819835e-01,  9.1875863e-01,  1.0000000e+00],\n",
       "      dtype=float32)"
      ]
     },
     "execution_count": 31,
     "metadata": {},
     "output_type": "execute_result"
    }
   ],
   "source": [
    "#np.linalg.norm(X)\n",
    "NumNorm = 3\n",
    "norms = np.linalg.norm(X - X[3,:],axis=1)\n",
    "print(norms)\n",
    "closest_points = np.argsort(norms)\n",
    "print(closest_points)\n",
    "print(X[closest_points[1:NumNorm+1]])\n",
    "X[3]\n",
    "\n",
    "# smallest_x = np.sort(np.linalg.norm(X - X[0,:], axis=1))\n"
   ]
  },
  {
   "cell_type": "code",
   "execution_count": 3,
   "metadata": {},
   "outputs": [],
   "source": [
    "# config[\"surrogate\"][\"use_FI\"] = True\n",
    "# config[\"sampler\"][\"num_samples\"] = 60\n",
    "# config[\"FI\"][\"grouping\"] = \"Var_weighted\"\n",
    "# mets = []\n",
    "# for i in range(0,25):\n",
    "#     FI = FeatureImportance(config, Runner.model.network)\n",
    "#     DTMode = LIME(config, Runner, FI_getta=FI)\n",
    "#     #DTMod = LIME(config, Runner)\n",
    "#     DTMode.train()\n",
    "#     mets.append(DTMode.get_metrics())\n",
    "# # DTMode.percent_Correct(print_val=True)\n",
    "# # D = DTMode.surr_model.model.get_dict_representation()\n",
    "# # print(D)\n",
    "# # for i in range(0, 10):\n",
    "# #     DTMode.train()\n",
    "# #     thang.append(DTMode.percent_Correct())\n",
    "# #     print(np.mean(thang), np.var(thang))\n"
   ]
  },
  {
   "cell_type": "code",
   "execution_count": 4,
   "metadata": {},
   "outputs": [
    {
     "name": "stdout",
     "output_type": "stream",
     "text": [
      "Max_avg :  {'Policy_Captured': 4.7586703, 'Uniform_Captured': 129.4437, 'Representation': 1.0, 'Depth': 11, 'Breadth': 4}\n",
      "Var_weighted :  {'Policy_Captured': 5.1761966, 'Uniform_Captured': 129.36089, 'Representation': 1.0, 'Depth': 11, 'Breadth': 4}\n",
      "Max_all :  {'Policy_Captured': 4.3388534, 'Uniform_Captured': 129.36089, 'Representation': 1.0, 'Depth': 11, 'Breadth': 4}\n",
      "NOT using FI:  {'Policy_Captured': 1.7265011, 'Uniform_Captured': 107.68863, 'Representation': 1.0, 'Depth': 7, 'Breadth': 9}\n"
     ]
    }
   ],
   "source": [
    "\n",
    "config[\"surrogate\"][\"use_FI\"] = True\n",
    "config[\"sampler\"][\"num_samples\"] = 20\n",
    "config[\"FI\"][\"grouping\"] = \"Max_avg\"\n",
    "\n",
    "FI = FeatureImportance(config, Runner.model.network)\n",
    "DTMode = LIME(config, Runner, FI_getta=FI)\n",
    "#DTMod = LIME(config, Runner)\n",
    "X,Y = DTMode.sample_set()\n",
    "DTMode.surr_model.fit(X,Y)\n",
    "print(config[\"FI\"][\"grouping\"], \": \", DTMode.get_metrics())\n",
    "\n",
    "config[\"FI\"][\"grouping\"] = \"Var_weighted\"\n",
    "DTMode.surr_model.fit(X,Y)\n",
    "print(config[\"FI\"][\"grouping\"], \": \", DTMode.get_metrics())\n",
    "\n",
    "config[\"FI\"][\"grouping\"] = \"Max_all\"\n",
    "DTMode.surr_model.fit(X,Y)\n",
    "print(config[\"FI\"][\"grouping\"], \": \", DTMode.get_metrics())\n",
    "\n",
    "config[\"surrogate\"][\"use_FI\"] = False\n",
    "config[\"sampler\"][\"num_samples\"] = 20\n",
    "\n",
    "DTMode = LIME(config, Runner)\n",
    "DTMode.surr_model.fit(X,Y)\n",
    "print(\"NOT using FI: \",DTMode.get_metrics())\n"
   ]
  },
  {
   "cell_type": "code",
   "execution_count": null,
   "metadata": {},
   "outputs": [],
   "source": []
  },
  {
   "cell_type": "code",
   "execution_count": null,
   "metadata": {},
   "outputs": [],
   "source": [
    "print(mets)"
   ]
  },
  {
   "cell_type": "code",
   "execution_count": 4,
   "metadata": {},
   "outputs": [
    {
     "name": "stdout",
     "output_type": "stream",
     "text": [
      "23\n"
     ]
    }
   ],
   "source": [
    "print(i)"
   ]
  },
  {
   "cell_type": "code",
   "execution_count": 13,
   "metadata": {},
   "outputs": [
    {
     "name": "stdout",
     "output_type": "stream",
     "text": [
      "{'Policy_Captured': 0.725, 'Uniform_Captured': 0.412, 'Representation': 7.5, 'Depth': 5, 'Breadth': 5}\n"
     ]
    }
   ],
   "source": [
    "config[\"surrogate\"][\"use_FI\"] = False\n",
    "config[\"sampler\"][\"num_samples\"] = 60\n",
    "mets = []\n",
    "for i in range(0,25):\n",
    "    FI = FeatureImportance(config, Runner.model.network)\n",
    "    DTMode = LIME(config, Runner)\n",
    "    #DTMod = LIME(config, Runner)\n",
    "    DTMode.train()\n",
    "    mets.append(DTMode.get_metrics())\n",
    "# DTMode.percent_Correct(print_val=True)\n",
    "# D = DTMode.surr_model.model.get_dict_representation()\n",
    "# print(D)\n",
    "# for i in range(0, 10):\n",
    "#     DTMode.train()\n",
    "#     thang.append(DTMode.percent_Correct())\n",
    "#     print(np.mean(thang), np.var(thang))\n"
   ]
  },
  {
   "cell_type": "code",
   "execution_count": null,
   "metadata": {},
   "outputs": [],
   "source": [
    "def visit_node(node):\n",
    "    "
   ]
  },
  {
   "cell_type": "markdown",
   "metadata": {},
   "source": [
    "ClassForgetting"
   ]
  },
  {
   "cell_type": "code",
   "execution_count": 9,
   "metadata": {},
   "outputs": [
    {
     "name": "stdout",
     "output_type": "stream",
     "text": [
      "0.9 0.0\n",
      "0.7250000000000001 0.030624999999999996\n",
      "0.7800000000000001 0.026466666666666663\n",
      "0.7625000000000001 0.02076875\n",
      "0.7090000000000001 0.028064\n",
      "0.7291666666666666 0.025420138888888888\n",
      "0.745 0.02329285714285714\n",
      "0.764375 0.023008984375\n",
      "0.78 0.022405555555555554\n",
      "0.7925000000000001 0.02157125\n"
     ]
    }
   ],
   "source": [
    "#DTMod = LIME(config, Runner)\n",
    "thang = []\n",
    "for i in range(0, 10):\n",
    "    DTMode.train()\n",
    "    thang.append(DTMode.percent_Correct())\n",
    "    print(np.mean(thang), np.var(thang))"
   ]
  },
  {
   "cell_type": "markdown",
   "metadata": {},
   "source": [
    "what we got"
   ]
  },
  {
   "cell_type": "code",
   "execution_count": 10,
   "metadata": {},
   "outputs": [
    {
     "name": "stdout",
     "output_type": "stream",
     "text": [
      "0.7925000000000001 0.02157125\n"
     ]
    }
   ],
   "source": [
    "thang1 = np.array(thang)\n",
    "print(thang1.mean(), thang1.var())"
   ]
  },
  {
   "cell_type": "markdown",
   "metadata": {},
   "source": [
    "what we beat"
   ]
  },
  {
   "cell_type": "code",
   "execution_count": 11,
   "metadata": {},
   "outputs": [],
   "source": [
    "thang2 = []\n",
    "config[\"surrogate\"][\"use_FI\"] = False\n",
    "DTMod = LIME(config, Runner)\n",
    "\n",
    "for i in range(0, 10):\n",
    "    DTMod.train()\n",
    "    thang2.append(DTMod.percent_Correct())"
   ]
  },
  {
   "cell_type": "code",
   "execution_count": 12,
   "metadata": {},
   "outputs": [
    {
     "name": "stdout",
     "output_type": "stream",
     "text": [
      "0.7064999999999999 0.01735025\n"
     ]
    }
   ],
   "source": [
    "thang2 = np.array(thang2)\n",
    "print(thang2.mean(), thang2.var())"
   ]
  },
  {
   "cell_type": "code",
   "execution_count": 7,
   "metadata": {},
   "outputs": [
    {
     "ename": "NameError",
     "evalue": "name 'thang2' is not defined",
     "output_type": "error",
     "traceback": [
      "\u001b[1;31m---------------------------------------------------------------------------\u001b[0m",
      "\u001b[1;31mNameError\u001b[0m                                 Traceback (most recent call last)",
      "Cell \u001b[1;32mIn[7], line 2\u001b[0m\n\u001b[0;32m      1\u001b[0m \u001b[38;5;28;01mfrom\u001b[39;00m \u001b[38;5;21;01mscipy\u001b[39;00m\u001b[38;5;21;01m.\u001b[39;00m\u001b[38;5;21;01mstats\u001b[39;00m \u001b[38;5;28;01mimport\u001b[39;00m ttest_ind\n\u001b[1;32m----> 2\u001b[0m t_statistic, p_value \u001b[38;5;241m=\u001b[39m ttest_ind(thang1, \u001b[43mthang2\u001b[49m)\n\u001b[0;32m      3\u001b[0m \u001b[38;5;28mprint\u001b[39m(\u001b[38;5;124m\"\u001b[39m\u001b[38;5;124mT-statistic:\u001b[39m\u001b[38;5;124m\"\u001b[39m, t_statistic)\n\u001b[0;32m      4\u001b[0m \u001b[38;5;28mprint\u001b[39m(\u001b[38;5;124m\"\u001b[39m\u001b[38;5;124mP-value:\u001b[39m\u001b[38;5;124m\"\u001b[39m, p_value)\n",
      "\u001b[1;31mNameError\u001b[0m: name 'thang2' is not defined"
     ]
    }
   ],
   "source": [
    "from scipy.stats import ttest_ind\n",
    "t_statistic, p_value = ttest_ind(thang1, thang2)\n",
    "print(\"T-statistic:\", t_statistic)\n",
    "print(\"P-value:\", p_value)"
   ]
  },
  {
   "cell_type": "code",
   "execution_count": 8,
   "metadata": {},
   "outputs": [
    {
     "name": "stdout",
     "output_type": "stream",
     "text": [
      "point tensor([1., 0., 1., 0., 1., 0., 1., 0., 1., 0., 1., 0., 1., 0., 1., 0., 1., 0.,\n",
      "        1., 0., 1., 0., 1., 0.])\n",
      "output tensor([ 1.5826, -7.8118,  2.3578, -2.1897], grad_fn=<ViewBackward0>)\n",
      "relevence [tensor([-0.4360,  0.0032, -0.2563,  0.0032, -0.5618,  0.0032,  0.5331,  0.0032,\n",
      "        -0.1117,  0.0032,  0.4333,  0.0032,  0.4067,  0.0032,  0.5228,  0.0032,\n",
      "         0.7383,  0.0032,  0.0690,  0.0032,  0.5256,  0.0032, -0.3183,  0.0032],\n",
      "       grad_fn=<SqueezeBackward4>), tensor([ 4.6117, -0.0781,  0.9442, -0.0781,  5.6282, -0.0781, -3.1760, -0.0781,\n",
      "         1.1894, -0.0781, -3.2217, -0.0781, -2.6642, -0.0781, -2.1719, -0.0781,\n",
      "        -5.1672, -0.0781, -1.4828, -0.0781, -4.0037, -0.0781,  2.6397, -0.0781],\n",
      "       grad_fn=<SqueezeBackward4>), tensor([-0.3696,  0.0232, -0.4396,  0.0232, -0.2606,  0.0232,  0.5377,  0.0232,\n",
      "        -0.0442,  0.0232,  0.3225,  0.0232,  0.5381,  0.0232,  0.5866,  0.0232,\n",
      "         0.5562,  0.0232,  0.2230,  0.0232,  0.6054,  0.0232, -0.1759,  0.0232],\n",
      "       grad_fn=<SqueezeBackward4>), tensor([ 0.1482, -0.0682,  0.4759, -0.0682, -0.4539, -0.0682, -0.0387, -0.0682,\n",
      "        -0.0717, -0.0682,  0.1460, -0.0682, -0.4835, -0.0682, -0.0870, -0.0682,\n",
      "         0.3420, -0.0682, -0.6508, -0.0682, -0.4466, -0.0682, -0.2513, -0.0682],\n",
      "       grad_fn=<SqueezeBackward4>)]\n"
     ]
    }
   ],
   "source": [
    "\n",
    "out, matrix = FI.Calc_Feature_Importance(torch.tensor([1.,0.,1.,0.,1.,0.,1.,0.,1.,0.,1.,0.,1.,0.,1.,0.,1.,0.,1.,0.,1.,0.,1.,0.,]), printer=True)"
   ]
  },
  {
   "cell_type": "code",
   "execution_count": 6,
   "metadata": {},
   "outputs": [
    {
     "ename": "ValueError",
     "evalue": "setting an array element with a sequence. The requested array has an inhomogeneous shape after 3 dimensions. The detected shape was (2, 10, 4) + inhomogeneous part.",
     "output_type": "error",
     "traceback": [
      "\u001b[1;31m---------------------------------------------------------------------------\u001b[0m",
      "\u001b[1;31mValueError\u001b[0m                                Traceback (most recent call last)",
      "Cell \u001b[1;32mIn[6], line 3\u001b[0m\n\u001b[0;32m      1\u001b[0m X,Y\u001b[38;5;241m=\u001b[39mDTMode\u001b[38;5;241m.\u001b[39msample_set()\n\u001b[0;32m      2\u001b[0m FI \u001b[38;5;241m=\u001b[39m FI\u001b[38;5;241m.\u001b[39mRelevence(X)\n\u001b[1;32m----> 3\u001b[0m FI \u001b[38;5;241m=\u001b[39m \u001b[43mnp\u001b[49m\u001b[38;5;241;43m.\u001b[39;49m\u001b[43mabs\u001b[49m\u001b[43m(\u001b[49m\u001b[43mFI\u001b[49m\u001b[43m)\u001b[49m\n",
      "\u001b[1;31mValueError\u001b[0m: setting an array element with a sequence. The requested array has an inhomogeneous shape after 3 dimensions. The detected shape was (2, 10, 4) + inhomogeneous part."
     ]
    }
   ],
   "source": []
  },
  {
   "cell_type": "code",
   "execution_count": 1,
   "metadata": {},
   "outputs": [
    {
     "ename": "NameError",
     "evalue": "name 'FI' is not defined",
     "output_type": "error",
     "traceback": [
      "\u001b[1;31m---------------------------------------------------------------------------\u001b[0m",
      "\u001b[1;31mNameError\u001b[0m                                 Traceback (most recent call last)",
      "Cell \u001b[1;32mIn[1], line 1\u001b[0m\n\u001b[1;32m----> 1\u001b[0m \u001b[38;5;28mprint\u001b[39m(\u001b[43mFI\u001b[49m\u001b[38;5;241m.\u001b[39mshape)\n",
      "\u001b[1;31mNameError\u001b[0m: name 'FI' is not defined"
     ]
    }
   ],
   "source": [
    "print(FI.shape)"
   ]
  },
  {
   "cell_type": "code",
   "execution_count": 1,
   "metadata": {},
   "outputs": [
    {
     "ename": "NameError",
     "evalue": "name 'matrix' is not defined",
     "output_type": "error",
     "traceback": [
      "\u001b[1;31m---------------------------------------------------------------------------\u001b[0m",
      "\u001b[1;31mNameError\u001b[0m                                 Traceback (most recent call last)",
      "Cell \u001b[1;32mIn[1], line 1\u001b[0m\n\u001b[1;32m----> 1\u001b[0m \u001b[43mmatrix\u001b[49m\n",
      "\u001b[1;31mNameError\u001b[0m: name 'matrix' is not defined"
     ]
    }
   ],
   "source": [
    "import pandas as pd\n",
    "\n",
    "columns = pd.MultiIndex.from_product([config[\"picture\"][\"class_names\"], config[\"picture\"][\"labels\"]], names=['OutLogit', 'InLogit'])\n",
    "\n",
    "# Reshape the data to (60, 8) to match the multi-level column structure\n",
    "reshaped_data = FI.reshape(FI.shape[0], -1)\n",
    "\n",
    "# Create the DataFrame\n",
    "FI = pd.DataFrame(reshaped_data, columns=columns)\n",
    "out = pd.DataFrame(out, columns=config[\"picture\"][\"class_names\"])"
   ]
  },
  {
   "cell_type": "code",
   "execution_count": 3,
   "metadata": {},
   "outputs": [],
   "source": [
    "DT = LIME(config, Runner)"
   ]
  },
  {
   "cell_type": "code",
   "execution_count": null,
   "metadata": {},
   "outputs": [],
   "source": [
    "def print_activation(layer, input, output):\n",
    "    print(f\"Layer: {layer}, Activation Output: {output}\")\n",
    "\n",
    "# Register hooks to each layer\n",
    "for layer in model.children():\n",
    "    layer.register_forward_hook(print_activation)\n",
    "\n",
    "# Dummy input to pass through the model\n",
    "dummy_input = torch.randn(1, 10)  # Adjust size to match input layer\n",
    "model(dummy_input)"
   ]
  },
  {
   "cell_type": "code",
   "execution_count": 5,
   "metadata": {},
   "outputs": [
    {
     "data": {
      "text/plain": [
       "tensor([[-53.5020,  57.9378]], grad_fn=<AddmmBackward0>)"
      ]
     },
     "execution_count": 5,
     "metadata": {},
     "output_type": "execute_result"
    }
   ],
   "source": [
    "Runner.model.network.forward(torch.tensor([[4.,4.,4.,4.,]]))\n"
   ]
  },
  {
   "cell_type": "code",
   "execution_count": 14,
   "metadata": {},
   "outputs": [
    {
     "name": "stdout",
     "output_type": "stream",
     "text": [
      "60\n"
     ]
    }
   ],
   "source": [
    "X,Y = DT.train(returner=True)\n"
   ]
  },
  {
   "cell_type": "code",
   "execution_count": 15,
   "metadata": {},
   "outputs": [
    {
     "data": {
      "text/plain": [
       "1.1668402"
      ]
     },
     "execution_count": 15,
     "metadata": {},
     "output_type": "execute_result"
    }
   ],
   "source": [
    "DT.percent_Correct(print_val=True)\n"
   ]
  },
  {
   "cell_type": "code",
   "execution_count": 16,
   "metadata": {},
   "outputs": [
    {
     "data": {
      "text/plain": [
       "111.059525"
      ]
     },
     "execution_count": 16,
     "metadata": {},
     "output_type": "execute_result"
    }
   ],
   "source": [
    "DT.uniform_Correct(print_val=True)"
   ]
  },
  {
   "cell_type": "code",
   "execution_count": 9,
   "metadata": {},
   "outputs": [
    {
     "name": "stdout",
     "output_type": "stream",
     "text": [
      "10\n"
     ]
    },
    {
     "data": {
      "text/plain": [
       "{'Feature': 'Hip Joint 1 Speed',\n",
       " 'Bucket': 0.5963983535766602,\n",
       " 'Left_Child': {'Feature': 'Knee Joint 1 Angle',\n",
       "  'Bucket': -0.16023868322372437,\n",
       "  'Left_Child': {'Feature': 'Knee Joint 2 Angle',\n",
       "   'Bucket': -0.030735313892364502,\n",
       "   'Left_Child': {'Feature': 'Velocity X',\n",
       "    'Bucket': 0.5160324573516846,\n",
       "    'Left_Child': {'Feature': 'Hull Angle',\n",
       "     'Bucket': -0.06656686216592789,\n",
       "     'Left_Child': {'Value': array([-2.6837106 , -0.3007074 ,  1.4836516 ,  0.03225509], dtype=float32)},\n",
       "     'Right_Child': {'Feature': 'Hull Angle',\n",
       "      'Bucket': 0.0036161281168460846,\n",
       "      'Left_Child': {'Value': array([-2.7936342 ,  2.177329  ,  1.6616061 ,  0.34213853], dtype=float32)},\n",
       "      'Right_Child': {'Value': array([-1.1121528,  2.3536325,  2.649001 ,  1.4963849], dtype=float32)}}},\n",
       "    'Right_Child': {'Feature': 'Hull Angle',\n",
       "     'Bucket': 0.08883405476808548,\n",
       "     'Left_Child': {'Feature': 'Hull Angle',\n",
       "      'Bucket': 0.06528535485267639,\n",
       "      'Left_Child': {'Value': array([-3.0090125,  3.9876125,  2.7920856,  3.433811 ], dtype=float32)},\n",
       "      'Right_Child': {'Value': array([-2.6185105,  4.7593265,  3.1373556,  2.6056008], dtype=float32)}},\n",
       "     'Right_Child': {'Feature': 'Hull Angular Velocity',\n",
       "      'Bucket': 0.0020087372977286577,\n",
       "      'Left_Child': {'Value': array([-1.9478871,  5.3747716,  1.661798 ,  2.3555088], dtype=float32)},\n",
       "      'Right_Child': {'Value': array([-1.8879911,  5.2898455,  1.324734 ,  1.2948227], dtype=float32)}}}},\n",
       "   'Right_Child': {'Feature': 'Knee Joint 2 Angle',\n",
       "    'Bucket': 0.31330421566963196,\n",
       "    'Left_Child': {'Feature': 'Hip Joint 1 Speed',\n",
       "     'Bucket': 0.3045932352542877,\n",
       "     'Left_Child': {'Feature': 'Hull Angular Velocity',\n",
       "      'Bucket': 0.007093457505106926,\n",
       "      'Left_Child': {'Feature': 'Velocity X',\n",
       "       'Bucket': 0.43296512961387634,\n",
       "       'Left_Child': {'Value': array([ 0.8246374 ,  3.2931554 ,  0.5716379 , -0.03342189], dtype=float32)},\n",
       "       'Right_Child': {'Feature': 'Hull Angle',\n",
       "        'Bucket': 0.09451521933078766,\n",
       "        'Left_Child': {'Value': array([-1.0770402 ,  3.365179  ,  0.8513497 ,  0.89769626], dtype=float32)},\n",
       "        'Right_Child': {'Feature': 'Hull Angle',\n",
       "         'Bucket': 0.1705131232738495,\n",
       "         'Left_Child': {'Value': array([-1.3248394 ,  3.4371514 ,  0.48689187, -0.0090626 ], dtype=float32)},\n",
       "         'Right_Child': {'Value': array([-0.2160264 ,  3.9172466 ,  0.62016636,  0.18807071], dtype=float32)}}}},\n",
       "      'Right_Child': {'Feature': 'Velocity X',\n",
       "       'Bucket': 0.6165363788604736,\n",
       "       'Left_Child': {'Feature': 'Hull Angle',\n",
       "        'Bucket': 0.1647161841392517,\n",
       "        'Left_Child': {'Feature': 'Velocity Y',\n",
       "         'Bucket': -0.009581604972481728,\n",
       "         'Left_Child': {'Value': array([-1.4468095 ,  5.2838526 ,  0.64700735, -0.0098715 ], dtype=float32)},\n",
       "         'Right_Child': {'Value': array([-1.771191 ,  4.4561644,  1.1669855,  0.7286329], dtype=float32)}},\n",
       "        'Right_Child': {'Value': array([0.06914833, 5.1806583 , 1.5051614 , 0.8026921 ], dtype=float32)}},\n",
       "       'Right_Child': {'Value': array([-0.36152208,  3.1563852 ,  1.724211  ,  0.919069  ], dtype=float32)}}},\n",
       "     'Right_Child': {'Value': array([-1.2416124 ,  0.84076166,  0.20040627, -0.03113984], dtype=float32)}},\n",
       "    'Right_Child': {'Feature': 'Hull Angular Velocity',\n",
       "     'Bucket': -0.008870475925505161,\n",
       "     'Left_Child': {'Feature': 'Hull Angle',\n",
       "      'Bucket': 0.03760876506567001,\n",
       "      'Left_Child': {'Value': array([-0.27107087,  3.1522686 ,  0.32134032, -0.6599999 ], dtype=float32)},\n",
       "      'Right_Child': {'Value': array([ 0.5595882 ,  3.41009   ,  0.26377434, -0.8316344 ], dtype=float32)}},\n",
       "     'Right_Child': {'Value': array([-0.35390964,  4.282951  ,  0.4495526 , -0.1998241 ], dtype=float32)}}}},\n",
       "  'Right_Child': {'Feature': 'Velocity X',\n",
       "   'Bucket': 0.3043457865715027,\n",
       "   'Left_Child': {'Feature': 'Hull Angle',\n",
       "    'Bucket': 0.018499799072742462,\n",
       "    'Left_Child': {'Value': array([-2.041147  ,  1.0869012 ,  1.4263769 ,  0.39315844], dtype=float32)},\n",
       "    'Right_Child': {'Value': array([-0.04954089,  2.680031  ,  2.158829  ,  0.7317949 ], dtype=float32)}},\n",
       "   'Right_Child': {'Feature': 'Knee Joint 2 Speed',\n",
       "    'Bucket': 0.06824848055839539,\n",
       "    'Left_Child': {'Feature': 'Hull Angle',\n",
       "     'Bucket': 0.08107946813106537,\n",
       "     'Left_Child': {'Value': array([ 2.3126628, -0.7289753,  2.2507985, -1.036759 ], dtype=float32)},\n",
       "     'Right_Child': {'Feature': 'Hip Joint 1 Angle',\n",
       "      'Bucket': -0.5404282212257385,\n",
       "      'Left_Child': {'Value': array([ 2.125768  , -0.08834416,  1.5716262 ,  0.0161556 ], dtype=float32)},\n",
       "      'Right_Child': {'Value': array([ 1.6668248 , -0.9147935 ,  1.5232469 , -0.09811676], dtype=float32)}}},\n",
       "    'Right_Child': {'Feature': 'Hull Angular Velocity',\n",
       "     'Bucket': -0.02112334407866001,\n",
       "     'Left_Child': {'Feature': 'Hull Angle',\n",
       "      'Bucket': 0.0639035701751709,\n",
       "      'Left_Child': {'Value': array([ 2.3367393 , -0.47209376,  0.12325256, -2.1148708 ], dtype=float32)},\n",
       "      'Right_Child': {'Value': array([ 1.6766171 , -1.1251912 ,  0.41227192, -1.007625  ], dtype=float32)}},\n",
       "     'Right_Child': {'Value': array([ 0.7839235 ,  1.0018393 ,  0.5351864 , -0.47114623], dtype=float32)}}}}},\n",
       " 'Right_Child': {'Feature': 'Knee Joint 2 Angle',\n",
       "  'Bucket': -0.038002192974090576,\n",
       "  'Left_Child': {'Feature': 'Knee Joint 1 Speed',\n",
       "   'Bucket': -1.6235809326171875,\n",
       "   'Left_Child': {'Value': array([ 1.09812   , -0.300008  ,  3.472574  ,  0.82174706], dtype=float32)},\n",
       "   'Right_Child': {'Feature': 'Hip Joint 1 Angle',\n",
       "    'Bucket': 0.16910219192504883,\n",
       "    'Left_Child': {'Feature': 'Hull Angle',\n",
       "     'Bucket': 0.05188116431236267,\n",
       "     'Left_Child': {'Value': array([ 2.0861263, -1.0851208,  2.2254283,  1.3086782], dtype=float32)},\n",
       "     'Right_Child': {'Feature': 'Hull Angle',\n",
       "      'Bucket': 0.13687929511070251,\n",
       "      'Left_Child': {'Value': array([ 1.2994057 ,  0.0400638 ,  0.6854751 , -0.21317548], dtype=float32)},\n",
       "      'Right_Child': {'Value': array([1.4078789 , 0.40274417, 1.6485914 , 0.4759732 ], dtype=float32)}}},\n",
       "    'Right_Child': {'Feature': 'Hull Angular Velocity',\n",
       "     'Bucket': 0.03298252820968628,\n",
       "     'Left_Child': {'Feature': 'Velocity X',\n",
       "      'Bucket': 0.5561239719390869,\n",
       "      'Left_Child': {'Feature': 'Hull Angle',\n",
       "       'Bucket': 0.09527727961540222,\n",
       "       'Left_Child': {'Value': array([-0.44803   , -0.4689806 ,  1.3043483 ,  0.87149715], dtype=float32)},\n",
       "       'Right_Child': {'Value': array([-0.76848346,  0.46340767,  1.9784485 ,  0.6928851 ], dtype=float32)}},\n",
       "      'Right_Child': {'Value': array([ 0.6079275, -0.4827798,  1.6499429, -0.4513142], dtype=float32)}},\n",
       "     'Right_Child': {'Value': array([0.32428414, 0.10525259, 2.5839238 , 1.4436276 ], dtype=float32)}}}},\n",
       "  'Right_Child': {'Feature': 'Hull Angle',\n",
       "   'Bucket': -0.011715803295373917,\n",
       "   'Left_Child': {'Feature': 'Hull Angle',\n",
       "    'Bucket': -0.07545065879821777,\n",
       "    'Left_Child': {'Value': array([ 1.1667321 , -1.1250442 ,  1.0476003 , -0.36452827], dtype=float32)},\n",
       "    'Right_Child': {'Feature': 'Hull Angular Velocity',\n",
       "     'Bucket': 0.0014051017351448536,\n",
       "     'Left_Child': {'Value': array([ 0.6076522 , -0.53690565, -0.33608812, -1.1650486 ], dtype=float32)},\n",
       "     'Right_Child': {'Value': array([ 1.7481081 ,  0.3352159 ,  0.00836074, -1.3144885 ], dtype=float32)}}},\n",
       "   'Right_Child': {'Feature': 'Hull Angular Velocity',\n",
       "    'Bucket': -0.04825957491993904,\n",
       "    'Left_Child': {'Value': array([ 3.7345831 , -1.3958199 ,  0.10651319, -2.5357013 ], dtype=float32)},\n",
       "    'Right_Child': {'Feature': 'Hull Angle',\n",
       "     'Bucket': 0.08457480370998383,\n",
       "     'Left_Child': {'Value': array([ 2.6188083 , -0.98940027,  2.0914488 ,  0.12370388], dtype=float32)},\n",
       "     'Right_Child': {'Value': array([ 3.130581 , -1.10854  ,  1.0923562, -0.9122672], dtype=float32)}}}}}}"
      ]
     },
     "execution_count": 9,
     "metadata": {},
     "output_type": "execute_result"
    }
   ],
   "source": [
    "print(DT.surr_model.model.max_depth)\n",
    "DT.surr_model.model.get_dict_representation()"
   ]
  },
  {
   "cell_type": "code",
   "execution_count": 9,
   "metadata": {},
   "outputs": [
    {
     "data": {
      "text/plain": [
       "array([ 0.74338526,  1.4490379 ,  1.0475755 , -0.23259966], dtype=float32)"
      ]
     },
     "execution_count": 9,
     "metadata": {},
     "output_type": "execute_result"
    }
   ],
   "source": [
    "np.mean(Y, axis=0)"
   ]
  },
  {
   "cell_type": "code",
   "execution_count": null,
   "metadata": {},
   "outputs": [],
   "source": [
    "from scipy.spatial.distance import pdist\n",
    "import pandas as pd\n",
    "Y = pd.DataFrame(Y, columns=config[\"picture\"][\"class_names\"])\n",
    "np.mean(pdist(Y.values, metric=\"euclidean\"))"
   ]
  },
  {
   "cell_type": "code",
   "execution_count": 9,
   "metadata": {},
   "outputs": [],
   "source": [
    "import pandas as pd\n",
    "Y = np.array([[1., 4.2, 3.3]])\n",
    "Y = pd.DataFrame(Y, columns = [\"hit1\", \"hit2\", \"hit3\"])"
   ]
  },
  {
   "cell_type": "code",
   "execution_count": null,
   "metadata": {},
   "outputs": [],
   "source": [
    "from scipy.spatial.distance import pdist\n",
    "\n",
    "np.mean(pdist(Y.values, metric=\"euclidean\"))"
   ]
  },
  {
   "cell_type": "code",
   "execution_count": 31,
   "metadata": {},
   "outputs": [],
   "source": [
    "a = torch.tensor([1., 2., 3.])\n",
    "W = torch.tensor([[2., 3.,],[2., 3.,],[2., 3.,]])\n",
    "b = torch.tensor([.5,.6])"
   ]
  },
  {
   "cell_type": "code",
   "execution_count": 32,
   "metadata": {},
   "outputs": [
    {
     "name": "stdout",
     "output_type": "stream",
     "text": [
      "torch.Size([3]) torch.Size([3, 2]) torch.Size([2])\n"
     ]
    }
   ],
   "source": [
    "print(a.shape, W.shape, b.shape)"
   ]
  },
  {
   "cell_type": "code",
   "execution_count": 33,
   "metadata": {},
   "outputs": [
    {
     "ename": "RuntimeError",
     "evalue": "The size of tensor a (3) must match the size of tensor b (2) at non-singleton dimension 1",
     "output_type": "error",
     "traceback": [
      "\u001b[1;31m---------------------------------------------------------------------------\u001b[0m",
      "\u001b[1;31mRuntimeError\u001b[0m                              Traceback (most recent call last)",
      "Cell \u001b[1;32mIn[33], line 1\u001b[0m\n\u001b[1;32m----> 1\u001b[0m \u001b[43ma\u001b[49m\u001b[38;5;241;43m*\u001b[39;49m\u001b[43mW\u001b[49m\n",
      "\u001b[1;31mRuntimeError\u001b[0m: The size of tensor a (3) must match the size of tensor b (2) at non-singleton dimension 1"
     ]
    }
   ],
   "source": [
    "a*W"
   ]
  },
  {
   "cell_type": "code",
   "execution_count": 34,
   "metadata": {},
   "outputs": [
    {
     "data": {
      "text/plain": [
       "tensor([12.5000, 18.6000])"
      ]
     },
     "execution_count": 34,
     "metadata": {},
     "output_type": "execute_result"
    }
   ],
   "source": [
    "a@W+b"
   ]
  },
  {
   "cell_type": "code",
   "execution_count": 35,
   "metadata": {},
   "outputs": [
    {
     "name": "stdout",
     "output_type": "stream",
     "text": [
      "tensor([2.5000, 4.5000, 6.5000])\n",
      "tensor([3.6000, 6.6000, 9.6000])\n",
      "tensor([13.5000, 19.8000]) tensor([[2.5000, 4.5000, 6.5000],\n",
      "        [3.6000, 6.6000, 9.6000]])\n"
     ]
    }
   ],
   "source": [
    "norm = []\n",
    "CorVec = []\n",
    "for i in range(len(b)):\n",
    "    tmp = a*W[:,i] + b[i]\n",
    "    norm.append(tmp.sum())\n",
    "    CorVec.append(tmp)\n",
    "    print(a*W[:,i] + b[i])\n",
    "norm = torch.stack(norm)\n",
    "CorVec = torch.stack(CorVec)\n",
    "print(norm, CorVec)"
   ]
  },
  {
   "cell_type": "code",
   "execution_count": 36,
   "metadata": {},
   "outputs": [],
   "source": [
    "norm += 1e-9"
   ]
  },
  {
   "cell_type": "code",
   "execution_count": 37,
   "metadata": {},
   "outputs": [],
   "source": [
    "obj = torch.relu(a@W+b)"
   ]
  },
  {
   "cell_type": "code",
   "execution_count": 38,
   "metadata": {},
   "outputs": [
    {
     "data": {
      "text/plain": [
       "tensor([12.5000, 18.6000])"
      ]
     },
     "execution_count": 38,
     "metadata": {},
     "output_type": "execute_result"
    }
   ],
   "source": [
    "obj"
   ]
  },
  {
   "cell_type": "code",
   "execution_count": 39,
   "metadata": {},
   "outputs": [],
   "source": [
    "normalized_CorVec = CorVec / norm.unsqueeze(1)"
   ]
  },
  {
   "cell_type": "code",
   "execution_count": 40,
   "metadata": {},
   "outputs": [
    {
     "data": {
      "text/plain": [
       "tensor([[0.1852, 0.3333, 0.4815],\n",
       "        [0.1818, 0.3333, 0.4848]])"
      ]
     },
     "execution_count": 40,
     "metadata": {},
     "output_type": "execute_result"
    }
   ],
   "source": [
    "normalized_CorVec"
   ]
  },
  {
   "cell_type": "code",
   "execution_count": 41,
   "metadata": {},
   "outputs": [
    {
     "name": "stdout",
     "output_type": "stream",
     "text": [
      "tensor([ 5.6966, 10.3667, 15.0367])\n"
     ]
    }
   ],
   "source": [
    "out = obj @ normalized_CorVec\n",
    "print(out)"
   ]
  },
  {
   "cell_type": "code",
   "execution_count": null,
   "metadata": {},
   "outputs": [],
   "source": []
  }
 ],
 "metadata": {
  "kernelspec": {
   "display_name": "XAI_RL",
   "language": "python",
   "name": "python3"
  },
  "language_info": {
   "codemirror_mode": {
    "name": "ipython",
    "version": 3
   },
   "file_extension": ".py",
   "mimetype": "text/x-python",
   "name": "python",
   "nbconvert_exporter": "python",
   "pygments_lexer": "ipython3",
   "version": "3.8.19"
  }
 },
 "nbformat": 4,
 "nbformat_minor": 2
}
