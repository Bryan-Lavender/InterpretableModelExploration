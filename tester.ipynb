{
 "cells": [
  {
   "cell_type": "code",
   "execution_count": 1,
   "metadata": {},
   "outputs": [
    {
     "name": "stdout",
     "output_type": "stream",
     "text": [
      "device:  cpu\n"
     ]
    }
   ],
   "source": [
    "import yaml\n",
    "import argparse\n",
    "import os\n",
    "import sys\n",
    "import numpy as np\n",
    "import torch\n",
    "import gym\n",
    "import matplotlib\n",
    "import matplotlib.pyplot as plt\n",
    "import unittest\n",
    "from DeepLearning_Models.utils.general import join, plot_combined\n",
    "from DeepLearning_Models.ActorCritic.policy_gradient import PolicyGradient\n",
    "from EnvRunner import GymRunner\n",
    "from Explanations_Models.DT_LIME.LIME import LIME\n",
    "from Explanations_Models.DT_LIME.sampling_methods import Uniform_Sampler\n",
    "import json\n",
    "from ExplanationRunner import MetricGetter\n",
    "yaml.add_constructor(\"!join\", join)\n",
    "config = yaml.load(open(\"config_envs/cartpole.yml\"), Loader= yaml.FullLoader)\n",
    "config.update(yaml.load(open(\"config_explanations/TESTER.yml\"), Loader= yaml.FullLoader))\n",
    "Runner = GymRunner(config)\n",
    "Runner.load_weights()\n",
    "MG = MetricGetter(config, Runner)"
   ]
  },
  {
   "cell_type": "code",
   "execution_count": 2,
   "metadata": {},
   "outputs": [],
   "source": [
    "thing = MG.sample_rate()\n",
    "\n"
   ]
  },
  {
   "cell_type": "code",
   "execution_count": 3,
   "metadata": {},
   "outputs": [
    {
     "name": "stdout",
     "output_type": "stream",
     "text": [
      "{'3': {'PercentCorrect': [0.88, 0.495, 0.495, 0.51, 0.855], 'EpisodeDistance': [0.09867910295724869, 0.7760151028633118, 0.6228576302528381, 0.8617138266563416, 0.8202632665634155], 'Episode_Length_Distance': [0, 0, 0, 0, 0], 'Depth': [1, 0, 0, 1, 1], 'Breadth': [2, 1, 1, 2, 2], 'TopSplits': ['angle_vel', 'angle', 'angle', 'angle', 'angle_vel'], 'Path': 'SavedTrees/Policy/gini/3/tree_4.pkl'}, '5': {'PercentCorrect': [0.5, 0.84, 0.745, 0.495, 0.51], 'EpisodeDistance': [1.1155929565429688, 0.21740132570266724, 0.24682459235191345, 0.7213442921638489, 0.7014747262001038], 'Episode_Length_Distance': [0, 0, 0, 0, 0], 'Depth': [1, 1, 1, 0, 1], 'Breadth': [2, 2, 2, 1, 2], 'TopSplits': ['angle', 'angle_vel', 'vel', 'angle', 'x'], 'Path': 'SavedTrees/Policy/gini/5/tree_4.pkl'}, '10': {'PercentCorrect': [0.95, 0.78, 0.905, 0.905, 0.755], 'EpisodeDistance': [0.8620252013206482, 0.32922300696372986, 0.2525949478149414, 0.19113433361053467, 0.1255502551794052], 'Episode_Length_Distance': [0, 0, 0, 0, 0], 'Depth': [3, 2, 1, 1, 3], 'Breadth': [2, 2, 2, 2, 2], 'TopSplits': ['angle_vel', 'angle_vel', 'angle_vel', 'angle_vel', 'vel'], 'Path': 'SavedTrees/Policy/gini/10/tree_4.pkl'}}\n"
     ]
    }
   ],
   "source": [
    "print(thing)"
   ]
  },
  {
   "cell_type": "code",
   "execution_count": 4,
   "metadata": {},
   "outputs": [
    {
     "name": "stdout",
     "output_type": "stream",
     "text": [
      "<class 'dict'>\n"
     ]
    }
   ],
   "source": [
    "print(type(thing))"
   ]
  },
  {
   "cell_type": "code",
   "execution_count": 16,
   "metadata": {},
   "outputs": [
    {
     "name": "stdout",
     "output_type": "stream",
     "text": [
      "[0.51, 0.495, 0.74, 0.51, 0.9]\n",
      "<class 'numpy.float64'>\n",
      "<class 'numpy.float64'>\n",
      "<class 'numpy.float64'>\n",
      "<class 'numpy.float64'>\n",
      "<class 'numpy.float64'>\n",
      "[0.99973714, 0.77664727, 0.10023394, 0.62364614, 0.12209195]\n",
      "<class 'numpy.float32'>\n",
      "<class 'numpy.float32'>\n",
      "<class 'numpy.float32'>\n",
      "<class 'numpy.float32'>\n",
      "<class 'numpy.float32'>\n",
      "[0, 0, 0, 0, 0]\n",
      "<class 'int'>\n",
      "<class 'int'>\n",
      "<class 'int'>\n",
      "<class 'int'>\n",
      "<class 'int'>\n",
      "[0, 0, 1, 1, 1]\n",
      "<class 'int'>\n",
      "<class 'int'>\n",
      "<class 'int'>\n",
      "<class 'int'>\n",
      "<class 'int'>\n",
      "[1, 1, 2, 2, 2]\n",
      "<class 'int'>\n",
      "<class 'int'>\n",
      "<class 'int'>\n",
      "<class 'int'>\n",
      "<class 'int'>\n",
      "['angle', 'angle', 'vel', 'angle', 'angle_vel']\n",
      "<class 'str'>\n",
      "<class 'str'>\n",
      "<class 'str'>\n",
      "<class 'str'>\n",
      "<class 'str'>\n",
      "[0.81, 0.805, 0.885, 0.865, 0.875]\n",
      "<class 'numpy.float64'>\n",
      "<class 'numpy.float64'>\n",
      "<class 'numpy.float64'>\n",
      "<class 'numpy.float64'>\n",
      "<class 'numpy.float64'>\n",
      "[0.15928325, 0.06263796, 0.08045942, 0.6393279, 0.2653419]\n",
      "<class 'numpy.float32'>\n",
      "<class 'numpy.float32'>\n",
      "<class 'numpy.float32'>\n",
      "<class 'numpy.float32'>\n",
      "<class 'numpy.float32'>\n",
      "[0, 0, 0, 0, 0]\n",
      "<class 'int'>\n",
      "<class 'int'>\n",
      "<class 'int'>\n",
      "<class 'int'>\n",
      "<class 'int'>\n",
      "[1, 1, 1, 1, 1]\n",
      "<class 'int'>\n",
      "<class 'int'>\n",
      "<class 'int'>\n",
      "<class 'int'>\n",
      "<class 'int'>\n",
      "[2, 2, 2, 2, 2]\n",
      "<class 'int'>\n",
      "<class 'int'>\n",
      "<class 'int'>\n",
      "<class 'int'>\n",
      "<class 'int'>\n",
      "['vel', 'angle_vel', 'angle_vel', 'angle_vel', 'angle_vel']\n",
      "<class 'str'>\n",
      "<class 'str'>\n",
      "<class 'str'>\n",
      "<class 'str'>\n",
      "<class 'str'>\n",
      "[0.67, 0.825, 0.57, 0.795, 0.915]\n",
      "<class 'numpy.float64'>\n",
      "<class 'numpy.float64'>\n",
      "<class 'numpy.float64'>\n",
      "<class 'numpy.float64'>\n",
      "<class 'numpy.float64'>\n",
      "[0.5879315, 0.08633856, 0.8620778, 0.13133605, 0.9151823]\n",
      "<class 'numpy.float32'>\n",
      "<class 'numpy.float32'>\n",
      "<class 'numpy.float32'>\n",
      "<class 'numpy.float32'>\n",
      "<class 'numpy.float32'>\n",
      "[0, 0, 0, 0, 0]\n",
      "<class 'int'>\n",
      "<class 'int'>\n",
      "<class 'int'>\n",
      "<class 'int'>\n",
      "<class 'int'>\n",
      "[2, 1, 2, 3, 1]\n",
      "<class 'int'>\n",
      "<class 'int'>\n",
      "<class 'int'>\n",
      "<class 'int'>\n",
      "<class 'int'>\n",
      "[2, 2, 2, 2, 2]\n",
      "<class 'int'>\n",
      "<class 'int'>\n",
      "<class 'int'>\n",
      "<class 'int'>\n",
      "<class 'int'>\n",
      "['angle_vel', 'angle_vel', 'x', 'angle_vel', 'angle_vel']\n",
      "<class 'str'>\n",
      "<class 'str'>\n",
      "<class 'str'>\n",
      "<class 'str'>\n",
      "<class 'str'>\n"
     ]
    }
   ],
   "source": [
    "for i in thing.keys():\n",
    "    for j in thing[i].keys():\n",
    "        if type(thing[i][j]) == list:\n",
    "            print(thing[i][j])\n",
    "            for k in range(len(thing[i][j])):\n",
    "                print(type(thing[i][j][k]))"
   ]
  },
  {
   "cell_type": "code",
   "execution_count": 5,
   "metadata": {},
   "outputs": [
    {
     "data": {
      "text/plain": [
       "'MetricFiles/CartPole-v1/Policy/gini.json'"
      ]
     },
     "execution_count": 5,
     "metadata": {},
     "output_type": "execute_result"
    }
   ],
   "source": [
    "MG.Saver(thing)"
   ]
  },
  {
   "cell_type": "code",
   "execution_count": 11,
   "metadata": {},
   "outputs": [],
   "source": [
    "thing = LIME(config, Runner)\n",
    "thing.surr_model.Load(filename= \"tree_4.pkl\", path=\"SavedTrees/Policy/gini/3\")"
   ]
  },
  {
   "cell_type": "code",
   "execution_count": 12,
   "metadata": {},
   "outputs": [],
   "source": [
    "thing.surr_model.display_tree()"
   ]
  },
  {
   "cell_type": "code",
   "execution_count": 6,
   "metadata": {},
   "outputs": [
    {
     "data": {
      "text/plain": [
       "{'3': {'PercentCorrect': [0.88, 0.495, 0.495, 0.51, 0.855],\n",
       "  'EpisodeDistance': [0.09867910295724869,\n",
       "   0.7760151028633118,\n",
       "   0.6228576302528381,\n",
       "   0.8617138266563416,\n",
       "   0.8202632665634155],\n",
       "  'Episode_Length_Distance': [0, 0, 0, 0, 0],\n",
       "  'Depth': [1, 0, 0, 1, 1],\n",
       "  'Breadth': [2, 1, 1, 2, 2],\n",
       "  'TopSplits': ['angle_vel', 'angle', 'angle', 'angle', 'angle_vel'],\n",
       "  'Path': 'SavedTrees/Policy/gini/3/tree_4.pkl'},\n",
       " '5': {'PercentCorrect': [0.5, 0.84, 0.745, 0.495, 0.51],\n",
       "  'EpisodeDistance': [1.1155929565429688,\n",
       "   0.21740132570266724,\n",
       "   0.24682459235191345,\n",
       "   0.7213442921638489,\n",
       "   0.7014747262001038],\n",
       "  'Episode_Length_Distance': [0, 0, 0, 0, 0],\n",
       "  'Depth': [1, 1, 1, 0, 1],\n",
       "  'Breadth': [2, 2, 2, 1, 2],\n",
       "  'TopSplits': ['angle', 'angle_vel', 'vel', 'angle', 'x'],\n",
       "  'Path': 'SavedTrees/Policy/gini/5/tree_4.pkl'},\n",
       " '10': {'PercentCorrect': [0.95, 0.78, 0.905, 0.905, 0.755],\n",
       "  'EpisodeDistance': [0.8620252013206482,\n",
       "   0.32922300696372986,\n",
       "   0.2525949478149414,\n",
       "   0.19113433361053467,\n",
       "   0.1255502551794052],\n",
       "  'Episode_Length_Distance': [0, 0, 0, 0, 0],\n",
       "  'Depth': [3, 2, 1, 1, 3],\n",
       "  'Breadth': [2, 2, 2, 2, 2],\n",
       "  'TopSplits': ['angle_vel', 'angle_vel', 'angle_vel', 'angle_vel', 'vel'],\n",
       "  'Path': 'SavedTrees/Policy/gini/10/tree_4.pkl'}}"
      ]
     },
     "execution_count": 6,
     "metadata": {},
     "output_type": "execute_result"
    }
   ],
   "source": [
    "thing"
   ]
  },
  {
   "cell_type": "code",
   "execution_count": 10,
   "metadata": {},
   "outputs": [
    {
     "name": "stdout",
     "output_type": "stream",
     "text": [
      "[3, 5, 10] [0.647, 0.618, 0.859]\n"
     ]
    }
   ],
   "source": [
    "thing2 = json.load(open('MetricFiles/CartPole-v1/Policy/gini.json', 'r'))\n",
    "#plot percent_correct\n",
    "samples = []\n",
    "means = []\n",
    "covs = []\n",
    "for key in thing.keys():\n",
    "    samples.append(int(key))\n",
    "    means.append(np.mean(thing2[key][\"PercentCorrect\"]))\n",
    "    covs.append()\n",
    "print(x, y)"
   ]
  },
  {
   "cell_type": "code",
   "execution_count": 11,
   "metadata": {},
   "outputs": [
    {
     "data": {
      "text/plain": [
       "{'PercentCorrect': [0.5, 0.84, 0.745, 0.495, 0.51],\n",
       " 'EpisodeDistance': [1.1155929565429688,\n",
       "  0.21740132570266724,\n",
       "  0.24682459235191345,\n",
       "  0.7213442921638489,\n",
       "  0.7014747262001038],\n",
       " 'Episode_Length_Distance': [0, 0, 0, 0, 0],\n",
       " 'Depth': [1, 1, 1, 0, 1],\n",
       " 'Breadth': [2, 2, 2, 1, 2],\n",
       " 'TopSplits': ['angle', 'angle_vel', 'vel', 'angle', 'x'],\n",
       " 'Path': 'SavedTrees/Policy/gini/5/tree_4.pkl'}"
      ]
     },
     "execution_count": 11,
     "metadata": {},
     "output_type": "execute_result"
    }
   ],
   "source": [
    "thing2['5']"
   ]
  },
  {
   "cell_type": "code",
   "execution_count": null,
   "metadata": {},
   "outputs": [],
   "source": []
  }
 ],
 "metadata": {
  "kernelspec": {
   "display_name": "XAI_RL",
   "language": "python",
   "name": "python3"
  },
  "language_info": {
   "codemirror_mode": {
    "name": "ipython",
    "version": 3
   },
   "file_extension": ".py",
   "mimetype": "text/x-python",
   "name": "python",
   "nbconvert_exporter": "python",
   "pygments_lexer": "ipython3",
   "version": "3.9.19"
  }
 },
 "nbformat": 4,
 "nbformat_minor": 2
}
