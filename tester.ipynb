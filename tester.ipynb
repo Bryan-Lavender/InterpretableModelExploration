{
 "cells": [
  {
   "cell_type": "code",
   "execution_count": 1,
   "metadata": {},
   "outputs": [
    {
     "data": {
      "text/plain": [
       "_StoreAction(option_strings=['--config_filename'], dest='config_filename', nargs=None, const=None, default=None, type=<class 'str'>, choices=None, help=None, metavar=None)"
      ]
     },
     "execution_count": 1,
     "metadata": {},
     "output_type": "execute_result"
    }
   ],
   "source": [
    "from Explanations_Models.Custom_DT.LIME import LIME\n",
    "from FeatureImportance.FI import FeatureImportance\n",
    "import yaml\n",
    "import argparse\n",
    "import os\n",
    "import sys\n",
    "import numpy as np\n",
    "import torch\n",
    "import gym\n",
    "import matplotlib\n",
    "import matplotlib.pyplot as plt\n",
    "import unittest\n",
    "from DeepLearning_Models.utils.general import join, plot_combined\n",
    "from DeepLearning_Models.ActorCritic.policy_gradient import PolicyGradient\n",
    "from EnvRunner import GymRunner\n",
    "import json\n",
    "import warnings\n",
    "from tqdm import tqdm\n",
    "\n",
    "# Suppress all deprecation warnings\n",
    "warnings.filterwarnings('ignore', category=DeprecationWarning)\n",
    "warnings.filterwarnings('ignore', category=UserWarning)\n",
    "\n",
    "yaml.add_constructor(\"!join\", join)\n",
    "parser = argparse.ArgumentParser()\n",
    "\n",
    "parser.add_argument(\"--config_filename\", required=False, type=str)"
   ]
  },
  {
   "cell_type": "code",
   "execution_count": 2,
   "metadata": {},
   "outputs": [
    {
     "name": "stdout",
     "output_type": "stream",
     "text": [
      "device:  cpu\n"
     ]
    },
    {
     "name": "stderr",
     "output_type": "stream",
     "text": [
      "c:\\Users\\blav1\\Scripts\\BryansClaimToFame\\InterpretableModelExploration\\EnvRunner.py:58: FutureWarning: You are using `torch.load` with `weights_only=False` (the current default value), which uses the default pickle module implicitly. It is possible to construct malicious pickle data which will execute arbitrary code during unpickling (See https://github.com/pytorch/pytorch/blob/main/SECURITY.md#untrusted-models for more details). In a future release, the default value for `weights_only` will be flipped to `True`. This limits the functions that could be executed during unpickling. Arbitrary objects will no longer be allowed to be loaded via this mode unless they are explicitly allowlisted by the user via `torch.serialization.add_safe_globals`. We recommend you start setting `weights_only=True` for any use case where you don't have full control of the loaded file. Please open an issue on GitHub for any issues related to this experimental feature.\n",
      "  self.model.baseline_network.load_state_dict(torch.load(PATH_critic,map_location=torch.device('cpu')))\n",
      "c:\\Users\\blav1\\Scripts\\BryansClaimToFame\\InterpretableModelExploration\\EnvRunner.py:59: FutureWarning: You are using `torch.load` with `weights_only=False` (the current default value), which uses the default pickle module implicitly. It is possible to construct malicious pickle data which will execute arbitrary code during unpickling (See https://github.com/pytorch/pytorch/blob/main/SECURITY.md#untrusted-models for more details). In a future release, the default value for `weights_only` will be flipped to `True`. This limits the functions that could be executed during unpickling. Arbitrary objects will no longer be allowed to be loaded via this mode unless they are explicitly allowlisted by the user via `torch.serialization.add_safe_globals`. We recommend you start setting `weights_only=True` for any use case where you don't have full control of the loaded file. Please open an issue on GitHub for any issues related to this experimental feature.\n",
      "  self.model.policy.load_state_dict((torch.load(PATH_actor,map_location=torch.device('cpu'))))\n"
     ]
    }
   ],
   "source": [
    "\n",
    "config_file = open(\"config_envs/{}.yml\".format(\"_bipedal\"))\n",
    "config = yaml.load(config_file, Loader=yaml.FullLoader)\n",
    "config.update(yaml.load(open(\"config_explanations/{}.yml\".format(\"_bipedal\"), encoding=\"utf8\"), Loader= yaml.FullLoader))\n",
    "Runner = GymRunner(config)\n",
    "Runner.load_weights(PATH = None)"
   ]
  },
  {
   "cell_type": "code",
   "execution_count": 3,
   "metadata": {},
   "outputs": [
    {
     "name": "stdout",
     "output_type": "stream",
     "text": [
      "<FeatureImportance.FI.FeatureImportance object at 0x0000025DA77DB2B0>\n"
     ]
    }
   ],
   "source": [
    "config[\"surrogate\"][\"use_FI\"] = True\n",
    "FI = FeatureImportance(config, Runner.model.network)\n",
    "DTMode = LIME(config, Runner, FI)\n",
    "#DTMod = LIME(config, Runner)\n",
    "thang = []\n",
    "# for i in range(0, 10):\n",
    "#     DTMode.train()\n",
    "#     thang.append(DTMode.percent_Correct())\n",
    "#     print(np.mean(thang), np.var(thang))\n"
   ]
  },
  {
   "cell_type": "code",
   "execution_count": 4,
   "metadata": {},
   "outputs": [
    {
     "name": "stdout",
     "output_type": "stream",
     "text": [
      "1\n",
      "1\n",
      "1\n",
      "1\n",
      "1\n",
      "1\n",
      "1\n",
      "1\n",
      "1\n",
      "1\n",
      "1\n",
      "2\n",
      "1\n",
      "1\n",
      "1\n",
      "1\n",
      "1\n",
      "1\n",
      "1\n",
      "1\n",
      "1\n",
      "1\n",
      "1\n",
      "1\n",
      "1\n",
      "2\n",
      "1\n",
      "1\n",
      "1\n",
      "1\n",
      "1\n",
      "1\n",
      "1\n",
      "1\n",
      "2\n",
      "1\n",
      "1\n",
      "1\n",
      "1\n",
      "1\n",
      "3\n",
      "1\n",
      "1\n",
      "2\n",
      "1\n",
      "1\n",
      "1\n",
      "1\n",
      "1\n",
      "1\n",
      "1\n",
      "1\n",
      "1\n",
      "1\n",
      "2\n",
      "1\n",
      "1\n",
      "2\n",
      "1\n",
      "1\n",
      "1\n",
      "1\n",
      "1\n",
      "2\n",
      "1\n",
      "1\n",
      "1\n",
      "1\n",
      "1\n",
      "1\n",
      "1\n",
      "1\n",
      "1\n",
      "1\n",
      "2\n",
      "1\n",
      "1\n",
      "1\n",
      "1\n",
      "1\n",
      "1\n",
      "1\n",
      "1\n",
      "2\n",
      "1\n",
      "1\n",
      "1\n",
      "2\n",
      "3.1965623 0.7671832\n"
     ]
    }
   ],
   "source": [
    "thang2 = []\n",
    "config[\"surrogate\"][\"use_FI\"] = False\n",
    "DTMod = LIME(config, Runner)\n",
    "\n",
    "for i in range(0, 10):\n",
    "    DTMod.train()\n",
    "    thang2.append(DTMod.percent_Correct())\n",
    "thang2 = np.array(thang2)\n",
    "print(thang2.mean(), thang2.var())"
   ]
  },
  {
   "cell_type": "markdown",
   "metadata": {},
   "source": [
    "ClassForgetting"
   ]
  },
  {
   "cell_type": "code",
   "execution_count": 9,
   "metadata": {},
   "outputs": [
    {
     "name": "stdout",
     "output_type": "stream",
     "text": [
      "0.9 0.0\n",
      "0.7250000000000001 0.030624999999999996\n",
      "0.7800000000000001 0.026466666666666663\n",
      "0.7625000000000001 0.02076875\n",
      "0.7090000000000001 0.028064\n",
      "0.7291666666666666 0.025420138888888888\n",
      "0.745 0.02329285714285714\n",
      "0.764375 0.023008984375\n",
      "0.78 0.022405555555555554\n",
      "0.7925000000000001 0.02157125\n"
     ]
    }
   ],
   "source": [
    "#DTMod = LIME(config, Runner)\n",
    "thang = []\n",
    "for i in range(0, 10):\n",
    "    DTMode.train()\n",
    "    thang.append(DTMode.percent_Correct())\n",
    "    print(np.mean(thang), np.var(thang))"
   ]
  },
  {
   "cell_type": "markdown",
   "metadata": {},
   "source": [
    "what we got"
   ]
  },
  {
   "cell_type": "code",
   "execution_count": 10,
   "metadata": {},
   "outputs": [
    {
     "name": "stdout",
     "output_type": "stream",
     "text": [
      "0.7925000000000001 0.02157125\n"
     ]
    }
   ],
   "source": [
    "thang1 = np.array(thang)\n",
    "print(thang1.mean(), thang1.var())"
   ]
  },
  {
   "cell_type": "markdown",
   "metadata": {},
   "source": [
    "what we beat"
   ]
  },
  {
   "cell_type": "code",
   "execution_count": 11,
   "metadata": {},
   "outputs": [],
   "source": [
    "thang2 = []\n",
    "config[\"surrogate\"][\"use_FI\"] = False\n",
    "DTMod = LIME(config, Runner)\n",
    "\n",
    "for i in range(0, 10):\n",
    "    DTMod.train()\n",
    "    thang2.append(DTMod.percent_Correct())"
   ]
  },
  {
   "cell_type": "code",
   "execution_count": 12,
   "metadata": {},
   "outputs": [
    {
     "name": "stdout",
     "output_type": "stream",
     "text": [
      "0.7064999999999999 0.01735025\n"
     ]
    }
   ],
   "source": [
    "thang2 = np.array(thang2)\n",
    "print(thang2.mean(), thang2.var())"
   ]
  },
  {
   "cell_type": "code",
   "execution_count": 7,
   "metadata": {},
   "outputs": [
    {
     "ename": "NameError",
     "evalue": "name 'thang2' is not defined",
     "output_type": "error",
     "traceback": [
      "\u001b[1;31m---------------------------------------------------------------------------\u001b[0m",
      "\u001b[1;31mNameError\u001b[0m                                 Traceback (most recent call last)",
      "Cell \u001b[1;32mIn[7], line 2\u001b[0m\n\u001b[0;32m      1\u001b[0m \u001b[38;5;28;01mfrom\u001b[39;00m \u001b[38;5;21;01mscipy\u001b[39;00m\u001b[38;5;21;01m.\u001b[39;00m\u001b[38;5;21;01mstats\u001b[39;00m \u001b[38;5;28;01mimport\u001b[39;00m ttest_ind\n\u001b[1;32m----> 2\u001b[0m t_statistic, p_value \u001b[38;5;241m=\u001b[39m ttest_ind(thang1, \u001b[43mthang2\u001b[49m)\n\u001b[0;32m      3\u001b[0m \u001b[38;5;28mprint\u001b[39m(\u001b[38;5;124m\"\u001b[39m\u001b[38;5;124mT-statistic:\u001b[39m\u001b[38;5;124m\"\u001b[39m, t_statistic)\n\u001b[0;32m      4\u001b[0m \u001b[38;5;28mprint\u001b[39m(\u001b[38;5;124m\"\u001b[39m\u001b[38;5;124mP-value:\u001b[39m\u001b[38;5;124m\"\u001b[39m, p_value)\n",
      "\u001b[1;31mNameError\u001b[0m: name 'thang2' is not defined"
     ]
    }
   ],
   "source": [
    "from scipy.stats import ttest_ind\n",
    "t_statistic, p_value = ttest_ind(thang1, thang2)\n",
    "print(\"T-statistic:\", t_statistic)\n",
    "print(\"P-value:\", p_value)"
   ]
  },
  {
   "cell_type": "code",
   "execution_count": 8,
   "metadata": {},
   "outputs": [
    {
     "name": "stdout",
     "output_type": "stream",
     "text": [
      "point tensor([1., 0., 1., 0., 1., 0., 1., 0., 1., 0., 1., 0., 1., 0., 1., 0., 1., 0.,\n",
      "        1., 0., 1., 0., 1., 0.])\n",
      "output tensor([ 1.5826, -7.8118,  2.3578, -2.1897], grad_fn=<ViewBackward0>)\n",
      "relevence [tensor([-0.4360,  0.0032, -0.2563,  0.0032, -0.5618,  0.0032,  0.5331,  0.0032,\n",
      "        -0.1117,  0.0032,  0.4333,  0.0032,  0.4067,  0.0032,  0.5228,  0.0032,\n",
      "         0.7383,  0.0032,  0.0690,  0.0032,  0.5256,  0.0032, -0.3183,  0.0032],\n",
      "       grad_fn=<SqueezeBackward4>), tensor([ 4.6117, -0.0781,  0.9442, -0.0781,  5.6282, -0.0781, -3.1760, -0.0781,\n",
      "         1.1894, -0.0781, -3.2217, -0.0781, -2.6642, -0.0781, -2.1719, -0.0781,\n",
      "        -5.1672, -0.0781, -1.4828, -0.0781, -4.0037, -0.0781,  2.6397, -0.0781],\n",
      "       grad_fn=<SqueezeBackward4>), tensor([-0.3696,  0.0232, -0.4396,  0.0232, -0.2606,  0.0232,  0.5377,  0.0232,\n",
      "        -0.0442,  0.0232,  0.3225,  0.0232,  0.5381,  0.0232,  0.5866,  0.0232,\n",
      "         0.5562,  0.0232,  0.2230,  0.0232,  0.6054,  0.0232, -0.1759,  0.0232],\n",
      "       grad_fn=<SqueezeBackward4>), tensor([ 0.1482, -0.0682,  0.4759, -0.0682, -0.4539, -0.0682, -0.0387, -0.0682,\n",
      "        -0.0717, -0.0682,  0.1460, -0.0682, -0.4835, -0.0682, -0.0870, -0.0682,\n",
      "         0.3420, -0.0682, -0.6508, -0.0682, -0.4466, -0.0682, -0.2513, -0.0682],\n",
      "       grad_fn=<SqueezeBackward4>)]\n"
     ]
    }
   ],
   "source": [
    "\n",
    "out, matrix = FI.Calc_Feature_Importance(torch.tensor([1.,0.,1.,0.,1.,0.,1.,0.,1.,0.,1.,0.,1.,0.,1.,0.,1.,0.,1.,0.,1.,0.,1.,0.,]), printer=True)"
   ]
  },
  {
   "cell_type": "code",
   "execution_count": 6,
   "metadata": {},
   "outputs": [
    {
     "ename": "ValueError",
     "evalue": "setting an array element with a sequence. The requested array has an inhomogeneous shape after 3 dimensions. The detected shape was (2, 10, 4) + inhomogeneous part.",
     "output_type": "error",
     "traceback": [
      "\u001b[1;31m---------------------------------------------------------------------------\u001b[0m",
      "\u001b[1;31mValueError\u001b[0m                                Traceback (most recent call last)",
      "Cell \u001b[1;32mIn[6], line 3\u001b[0m\n\u001b[0;32m      1\u001b[0m X,Y\u001b[38;5;241m=\u001b[39mDTMode\u001b[38;5;241m.\u001b[39msample_set()\n\u001b[0;32m      2\u001b[0m FI \u001b[38;5;241m=\u001b[39m FI\u001b[38;5;241m.\u001b[39mRelevence(X)\n\u001b[1;32m----> 3\u001b[0m FI \u001b[38;5;241m=\u001b[39m \u001b[43mnp\u001b[49m\u001b[38;5;241;43m.\u001b[39;49m\u001b[43mabs\u001b[49m\u001b[43m(\u001b[49m\u001b[43mFI\u001b[49m\u001b[43m)\u001b[49m\n",
      "\u001b[1;31mValueError\u001b[0m: setting an array element with a sequence. The requested array has an inhomogeneous shape after 3 dimensions. The detected shape was (2, 10, 4) + inhomogeneous part."
     ]
    }
   ],
   "source": []
  },
  {
   "cell_type": "code",
   "execution_count": 1,
   "metadata": {},
   "outputs": [
    {
     "ename": "NameError",
     "evalue": "name 'FI' is not defined",
     "output_type": "error",
     "traceback": [
      "\u001b[1;31m---------------------------------------------------------------------------\u001b[0m",
      "\u001b[1;31mNameError\u001b[0m                                 Traceback (most recent call last)",
      "Cell \u001b[1;32mIn[1], line 1\u001b[0m\n\u001b[1;32m----> 1\u001b[0m \u001b[38;5;28mprint\u001b[39m(\u001b[43mFI\u001b[49m\u001b[38;5;241m.\u001b[39mshape)\n",
      "\u001b[1;31mNameError\u001b[0m: name 'FI' is not defined"
     ]
    }
   ],
   "source": [
    "print(FI.shape)"
   ]
  },
  {
   "cell_type": "code",
   "execution_count": 1,
   "metadata": {},
   "outputs": [
    {
     "ename": "NameError",
     "evalue": "name 'matrix' is not defined",
     "output_type": "error",
     "traceback": [
      "\u001b[1;31m---------------------------------------------------------------------------\u001b[0m",
      "\u001b[1;31mNameError\u001b[0m                                 Traceback (most recent call last)",
      "Cell \u001b[1;32mIn[1], line 1\u001b[0m\n\u001b[1;32m----> 1\u001b[0m \u001b[43mmatrix\u001b[49m\n",
      "\u001b[1;31mNameError\u001b[0m: name 'matrix' is not defined"
     ]
    }
   ],
   "source": [
    "import pandas as pd\n",
    "\n",
    "columns = pd.MultiIndex.from_product([config[\"picture\"][\"class_names\"], config[\"picture\"][\"labels\"]], names=['OutLogit', 'InLogit'])\n",
    "\n",
    "# Reshape the data to (60, 8) to match the multi-level column structure\n",
    "reshaped_data = FI.reshape(FI.shape[0], -1)\n",
    "\n",
    "# Create the DataFrame\n",
    "FI = pd.DataFrame(reshaped_data, columns=columns)\n",
    "out = pd.DataFrame(out, columns=config[\"picture\"][\"class_names\"])"
   ]
  },
  {
   "cell_type": "code",
   "execution_count": 3,
   "metadata": {},
   "outputs": [],
   "source": [
    "DT = LIME(config, Runner)"
   ]
  },
  {
   "cell_type": "code",
   "execution_count": null,
   "metadata": {},
   "outputs": [],
   "source": [
    "def print_activation(layer, input, output):\n",
    "    print(f\"Layer: {layer}, Activation Output: {output}\")\n",
    "\n",
    "# Register hooks to each layer\n",
    "for layer in model.children():\n",
    "    layer.register_forward_hook(print_activation)\n",
    "\n",
    "# Dummy input to pass through the model\n",
    "dummy_input = torch.randn(1, 10)  # Adjust size to match input layer\n",
    "model(dummy_input)"
   ]
  },
  {
   "cell_type": "code",
   "execution_count": 5,
   "metadata": {},
   "outputs": [
    {
     "data": {
      "text/plain": [
       "tensor([[-53.5020,  57.9378]], grad_fn=<AddmmBackward0>)"
      ]
     },
     "execution_count": 5,
     "metadata": {},
     "output_type": "execute_result"
    }
   ],
   "source": [
    "Runner.model.network.forward(torch.tensor([[4.,4.,4.,4.,]]))\n"
   ]
  },
  {
   "cell_type": "code",
   "execution_count": 14,
   "metadata": {},
   "outputs": [
    {
     "name": "stdout",
     "output_type": "stream",
     "text": [
      "60\n"
     ]
    }
   ],
   "source": [
    "X,Y = DT.train(returner=True)\n"
   ]
  },
  {
   "cell_type": "code",
   "execution_count": 15,
   "metadata": {},
   "outputs": [
    {
     "data": {
      "text/plain": [
       "1.1668402"
      ]
     },
     "execution_count": 15,
     "metadata": {},
     "output_type": "execute_result"
    }
   ],
   "source": [
    "DT.percent_Correct(print_val=True)\n"
   ]
  },
  {
   "cell_type": "code",
   "execution_count": 16,
   "metadata": {},
   "outputs": [
    {
     "data": {
      "text/plain": [
       "111.059525"
      ]
     },
     "execution_count": 16,
     "metadata": {},
     "output_type": "execute_result"
    }
   ],
   "source": [
    "DT.uniform_Correct(print_val=True)"
   ]
  },
  {
   "cell_type": "code",
   "execution_count": 9,
   "metadata": {},
   "outputs": [
    {
     "name": "stdout",
     "output_type": "stream",
     "text": [
      "10\n"
     ]
    },
    {
     "data": {
      "text/plain": [
       "{'Feature': 'Hip Joint 1 Speed',\n",
       " 'Bucket': 0.5963983535766602,\n",
       " 'Left_Child': {'Feature': 'Knee Joint 1 Angle',\n",
       "  'Bucket': -0.16023868322372437,\n",
       "  'Left_Child': {'Feature': 'Knee Joint 2 Angle',\n",
       "   'Bucket': -0.030735313892364502,\n",
       "   'Left_Child': {'Feature': 'Velocity X',\n",
       "    'Bucket': 0.5160324573516846,\n",
       "    'Left_Child': {'Feature': 'Hull Angle',\n",
       "     'Bucket': -0.06656686216592789,\n",
       "     'Left_Child': {'Value': array([-2.6837106 , -0.3007074 ,  1.4836516 ,  0.03225509], dtype=float32)},\n",
       "     'Right_Child': {'Feature': 'Hull Angle',\n",
       "      'Bucket': 0.0036161281168460846,\n",
       "      'Left_Child': {'Value': array([-2.7936342 ,  2.177329  ,  1.6616061 ,  0.34213853], dtype=float32)},\n",
       "      'Right_Child': {'Value': array([-1.1121528,  2.3536325,  2.649001 ,  1.4963849], dtype=float32)}}},\n",
       "    'Right_Child': {'Feature': 'Hull Angle',\n",
       "     'Bucket': 0.08883405476808548,\n",
       "     'Left_Child': {'Feature': 'Hull Angle',\n",
       "      'Bucket': 0.06528535485267639,\n",
       "      'Left_Child': {'Value': array([-3.0090125,  3.9876125,  2.7920856,  3.433811 ], dtype=float32)},\n",
       "      'Right_Child': {'Value': array([-2.6185105,  4.7593265,  3.1373556,  2.6056008], dtype=float32)}},\n",
       "     'Right_Child': {'Feature': 'Hull Angular Velocity',\n",
       "      'Bucket': 0.0020087372977286577,\n",
       "      'Left_Child': {'Value': array([-1.9478871,  5.3747716,  1.661798 ,  2.3555088], dtype=float32)},\n",
       "      'Right_Child': {'Value': array([-1.8879911,  5.2898455,  1.324734 ,  1.2948227], dtype=float32)}}}},\n",
       "   'Right_Child': {'Feature': 'Knee Joint 2 Angle',\n",
       "    'Bucket': 0.31330421566963196,\n",
       "    'Left_Child': {'Feature': 'Hip Joint 1 Speed',\n",
       "     'Bucket': 0.3045932352542877,\n",
       "     'Left_Child': {'Feature': 'Hull Angular Velocity',\n",
       "      'Bucket': 0.007093457505106926,\n",
       "      'Left_Child': {'Feature': 'Velocity X',\n",
       "       'Bucket': 0.43296512961387634,\n",
       "       'Left_Child': {'Value': array([ 0.8246374 ,  3.2931554 ,  0.5716379 , -0.03342189], dtype=float32)},\n",
       "       'Right_Child': {'Feature': 'Hull Angle',\n",
       "        'Bucket': 0.09451521933078766,\n",
       "        'Left_Child': {'Value': array([-1.0770402 ,  3.365179  ,  0.8513497 ,  0.89769626], dtype=float32)},\n",
       "        'Right_Child': {'Feature': 'Hull Angle',\n",
       "         'Bucket': 0.1705131232738495,\n",
       "         'Left_Child': {'Value': array([-1.3248394 ,  3.4371514 ,  0.48689187, -0.0090626 ], dtype=float32)},\n",
       "         'Right_Child': {'Value': array([-0.2160264 ,  3.9172466 ,  0.62016636,  0.18807071], dtype=float32)}}}},\n",
       "      'Right_Child': {'Feature': 'Velocity X',\n",
       "       'Bucket': 0.6165363788604736,\n",
       "       'Left_Child': {'Feature': 'Hull Angle',\n",
       "        'Bucket': 0.1647161841392517,\n",
       "        'Left_Child': {'Feature': 'Velocity Y',\n",
       "         'Bucket': -0.009581604972481728,\n",
       "         'Left_Child': {'Value': array([-1.4468095 ,  5.2838526 ,  0.64700735, -0.0098715 ], dtype=float32)},\n",
       "         'Right_Child': {'Value': array([-1.771191 ,  4.4561644,  1.1669855,  0.7286329], dtype=float32)}},\n",
       "        'Right_Child': {'Value': array([0.06914833, 5.1806583 , 1.5051614 , 0.8026921 ], dtype=float32)}},\n",
       "       'Right_Child': {'Value': array([-0.36152208,  3.1563852 ,  1.724211  ,  0.919069  ], dtype=float32)}}},\n",
       "     'Right_Child': {'Value': array([-1.2416124 ,  0.84076166,  0.20040627, -0.03113984], dtype=float32)}},\n",
       "    'Right_Child': {'Feature': 'Hull Angular Velocity',\n",
       "     'Bucket': -0.008870475925505161,\n",
       "     'Left_Child': {'Feature': 'Hull Angle',\n",
       "      'Bucket': 0.03760876506567001,\n",
       "      'Left_Child': {'Value': array([-0.27107087,  3.1522686 ,  0.32134032, -0.6599999 ], dtype=float32)},\n",
       "      'Right_Child': {'Value': array([ 0.5595882 ,  3.41009   ,  0.26377434, -0.8316344 ], dtype=float32)}},\n",
       "     'Right_Child': {'Value': array([-0.35390964,  4.282951  ,  0.4495526 , -0.1998241 ], dtype=float32)}}}},\n",
       "  'Right_Child': {'Feature': 'Velocity X',\n",
       "   'Bucket': 0.3043457865715027,\n",
       "   'Left_Child': {'Feature': 'Hull Angle',\n",
       "    'Bucket': 0.018499799072742462,\n",
       "    'Left_Child': {'Value': array([-2.041147  ,  1.0869012 ,  1.4263769 ,  0.39315844], dtype=float32)},\n",
       "    'Right_Child': {'Value': array([-0.04954089,  2.680031  ,  2.158829  ,  0.7317949 ], dtype=float32)}},\n",
       "   'Right_Child': {'Feature': 'Knee Joint 2 Speed',\n",
       "    'Bucket': 0.06824848055839539,\n",
       "    'Left_Child': {'Feature': 'Hull Angle',\n",
       "     'Bucket': 0.08107946813106537,\n",
       "     'Left_Child': {'Value': array([ 2.3126628, -0.7289753,  2.2507985, -1.036759 ], dtype=float32)},\n",
       "     'Right_Child': {'Feature': 'Hip Joint 1 Angle',\n",
       "      'Bucket': -0.5404282212257385,\n",
       "      'Left_Child': {'Value': array([ 2.125768  , -0.08834416,  1.5716262 ,  0.0161556 ], dtype=float32)},\n",
       "      'Right_Child': {'Value': array([ 1.6668248 , -0.9147935 ,  1.5232469 , -0.09811676], dtype=float32)}}},\n",
       "    'Right_Child': {'Feature': 'Hull Angular Velocity',\n",
       "     'Bucket': -0.02112334407866001,\n",
       "     'Left_Child': {'Feature': 'Hull Angle',\n",
       "      'Bucket': 0.0639035701751709,\n",
       "      'Left_Child': {'Value': array([ 2.3367393 , -0.47209376,  0.12325256, -2.1148708 ], dtype=float32)},\n",
       "      'Right_Child': {'Value': array([ 1.6766171 , -1.1251912 ,  0.41227192, -1.007625  ], dtype=float32)}},\n",
       "     'Right_Child': {'Value': array([ 0.7839235 ,  1.0018393 ,  0.5351864 , -0.47114623], dtype=float32)}}}}},\n",
       " 'Right_Child': {'Feature': 'Knee Joint 2 Angle',\n",
       "  'Bucket': -0.038002192974090576,\n",
       "  'Left_Child': {'Feature': 'Knee Joint 1 Speed',\n",
       "   'Bucket': -1.6235809326171875,\n",
       "   'Left_Child': {'Value': array([ 1.09812   , -0.300008  ,  3.472574  ,  0.82174706], dtype=float32)},\n",
       "   'Right_Child': {'Feature': 'Hip Joint 1 Angle',\n",
       "    'Bucket': 0.16910219192504883,\n",
       "    'Left_Child': {'Feature': 'Hull Angle',\n",
       "     'Bucket': 0.05188116431236267,\n",
       "     'Left_Child': {'Value': array([ 2.0861263, -1.0851208,  2.2254283,  1.3086782], dtype=float32)},\n",
       "     'Right_Child': {'Feature': 'Hull Angle',\n",
       "      'Bucket': 0.13687929511070251,\n",
       "      'Left_Child': {'Value': array([ 1.2994057 ,  0.0400638 ,  0.6854751 , -0.21317548], dtype=float32)},\n",
       "      'Right_Child': {'Value': array([1.4078789 , 0.40274417, 1.6485914 , 0.4759732 ], dtype=float32)}}},\n",
       "    'Right_Child': {'Feature': 'Hull Angular Velocity',\n",
       "     'Bucket': 0.03298252820968628,\n",
       "     'Left_Child': {'Feature': 'Velocity X',\n",
       "      'Bucket': 0.5561239719390869,\n",
       "      'Left_Child': {'Feature': 'Hull Angle',\n",
       "       'Bucket': 0.09527727961540222,\n",
       "       'Left_Child': {'Value': array([-0.44803   , -0.4689806 ,  1.3043483 ,  0.87149715], dtype=float32)},\n",
       "       'Right_Child': {'Value': array([-0.76848346,  0.46340767,  1.9784485 ,  0.6928851 ], dtype=float32)}},\n",
       "      'Right_Child': {'Value': array([ 0.6079275, -0.4827798,  1.6499429, -0.4513142], dtype=float32)}},\n",
       "     'Right_Child': {'Value': array([0.32428414, 0.10525259, 2.5839238 , 1.4436276 ], dtype=float32)}}}},\n",
       "  'Right_Child': {'Feature': 'Hull Angle',\n",
       "   'Bucket': -0.011715803295373917,\n",
       "   'Left_Child': {'Feature': 'Hull Angle',\n",
       "    'Bucket': -0.07545065879821777,\n",
       "    'Left_Child': {'Value': array([ 1.1667321 , -1.1250442 ,  1.0476003 , -0.36452827], dtype=float32)},\n",
       "    'Right_Child': {'Feature': 'Hull Angular Velocity',\n",
       "     'Bucket': 0.0014051017351448536,\n",
       "     'Left_Child': {'Value': array([ 0.6076522 , -0.53690565, -0.33608812, -1.1650486 ], dtype=float32)},\n",
       "     'Right_Child': {'Value': array([ 1.7481081 ,  0.3352159 ,  0.00836074, -1.3144885 ], dtype=float32)}}},\n",
       "   'Right_Child': {'Feature': 'Hull Angular Velocity',\n",
       "    'Bucket': -0.04825957491993904,\n",
       "    'Left_Child': {'Value': array([ 3.7345831 , -1.3958199 ,  0.10651319, -2.5357013 ], dtype=float32)},\n",
       "    'Right_Child': {'Feature': 'Hull Angle',\n",
       "     'Bucket': 0.08457480370998383,\n",
       "     'Left_Child': {'Value': array([ 2.6188083 , -0.98940027,  2.0914488 ,  0.12370388], dtype=float32)},\n",
       "     'Right_Child': {'Value': array([ 3.130581 , -1.10854  ,  1.0923562, -0.9122672], dtype=float32)}}}}}}"
      ]
     },
     "execution_count": 9,
     "metadata": {},
     "output_type": "execute_result"
    }
   ],
   "source": [
    "print(DT.surr_model.model.max_depth)\n",
    "DT.surr_model.model.get_dict_representation()"
   ]
  },
  {
   "cell_type": "code",
   "execution_count": 9,
   "metadata": {},
   "outputs": [
    {
     "data": {
      "text/plain": [
       "array([ 0.74338526,  1.4490379 ,  1.0475755 , -0.23259966], dtype=float32)"
      ]
     },
     "execution_count": 9,
     "metadata": {},
     "output_type": "execute_result"
    }
   ],
   "source": [
    "np.mean(Y, axis=0)"
   ]
  },
  {
   "cell_type": "code",
   "execution_count": null,
   "metadata": {},
   "outputs": [],
   "source": [
    "from scipy.spatial.distance import pdist\n",
    "import pandas as pd\n",
    "Y = pd.DataFrame(Y, columns=config[\"picture\"][\"class_names\"])\n",
    "np.mean(pdist(Y.values, metric=\"euclidean\"))"
   ]
  },
  {
   "cell_type": "code",
   "execution_count": 9,
   "metadata": {},
   "outputs": [],
   "source": [
    "import pandas as pd\n",
    "Y = np.array([[1., 4.2, 3.3]])\n",
    "Y = pd.DataFrame(Y, columns = [\"hit1\", \"hit2\", \"hit3\"])"
   ]
  },
  {
   "cell_type": "code",
   "execution_count": null,
   "metadata": {},
   "outputs": [],
   "source": [
    "from scipy.spatial.distance import pdist\n",
    "\n",
    "np.mean(pdist(Y.values, metric=\"euclidean\"))"
   ]
  },
  {
   "cell_type": "code",
   "execution_count": 31,
   "metadata": {},
   "outputs": [],
   "source": [
    "a = torch.tensor([1., 2., 3.])\n",
    "W = torch.tensor([[2., 3.,],[2., 3.,],[2., 3.,]])\n",
    "b = torch.tensor([.5,.6])"
   ]
  },
  {
   "cell_type": "code",
   "execution_count": 32,
   "metadata": {},
   "outputs": [
    {
     "name": "stdout",
     "output_type": "stream",
     "text": [
      "torch.Size([3]) torch.Size([3, 2]) torch.Size([2])\n"
     ]
    }
   ],
   "source": [
    "print(a.shape, W.shape, b.shape)"
   ]
  },
  {
   "cell_type": "code",
   "execution_count": 33,
   "metadata": {},
   "outputs": [
    {
     "ename": "RuntimeError",
     "evalue": "The size of tensor a (3) must match the size of tensor b (2) at non-singleton dimension 1",
     "output_type": "error",
     "traceback": [
      "\u001b[1;31m---------------------------------------------------------------------------\u001b[0m",
      "\u001b[1;31mRuntimeError\u001b[0m                              Traceback (most recent call last)",
      "Cell \u001b[1;32mIn[33], line 1\u001b[0m\n\u001b[1;32m----> 1\u001b[0m \u001b[43ma\u001b[49m\u001b[38;5;241;43m*\u001b[39;49m\u001b[43mW\u001b[49m\n",
      "\u001b[1;31mRuntimeError\u001b[0m: The size of tensor a (3) must match the size of tensor b (2) at non-singleton dimension 1"
     ]
    }
   ],
   "source": [
    "a*W"
   ]
  },
  {
   "cell_type": "code",
   "execution_count": 34,
   "metadata": {},
   "outputs": [
    {
     "data": {
      "text/plain": [
       "tensor([12.5000, 18.6000])"
      ]
     },
     "execution_count": 34,
     "metadata": {},
     "output_type": "execute_result"
    }
   ],
   "source": [
    "a@W+b"
   ]
  },
  {
   "cell_type": "code",
   "execution_count": 35,
   "metadata": {},
   "outputs": [
    {
     "name": "stdout",
     "output_type": "stream",
     "text": [
      "tensor([2.5000, 4.5000, 6.5000])\n",
      "tensor([3.6000, 6.6000, 9.6000])\n",
      "tensor([13.5000, 19.8000]) tensor([[2.5000, 4.5000, 6.5000],\n",
      "        [3.6000, 6.6000, 9.6000]])\n"
     ]
    }
   ],
   "source": [
    "norm = []\n",
    "CorVec = []\n",
    "for i in range(len(b)):\n",
    "    tmp = a*W[:,i] + b[i]\n",
    "    norm.append(tmp.sum())\n",
    "    CorVec.append(tmp)\n",
    "    print(a*W[:,i] + b[i])\n",
    "norm = torch.stack(norm)\n",
    "CorVec = torch.stack(CorVec)\n",
    "print(norm, CorVec)"
   ]
  },
  {
   "cell_type": "code",
   "execution_count": 36,
   "metadata": {},
   "outputs": [],
   "source": [
    "norm += 1e-9"
   ]
  },
  {
   "cell_type": "code",
   "execution_count": 37,
   "metadata": {},
   "outputs": [],
   "source": [
    "obj = torch.relu(a@W+b)"
   ]
  },
  {
   "cell_type": "code",
   "execution_count": 38,
   "metadata": {},
   "outputs": [
    {
     "data": {
      "text/plain": [
       "tensor([12.5000, 18.6000])"
      ]
     },
     "execution_count": 38,
     "metadata": {},
     "output_type": "execute_result"
    }
   ],
   "source": [
    "obj"
   ]
  },
  {
   "cell_type": "code",
   "execution_count": 39,
   "metadata": {},
   "outputs": [],
   "source": [
    "normalized_CorVec = CorVec / norm.unsqueeze(1)"
   ]
  },
  {
   "cell_type": "code",
   "execution_count": 40,
   "metadata": {},
   "outputs": [
    {
     "data": {
      "text/plain": [
       "tensor([[0.1852, 0.3333, 0.4815],\n",
       "        [0.1818, 0.3333, 0.4848]])"
      ]
     },
     "execution_count": 40,
     "metadata": {},
     "output_type": "execute_result"
    }
   ],
   "source": [
    "normalized_CorVec"
   ]
  },
  {
   "cell_type": "code",
   "execution_count": 41,
   "metadata": {},
   "outputs": [
    {
     "name": "stdout",
     "output_type": "stream",
     "text": [
      "tensor([ 5.6966, 10.3667, 15.0367])\n"
     ]
    }
   ],
   "source": [
    "out = obj @ normalized_CorVec\n",
    "print(out)"
   ]
  },
  {
   "cell_type": "code",
   "execution_count": null,
   "metadata": {},
   "outputs": [],
   "source": []
  }
 ],
 "metadata": {
  "kernelspec": {
   "display_name": "XAI_RL",
   "language": "python",
   "name": "python3"
  },
  "language_info": {
   "codemirror_mode": {
    "name": "ipython",
    "version": 3
   },
   "file_extension": ".py",
   "mimetype": "text/x-python",
   "name": "python",
   "nbconvert_exporter": "python",
   "pygments_lexer": "ipython3",
   "version": "3.8.19"
  }
 },
 "nbformat": 4,
 "nbformat_minor": 2
}
