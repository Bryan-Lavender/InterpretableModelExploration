{
 "cells": [
  {
   "cell_type": "code",
   "execution_count": 1,
   "metadata": {},
   "outputs": [],
   "source": [
    "import argparse\n",
    "import os\n",
    "import sys\n",
    "import numpy as np\n",
    "import torch\n",
    "import gym\n",
    "import matplotlib\n",
    "\n",
    "matplotlib.use(\"agg\")\n",
    "import matplotlib.pyplot as plt\n",
    "import unittest\n",
    "from DeepLearning_Models.utils.general import join, plot_combined\n",
    "from DeepLearning_Models.ActorCritic.policy_gradient import PolicyGradient\n",
    "from Explanations_Models.LIME import LimeModel\n",
    "from Explanations_Models.sampling_methods import UniformSampler\n",
    "import random\n",
    "import yaml\n",
    "yaml.add_constructor(\"!join\", join)\n",
    "parser = argparse.ArgumentParser()\n",
    "def weight_dict_corrector(loaded_state_dict):\n",
    "    new_state_dict = {}\n",
    "    for key, value in loaded_state_dict.items():\n",
    "        new_key = key.replace(\"network.\", \"\")  # Remove the 'network.' prefix\n",
    "        new_state_dict[new_key] = value\n",
    "    return new_state_dict"
   ]
  },
  {
   "cell_type": "code",
   "execution_count": 2,
   "metadata": {},
   "outputs": [],
   "source": [
    "config_file = open(\"config_envs/{}.yml\".format(\"cartpole\"))\n",
    "config = yaml.load(config_file, Loader=yaml.FullLoader)\n",
    "env = gym.make(config[\"env\"][\"env_name\"], render_mode=\"rgb_array\")\n",
    "seed = config[\"env\"][\"seed\"][0]\n",
    "model = PolicyGradient(env, config, seed)"
   ]
  },
  {
   "cell_type": "code",
   "execution_count": 3,
   "metadata": {},
   "outputs": [
    {
     "data": {
      "text/plain": [
       "<All keys matched successfully>"
      ]
     },
     "execution_count": 3,
     "metadata": {},
     "output_type": "execute_result"
    }
   ],
   "source": [
    "model = PolicyGradient(env, config, seed)\n",
    "\n",
    "model.network.load_state_dict(weight_dict_corrector(torch.load(config[\"output\"][\"actor_output\"].format(seed))))\n",
    "model.baseline_network.load_state_dict(torch.load(config[\"output\"][\"critic_output\"].format(seed)))"
   ]
  },
  {
   "cell_type": "markdown",
   "metadata": {},
   "source": [
    "Begin LIME Explanations"
   ]
  },
  {
   "cell_type": "code",
   "execution_count": null,
   "metadata": {},
   "outputs": [],
   "source": []
  },
  {
   "cell_type": "code",
   "execution_count": 4,
   "metadata": {},
   "outputs": [],
   "source": [
    "config_file = open(\"config_explanations/{}.yml\".format(\"CartPole_UniformPolicy_All\"))\n",
    "config = yaml.load(config_file, Loader=yaml.FullLoader)"
   ]
  },
  {
   "cell_type": "code",
   "execution_count": 5,
   "metadata": {},
   "outputs": [],
   "source": [
    "LM = LimeModel(model.network, torch.tensor([0.,0.,0.,0.]), config)"
   ]
  },
  {
   "cell_type": "code",
   "execution_count": 6,
   "metadata": {},
   "outputs": [],
   "source": [
    "samps = LM.sample(config[\"sampling\"])"
   ]
  },
  {
   "cell_type": "code",
   "execution_count": 7,
   "metadata": {},
   "outputs": [
    {
     "name": "stdout",
     "output_type": "stream",
     "text": [
      "tensor([[-4.6308e-02, -5.4058e-01, -7.4285e-02, -7.6221e-02],\n",
      "        [ 8.0101e-02,  3.8884e-01, -2.2657e-03, -5.2043e-01],\n",
      "        [-1.9511e+00, -7.2992e-01,  8.0346e-03,  8.9311e-02],\n",
      "        [-1.1075e+00, -5.5158e-01, -3.3658e-02,  1.6683e-01],\n",
      "        [-1.3980e+00, -7.3418e-01, -2.3957e-02,  1.8327e-01],\n",
      "        [-9.8267e-01, -3.5970e-01,  8.6403e-03, -5.4407e-02],\n",
      "        [-2.2153e-01, -9.1895e-01, -5.1955e-02,  2.4785e-01],\n",
      "        [-7.1273e-01, -5.3608e-01,  5.1613e-02, -1.7540e-01],\n",
      "        [-1.4636e+00, -5.3753e-01, -1.8727e-02, -1.4334e-01],\n",
      "        [ 1.3137e-01,  2.0330e-01, -8.0144e-02, -4.4042e-01],\n",
      "        [ 1.1909e-01,  1.9778e-01, -5.3881e-02, -3.1776e-01],\n",
      "        [ 3.0756e-02, -5.4787e-01, -9.3567e-02,  8.5180e-02],\n",
      "        [-1.0220e+00, -3.6005e-01, -3.2413e-03, -4.6626e-02],\n",
      "        [ 4.8936e-02,  1.9608e-01,  3.8627e-02, -2.8016e-01],\n",
      "        [-2.6217e-01, -9.1754e-01, -3.6524e-02,  2.1659e-01],\n",
      "        [ 1.1121e-01,  1.9503e-01, -4.3289e-02, -2.5695e-01],\n",
      "        [-9.6175e-01, -3.5852e-01,  2.5884e-02, -8.0545e-02],\n",
      "        [-1.9258e+00, -7.2960e-01,  1.0535e-02,  8.2152e-02],\n",
      "        [-2.8052e-01, -1.1121e+00, -3.2192e-02,  4.9754e-01],\n",
      "        [-5.9363e-03, -7.3904e-01, -8.4390e-02,  2.9148e-01],\n",
      "        [-4.8327e-01, -7.2183e-01,  3.4433e-02, -8.9230e-02],\n",
      "        [-1.9923e-01, -1.1149e+00, -6.3150e-02,  5.5975e-01],\n",
      "        [-8.8680e-01, -3.5227e-01,  5.0581e-02, -2.1866e-01],\n",
      "        [-6.8743e-01, -5.3461e-01,  5.3746e-02, -2.0791e-01],\n",
      "        [-2.0747e+00, -5.3564e-01,  1.3958e-02, -1.8485e-01],\n",
      "        [-5.9625e-01, -9.2070e-01,  4.4178e-02,  2.8627e-01],\n",
      "        [ 1.2854e-01,  1.4602e-02, -9.4634e-02, -2.8943e-01],\n",
      "        [-2.2348e+00, -5.3813e-01,  2.1577e-02, -1.3000e-01],\n",
      "        [-9.4810e-01, -1.6182e-01,  4.3775e-02, -4.0853e-01],\n",
      "        [-9.9316e-01, -3.5993e-01,  6.6509e-04, -4.9297e-02],\n",
      "        [-7.3809e-01, -5.3750e-01,  5.0767e-02, -1.4402e-01],\n",
      "        [-5.7120e-02, -7.3456e-01, -7.5809e-02,  1.9213e-01],\n",
      "        [-1.5981e+00, -9.2486e-01, -1.2228e-02,  3.7803e-01],\n",
      "        [-1.5144e+00, -5.3637e-01, -1.9233e-02, -1.6882e-01],\n",
      "        [ 6.4561e-02,  1.9418e-01,  1.7569e-02, -2.3808e-01],\n",
      "        [-1.1547e+00, -3.5418e-01, -3.0702e-02, -1.7618e-01],\n",
      "        [-2.2201e+00, -7.3298e-01,  1.8440e-02,  1.5681e-01],\n",
      "        [-1.0325e+00, -3.5995e-01, -1.0980e-02, -4.8966e-02],\n",
      "        [-1.8237e+00, -5.3401e-01,  4.0826e-04, -2.2088e-01],\n",
      "        [-9.5134e-01, -3.5753e-01,  3.5604e-02, -1.0238e-01],\n",
      "        [-2.1693e+00, -7.3184e-01,  1.8874e-02,  1.3159e-01],\n",
      "        [-9.5849e-01, -1.6294e-01,  3.3557e-02, -3.8362e-01],\n",
      "        [-1.3618e+00, -5.4009e-01, -2.4142e-02, -8.6656e-02],\n",
      "        [-1.2524e+00, -7.3922e-01, -3.4787e-02,  2.9467e-01],\n",
      "        [-1.8490e+00, -9.2420e-01, -2.5707e-03,  3.6335e-01],\n",
      "        [-1.3726e+00, -7.3486e-01, -2.5875e-02,  1.9831e-01],\n",
      "        [-1.0115e+00, -3.5994e-01,  4.5511e-03, -4.9188e-02],\n",
      "        [-7.7428e-01, -7.3472e-01,  4.8912e-02,  1.9541e-01],\n",
      "        [-1.1366e+00, -3.5509e-01, -3.0113e-02, -1.5623e-01],\n",
      "        [-2.2778e+00, -5.3931e-01,  1.1965e-02, -1.0384e-01],\n",
      "        [-8.6885e-01, -3.5079e-01,  5.4446e-02, -2.5131e-01],\n",
      "        [-2.2455e+00, -7.3355e-01,  1.8977e-02,  1.6941e-01],\n",
      "        [ 9.9534e-02,  1.9417e-01, -2.7746e-02, -2.3792e-01],\n",
      "        [-5.3052e-01, -9.1842e-01,  3.5568e-02,  2.3601e-01],\n",
      "        [-2.3651e+00, -3.4556e-01,  1.6608e-02, -3.6639e-01],\n",
      "        [-1.3872e+00, -5.3938e-01, -2.1909e-02, -1.0242e-01],\n",
      "        [-1.0684e+00, -1.6373e-01, -1.6745e-02, -3.6595e-01],\n",
      "        [-9.0481e-01, -3.5365e-01,  4.7999e-02, -1.8821e-01],\n",
      "        [-9.4098e-01, -3.5624e-01,  4.6392e-02, -1.3084e-01],\n",
      "        [-1.7003e+00, -7.2934e-01, -1.1628e-03,  7.6517e-02],\n",
      "        [-1.0187e+00, -1.6488e-01,  3.5673e-03, -3.4043e-01],\n",
      "        [ 1.2208e-01, -3.6962e-01, -1.0982e-01,  1.6533e-01],\n",
      "        [-6.2919e-01, -5.3186e-01,  5.0061e-02, -2.6868e-01],\n",
      "        [-8.5795e-01, -5.4510e-01,  5.3969e-02,  2.3865e-02],\n",
      "        [-3.0277e-01, -9.1656e-01, -2.2241e-02,  1.9488e-01],\n",
      "        [ 1.3194e-01,  1.1970e-02, -9.0647e-02, -2.3105e-01],\n",
      "        [-4.4272e-01, -1.1113e+00,  2.0966e-02,  4.7966e-01],\n",
      "        [-1.3470e+00, -7.3561e-01, -2.8439e-02,  2.1486e-01],\n",
      "        [-1.7839e+00, -7.2907e-01,  1.9896e-03,  7.0430e-02],\n",
      "        [-1.0893e+00, -5.5253e-01, -3.5097e-02,  1.8775e-01],\n",
      "        [-1.0292e+00, -1.6489e-01, -4.1739e-03, -3.4033e-01],\n",
      "        [-8.9384e-01, -5.4808e-01,  4.6208e-02,  8.9543e-02],\n",
      "        [-1.2088e+00, -3.5125e-01, -3.7398e-02, -2.4102e-01],\n",
      "        [-2.0017e+00, -7.3037e-01,  3.7849e-03,  9.9196e-02],\n",
      "        [-5.8175e-01, -7.2496e-01,  4.4581e-02, -2.0134e-02],\n",
      "        [-1.9657e+00, -5.3492e-01,  9.8208e-03, -2.0083e-01],\n",
      "        [-2.0416e+00, -9.2566e-01,  3.9671e-03,  3.9550e-01],\n",
      "        [ 6.3803e-02, -3.5728e-01, -1.0257e-01, -1.0841e-01],\n",
      "        [ 1.1511e-01,  5.5134e-04, -4.8428e-02,  2.1767e-02],\n",
      "        [-1.8091e+00, -7.2915e-01, -1.0343e-03,  7.2128e-02],\n",
      "        [ 1.1468e-01, -1.7311e-01, -1.0652e-01, -1.5988e-01],\n",
      "        [-1.0717e+00, -3.5861e-01, -2.4064e-02, -7.8591e-02],\n",
      "        [-9.1188e-01, -5.4942e-01,  4.4234e-02,  1.1922e-01],\n",
      "        [-2.3141e+00, -7.3494e-01,  1.1801e-02,  2.0003e-01],\n",
      "        [-1.3107e+00, -5.4178e-01, -3.0734e-02, -4.9476e-02],\n",
      "        [ 1.0049e-01, -3.6348e-01, -1.1232e-01,  2.9045e-02],\n",
      "        [-6.1466e-01, -7.2623e-01,  4.9904e-02,  7.8461e-03],\n",
      "        [-8.2534e-01, -7.3769e-01,  5.4766e-02,  2.6105e-01],\n",
      "        [-1.2672e+00, -5.4362e-01, -2.8894e-02, -8.7788e-03],\n",
      "        [ 5.6658e-02, -5.5079e-01, -1.0473e-01,  1.5023e-01],\n",
      "        [-1.9404e+00, -5.3463e-01,  1.2178e-02, -2.0719e-01],\n",
      "        [-3.6164e-01, -1.1110e+00, -5.0931e-03,  4.7198e-01],\n",
      "        [-1.4105e-01, -7.2861e-01, -6.5498e-02,  6.0426e-02],\n",
      "        [-1.1908e+00, -3.5229e-01, -3.4309e-02, -2.1806e-01],\n",
      "        [-1.3037e-01, -5.3441e-01, -6.1251e-02, -2.1232e-01],\n",
      "        [ 7.6226e-02,  1.9375e-01,  2.3038e-03, -2.2848e-01],\n",
      "        [-1.2959e+00, -7.3739e-01, -3.5819e-02,  2.5429e-01],\n",
      "        [-1.6166e+00, -7.2957e-01, -4.6678e-03,  8.1517e-02],\n",
      "        [ 4.8906e-02,  1.5327e-03,  3.8625e-02,  9.0986e-05],\n",
      "        [ 1.1122e-01, -3.6656e-01, -1.0972e-01,  9.7389e-02]], device='cuda:0')\n"
     ]
    }
   ],
   "source": [
    "print(LM.sample_points)"
   ]
  },
  {
   "cell_type": "code",
   "execution_count": 8,
   "metadata": {},
   "outputs": [
    {
     "data": {
      "text/plain": [
       "tensor([ 24.8620,  -2.0449,  16.1394,  -0.7607,  -0.9194,  -1.8511,   3.2358,\n",
       "        -20.7592, -11.7461,  12.2112,  -0.3942,   7.2018, -10.6108,  -9.5756,\n",
       "         10.3003,   2.9351,  -8.0528, -13.8004,   1.2682,  -7.1154, -26.7905,\n",
       "          5.9061,   6.9093,  -2.9693, -19.2307, -16.6755, -20.3268, -14.5343,\n",
       "        -25.0185,  -2.1161,  14.5308,   3.5906,  10.6796,  10.9008,  -9.1718,\n",
       "         15.7786,  -0.1640,   5.7855,   6.9645,   6.3669,  -8.8867,   2.4980,\n",
       "         -7.0730, -18.5327,  -5.6470,   1.9107,   6.2599,  12.3816,  -5.4595,\n",
       "          0.6563, -11.1298,   5.4386, -11.0380,  15.5845,  12.6373,  11.0331,\n",
       "          2.4659, -18.2304,   1.3799, -15.2239,  -5.4493, -18.8083, -15.9532,\n",
       "        -15.1834, -19.2790, -24.7451,  13.5840,  -9.1278,  -6.1397, -21.7683,\n",
       "        -30.8783, -13.0459,  -6.3169,  -4.2963,  13.3112, -17.6113,   6.6117,\n",
       "         -9.0245,  -6.6658,  13.0228, -10.4914, -10.6203,  -6.5549,   1.1602,\n",
       "         14.7766,   9.5811, -22.4211,   1.1953, -15.9179,  -2.1758,  18.7747,\n",
       "        -13.6056,   8.4696,  11.8025,  -9.5834,   1.8511,  -8.5427,  20.2763,\n",
       "        -26.1656,  -5.5898], device='cuda:0', grad_fn=<SelectBackward0>)"
      ]
     },
     "execution_count": 8,
     "metadata": {},
     "output_type": "execute_result"
    }
   ],
   "source": [
    "Y[:,0]"
   ]
  },
  {
   "cell_type": "code",
   "execution_count": 10,
   "metadata": {},
   "outputs": [],
   "source": [
    "new_folder_path = config[\"explanation_output\"][\"save_path\"]\n",
    "\n",
    "# Create the new folder if it doesn't exist\n",
    "os.makedirs(new_folder_path, exist_ok=True)\n",
    "LM.runner()"
   ]
  },
  {
   "cell_type": "markdown",
   "metadata": {},
   "source": []
  },
  {
   "cell_type": "code",
   "execution_count": 11,
   "metadata": {},
   "outputs": [
    {
     "name": "stdout",
     "output_type": "stream",
     "text": [
      "Parameter containing:\n",
      "tensor([[-0.6503, -2.6930, -9.2145, -9.1385]], device='cuda:0',\n",
      "       requires_grad=True)\n",
      "Parameter containing:\n",
      "tensor([[0.6417, 2.6528, 9.6215, 9.5044]], device='cuda:0', requires_grad=True)\n"
     ]
    }
   ],
   "source": [
    "for i in LM.interpretable_models:\n",
    "    for param in i.parameters():\n",
    "        print(param)"
   ]
  },
  {
   "cell_type": "code",
   "execution_count": 11,
   "metadata": {},
   "outputs": [
    {
     "data": {
      "text/plain": [
       "tensor([0, 0, 0])"
      ]
     },
     "execution_count": 11,
     "metadata": {},
     "output_type": "execute_result"
    }
   ],
   "source": [
    "t"
   ]
  },
  {
   "cell_type": "code",
   "execution_count": 12,
   "metadata": {},
   "outputs": [
    {
     "data": {
      "text/plain": [
       "tensor([[0, 0, 0]])"
      ]
     },
     "execution_count": 12,
     "metadata": {},
     "output_type": "execute_result"
    }
   ],
   "source": [
    "t.unsqueeze(0)"
   ]
  },
  {
   "cell_type": "code",
   "execution_count": null,
   "metadata": {},
   "outputs": [],
   "source": []
  }
 ],
 "metadata": {
  "kernelspec": {
   "display_name": "XCS234_A3_CUDA",
   "language": "python",
   "name": "python3"
  },
  "language_info": {
   "codemirror_mode": {
    "name": "ipython",
    "version": 3
   },
   "file_extension": ".py",
   "mimetype": "text/x-python",
   "name": "python",
   "nbconvert_exporter": "python",
   "pygments_lexer": "ipython3",
   "version": "3.8.10"
  }
 },
 "nbformat": 4,
 "nbformat_minor": 2
}
