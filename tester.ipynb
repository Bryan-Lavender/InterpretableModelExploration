{
 "cells": [
  {
   "cell_type": "code",
   "execution_count": 1,
   "metadata": {},
   "outputs": [
    {
     "name": "stdout",
     "output_type": "stream",
     "text": [
      "device:  cpu\n"
     ]
    }
   ],
   "source": [
    "import yaml\n",
    "import argparse\n",
    "import os\n",
    "import sys\n",
    "import numpy as np\n",
    "import torch\n",
    "import gym\n",
    "import matplotlib\n",
    "import matplotlib.pyplot as plt\n",
    "import unittest\n",
    "from DeepLearning_Models.utils.general import join, plot_combined\n",
    "from DeepLearning_Models.ActorCritic.policy_gradient import PolicyGradient\n",
    "from EnvRunner import GymRunner\n",
    "from Explanations_Models.DT_LIME.LIME import LIME\n",
    "from Explanations_Models.DT_LIME.sampling_methods import Uniform_Sampler\n",
    "import json\n",
    "from ExplanationRunner import MetricGetter\n",
    "yaml.add_constructor(\"!join\", join)\n",
    "config = yaml.load(open(\"config_envs/half_cheetah.yml\"), Loader= yaml.FullLoader)\n",
    "config.update(yaml.load(open(\"config_explanations/half_cheetah.yml\"), Loader= yaml.FullLoader))\n",
    "Runner = GymRunner(config)\n",
    "Runner.load_weights()\n"
   ]
  },
  {
   "cell_type": "code",
   "execution_count": 2,
   "metadata": {},
   "outputs": [],
   "source": [
    "LM = LIME(config, Runner)\n",
    "LM.train()"
   ]
  },
  {
   "cell_type": "code",
   "execution_count": 3,
   "metadata": {},
   "outputs": [
    {
     "name": "stdout",
     "output_type": "stream",
     "text": [
      "[[ 1.83076382e-01 -3.73776855e+01  5.98332882e-02  3.22593445e+02]\n",
      " [-2.04601479e+00  2.73905640e+02  1.91647589e-01 -2.22699219e+02]\n",
      " [-2.48388124e+00 -3.31629395e+02  4.06428754e-01  1.68048920e+02]\n",
      " [-3.10293174e+00  1.78202637e+02 -6.75167143e-02 -1.93678253e+02]\n",
      " [-2.93889499e+00  2.20169678e+02 -3.45706880e-01 -1.01154175e+01]] [[-1684.7614   1837.4061 ]\n",
      " [  667.6199   -535.8237 ]\n",
      " [ -267.46616   291.02032]\n",
      " [  747.1365   -640.29926]\n",
      " [ -435.53003   522.338  ]]\n",
      "[1 0 1 0 0] [1 0 1 0 1] [ True  True  True  True False]\n",
      "80.0\n"
     ]
    }
   ],
   "source": [
    "LM.uniform_correct(num = 5)"
   ]
  },
  {
   "cell_type": "code",
   "execution_count": 4,
   "metadata": {},
   "outputs": [],
   "source": [
    "LM.surr_model.display_tree()"
   ]
  },
  {
   "cell_type": "code",
   "execution_count": 16,
   "metadata": {},
   "outputs": [
    {
     "name": "stdout",
     "output_type": "stream",
     "text": [
      "[0.51, 0.495, 0.74, 0.51, 0.9]\n",
      "<class 'numpy.float64'>\n",
      "<class 'numpy.float64'>\n",
      "<class 'numpy.float64'>\n",
      "<class 'numpy.float64'>\n",
      "<class 'numpy.float64'>\n",
      "[0.99973714, 0.77664727, 0.10023394, 0.62364614, 0.12209195]\n",
      "<class 'numpy.float32'>\n",
      "<class 'numpy.float32'>\n",
      "<class 'numpy.float32'>\n",
      "<class 'numpy.float32'>\n",
      "<class 'numpy.float32'>\n",
      "[0, 0, 0, 0, 0]\n",
      "<class 'int'>\n",
      "<class 'int'>\n",
      "<class 'int'>\n",
      "<class 'int'>\n",
      "<class 'int'>\n",
      "[0, 0, 1, 1, 1]\n",
      "<class 'int'>\n",
      "<class 'int'>\n",
      "<class 'int'>\n",
      "<class 'int'>\n",
      "<class 'int'>\n",
      "[1, 1, 2, 2, 2]\n",
      "<class 'int'>\n",
      "<class 'int'>\n",
      "<class 'int'>\n",
      "<class 'int'>\n",
      "<class 'int'>\n",
      "['angle', 'angle', 'vel', 'angle', 'angle_vel']\n",
      "<class 'str'>\n",
      "<class 'str'>\n",
      "<class 'str'>\n",
      "<class 'str'>\n",
      "<class 'str'>\n",
      "[0.81, 0.805, 0.885, 0.865, 0.875]\n",
      "<class 'numpy.float64'>\n",
      "<class 'numpy.float64'>\n",
      "<class 'numpy.float64'>\n",
      "<class 'numpy.float64'>\n",
      "<class 'numpy.float64'>\n",
      "[0.15928325, 0.06263796, 0.08045942, 0.6393279, 0.2653419]\n",
      "<class 'numpy.float32'>\n",
      "<class 'numpy.float32'>\n",
      "<class 'numpy.float32'>\n",
      "<class 'numpy.float32'>\n",
      "<class 'numpy.float32'>\n",
      "[0, 0, 0, 0, 0]\n",
      "<class 'int'>\n",
      "<class 'int'>\n",
      "<class 'int'>\n",
      "<class 'int'>\n",
      "<class 'int'>\n",
      "[1, 1, 1, 1, 1]\n",
      "<class 'int'>\n",
      "<class 'int'>\n",
      "<class 'int'>\n",
      "<class 'int'>\n",
      "<class 'int'>\n",
      "[2, 2, 2, 2, 2]\n",
      "<class 'int'>\n",
      "<class 'int'>\n",
      "<class 'int'>\n",
      "<class 'int'>\n",
      "<class 'int'>\n",
      "['vel', 'angle_vel', 'angle_vel', 'angle_vel', 'angle_vel']\n",
      "<class 'str'>\n",
      "<class 'str'>\n",
      "<class 'str'>\n",
      "<class 'str'>\n",
      "<class 'str'>\n",
      "[0.67, 0.825, 0.57, 0.795, 0.915]\n",
      "<class 'numpy.float64'>\n",
      "<class 'numpy.float64'>\n",
      "<class 'numpy.float64'>\n",
      "<class 'numpy.float64'>\n",
      "<class 'numpy.float64'>\n",
      "[0.5879315, 0.08633856, 0.8620778, 0.13133605, 0.9151823]\n",
      "<class 'numpy.float32'>\n",
      "<class 'numpy.float32'>\n",
      "<class 'numpy.float32'>\n",
      "<class 'numpy.float32'>\n",
      "<class 'numpy.float32'>\n",
      "[0, 0, 0, 0, 0]\n",
      "<class 'int'>\n",
      "<class 'int'>\n",
      "<class 'int'>\n",
      "<class 'int'>\n",
      "<class 'int'>\n",
      "[2, 1, 2, 3, 1]\n",
      "<class 'int'>\n",
      "<class 'int'>\n",
      "<class 'int'>\n",
      "<class 'int'>\n",
      "<class 'int'>\n",
      "[2, 2, 2, 2, 2]\n",
      "<class 'int'>\n",
      "<class 'int'>\n",
      "<class 'int'>\n",
      "<class 'int'>\n",
      "<class 'int'>\n",
      "['angle_vel', 'angle_vel', 'x', 'angle_vel', 'angle_vel']\n",
      "<class 'str'>\n",
      "<class 'str'>\n",
      "<class 'str'>\n",
      "<class 'str'>\n",
      "<class 'str'>\n"
     ]
    }
   ],
   "source": [
    "for i in thing.keys():\n",
    "    for j in thing[i].keys():\n",
    "        if type(thing[i][j]) == list:\n",
    "            print(thing[i][j])\n",
    "            for k in range(len(thing[i][j])):\n",
    "                print(type(thing[i][j][k]))"
   ]
  },
  {
   "cell_type": "code",
   "execution_count": 5,
   "metadata": {},
   "outputs": [
    {
     "data": {
      "text/plain": [
       "'MetricFiles/CartPole-v1/Policy/gini.json'"
      ]
     },
     "execution_count": 5,
     "metadata": {},
     "output_type": "execute_result"
    }
   ],
   "source": [
    "MG.Saver(thing)"
   ]
  },
  {
   "cell_type": "code",
   "execution_count": 11,
   "metadata": {},
   "outputs": [],
   "source": [
    "thing = LIME(config, Runner)\n",
    "thing.surr_model.Load(filename= \"tree_4.pkl\", path=\"SavedTrees/Policy/gini/3\")"
   ]
  },
  {
   "cell_type": "code",
   "execution_count": 12,
   "metadata": {},
   "outputs": [],
   "source": [
    "thing.surr_model.display_tree()"
   ]
  },
  {
   "cell_type": "code",
   "execution_count": 6,
   "metadata": {},
   "outputs": [
    {
     "data": {
      "text/plain": [
       "{'3': {'PercentCorrect': [0.88, 0.495, 0.495, 0.51, 0.855],\n",
       "  'EpisodeDistance': [0.09867910295724869,\n",
       "   0.7760151028633118,\n",
       "   0.6228576302528381,\n",
       "   0.8617138266563416,\n",
       "   0.8202632665634155],\n",
       "  'Episode_Length_Distance': [0, 0, 0, 0, 0],\n",
       "  'Depth': [1, 0, 0, 1, 1],\n",
       "  'Breadth': [2, 1, 1, 2, 2],\n",
       "  'TopSplits': ['angle_vel', 'angle', 'angle', 'angle', 'angle_vel'],\n",
       "  'Path': 'SavedTrees/Policy/gini/3/tree_4.pkl'},\n",
       " '5': {'PercentCorrect': [0.5, 0.84, 0.745, 0.495, 0.51],\n",
       "  'EpisodeDistance': [1.1155929565429688,\n",
       "   0.21740132570266724,\n",
       "   0.24682459235191345,\n",
       "   0.7213442921638489,\n",
       "   0.7014747262001038],\n",
       "  'Episode_Length_Distance': [0, 0, 0, 0, 0],\n",
       "  'Depth': [1, 1, 1, 0, 1],\n",
       "  'Breadth': [2, 2, 2, 1, 2],\n",
       "  'TopSplits': ['angle', 'angle_vel', 'vel', 'angle', 'x'],\n",
       "  'Path': 'SavedTrees/Policy/gini/5/tree_4.pkl'},\n",
       " '10': {'PercentCorrect': [0.95, 0.78, 0.905, 0.905, 0.755],\n",
       "  'EpisodeDistance': [0.8620252013206482,\n",
       "   0.32922300696372986,\n",
       "   0.2525949478149414,\n",
       "   0.19113433361053467,\n",
       "   0.1255502551794052],\n",
       "  'Episode_Length_Distance': [0, 0, 0, 0, 0],\n",
       "  'Depth': [3, 2, 1, 1, 3],\n",
       "  'Breadth': [2, 2, 2, 2, 2],\n",
       "  'TopSplits': ['angle_vel', 'angle_vel', 'angle_vel', 'angle_vel', 'vel'],\n",
       "  'Path': 'SavedTrees/Policy/gini/10/tree_4.pkl'}}"
      ]
     },
     "execution_count": 6,
     "metadata": {},
     "output_type": "execute_result"
    }
   ],
   "source": [
    "thing"
   ]
  },
  {
   "cell_type": "code",
   "execution_count": 10,
   "metadata": {},
   "outputs": [
    {
     "name": "stdout",
     "output_type": "stream",
     "text": [
      "[3, 5, 10] [0.647, 0.618, 0.859]\n"
     ]
    }
   ],
   "source": [
    "thing2 = json.load(open('MetricFiles/CartPole-v1/Policy/gini.json', 'r'))\n",
    "#plot percent_correct\n",
    "samples = []\n",
    "means = []\n",
    "covs = []\n",
    "for key in thing.keys():\n",
    "    samples.append(int(key))\n",
    "    means.append(np.mean(thing2[key][\"PercentCorrect\"]))\n",
    "    covs.append()\n",
    "print(x, y)"
   ]
  },
  {
   "cell_type": "code",
   "execution_count": 11,
   "metadata": {},
   "outputs": [
    {
     "data": {
      "text/plain": [
       "{'PercentCorrect': [0.5, 0.84, 0.745, 0.495, 0.51],\n",
       " 'EpisodeDistance': [1.1155929565429688,\n",
       "  0.21740132570266724,\n",
       "  0.24682459235191345,\n",
       "  0.7213442921638489,\n",
       "  0.7014747262001038],\n",
       " 'Episode_Length_Distance': [0, 0, 0, 0, 0],\n",
       " 'Depth': [1, 1, 1, 0, 1],\n",
       " 'Breadth': [2, 2, 2, 1, 2],\n",
       " 'TopSplits': ['angle', 'angle_vel', 'vel', 'angle', 'x'],\n",
       " 'Path': 'SavedTrees/Policy/gini/5/tree_4.pkl'}"
      ]
     },
     "execution_count": 11,
     "metadata": {},
     "output_type": "execute_result"
    }
   ],
   "source": [
    "thing2['5']"
   ]
  },
  {
   "cell_type": "code",
   "execution_count": null,
   "metadata": {},
   "outputs": [],
   "source": []
  }
 ],
 "metadata": {
  "kernelspec": {
   "display_name": "XAI_RL",
   "language": "python",
   "name": "python3"
  },
  "language_info": {
   "codemirror_mode": {
    "name": "ipython",
    "version": 3
   },
   "file_extension": ".py",
   "mimetype": "text/x-python",
   "name": "python",
   "nbconvert_exporter": "python",
   "pygments_lexer": "ipython3",
   "version": "3.8.10"
  }
 },
 "nbformat": 4,
 "nbformat_minor": 2
}
