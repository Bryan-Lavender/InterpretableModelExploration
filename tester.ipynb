{
 "cells": [
  {
   "cell_type": "code",
   "execution_count": 1,
   "metadata": {},
   "outputs": [
    {
     "name": "stdout",
     "output_type": "stream",
     "text": [
      "device:  cpu\n"
     ]
    }
   ],
   "source": [
    "import yaml\n",
    "import argparse\n",
    "import os\n",
    "import sys\n",
    "import numpy as np\n",
    "import torch\n",
    "import gym\n",
    "import matplotlib\n",
    "import matplotlib.pyplot as plt\n",
    "import unittest\n",
    "from DeepLearning_Models.utils.general import join, plot_combined\n",
    "from DeepLearning_Models.ActorCritic.policy_gradient import PolicyGradient\n",
    "from EnvRunner import GymRunner\n",
    "from Explanations_Models.DT_LIME.LIME import LIME\n",
    "yaml.add_constructor(\"!join\", join)\n",
    "config = yaml.load(open(\"config_envs/half_cheetah.yml\"), Loader= yaml.FullLoader)\n",
    "config.update(yaml.load(open(\"config_explanations/cartpole.yml\"), Loader= yaml.FullLoader))\n",
    "Runner = GymRunner(config)\n"
   ]
  },
  {
   "cell_type": "code",
   "execution_count": 2,
   "metadata": {},
   "outputs": [],
   "source": [
    "from Explanations_Models.DT_LIME.sampling_methods import Gaussian_Sampler, Policy_Sampler, Uniform_Sampler\n",
    "U_test = Policy_Sampler(config, Runner.runner)"
   ]
  },
  {
   "cell_type": "code",
   "execution_count": 3,
   "metadata": {},
   "outputs": [
    {
     "name": "stderr",
     "output_type": "stream",
     "text": [
      "c:\\Users\\blav1\\anaconda3\\envs\\XAI_RL\\lib\\site-packages\\gym\\utils\\passive_env_checker.py:233: DeprecationWarning: `np.bool8` is a deprecated alias for `np.bool_`.  (Deprecated NumPy 1.24)\n",
      "  if not isinstance(terminated, (bool, np.bool8)):\n",
      "c:\\Users\\blav1\\Scripts\\BryansClaimToFame\\InterpretableModelExploration\\Explanations_Models\\DT_LIME\\sampling_methods.py:46: UserWarning: Creating a tensor from a list of numpy.ndarrays is extremely slow. Please consider converting the list to a single numpy.ndarray with numpy.array() before converting to a tensor. (Triggered internally at C:\\actions-runner\\_work\\pytorch\\pytorch\\builder\\windows\\pytorch\\torch\\csrc\\utils\\tensor_new.cpp:277.)\n",
      "  return torch.tensor(samples)\n"
     ]
    },
    {
     "data": {
      "text/plain": [
       "60"
      ]
     },
     "execution_count": 3,
     "metadata": {},
     "output_type": "execute_result"
    }
   ],
   "source": [
    "len(U_test.sample())"
   ]
  },
  {
   "cell_type": "code",
   "execution_count": 4,
   "metadata": {},
   "outputs": [
    {
     "name": "stdout",
     "output_type": "stream",
     "text": [
      "[[-4.8000002, -3.4028235e+38, -0.41887903, -3.4028235e+38], [4.8000002, 3.4028235e+38, 0.41887903, 3.4028235e+38]]\n"
     ]
    }
   ],
   "source": [
    "print(config[\"sampler\"][\"bounds\"])"
   ]
  },
  {
   "cell_type": "code",
   "execution_count": 10,
   "metadata": {},
   "outputs": [
    {
     "name": "stdout",
     "output_type": "stream",
     "text": [
      "[[-4.8000002, 4.8000002], [-3.4028235e+38, 3.4028235e+38], [-0.41887903, 0.41887903], [-3.4028235e+38, 3.4028235e+38]]\n"
     ]
    }
   ],
   "source": [
    "bounds = np.array([[-4.8000002e+00, -3.4028235e+38, -4.1887903e-01, -3.4028235e+38],\n",
    "                   [4.8000002e+00, 3.4028235e+38, 4.1887903e-01, 3.4028235e+38]])\n",
    "\n",
    "# Transpose the array to switch rows with columns and pair lower and upper bounds\n",
    "transformed_bounds = np.transpose(bounds)\n",
    "\n",
    "# Convert the transposed array to the desired format\n",
    "result = transformed_bounds.tolist()\n",
    "\n",
    "print(result)"
   ]
  },
  {
   "cell_type": "code",
   "execution_count": null,
   "metadata": {},
   "outputs": [],
   "source": []
  }
 ],
 "metadata": {
  "kernelspec": {
   "display_name": "XAI_RL",
   "language": "python",
   "name": "python3"
  },
  "language_info": {
   "codemirror_mode": {
    "name": "ipython",
    "version": 3
   },
   "file_extension": ".py",
   "mimetype": "text/x-python",
   "name": "python",
   "nbconvert_exporter": "python",
   "pygments_lexer": "ipython3",
   "version": "3.9.19"
  }
 },
 "nbformat": 4,
 "nbformat_minor": 2
}
