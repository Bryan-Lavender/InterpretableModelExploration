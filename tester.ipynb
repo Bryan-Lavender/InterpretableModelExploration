{
 "cells": [
  {
   "cell_type": "code",
   "execution_count": 1,
   "metadata": {},
   "outputs": [
    {
     "name": "stdout",
     "output_type": "stream",
     "text": [
      "device:  cpu\n"
     ]
    },
    {
     "ename": "UnboundLocalError",
     "evalue": "local variable 'PATH_critic' referenced before assignment",
     "output_type": "error",
     "traceback": [
      "\u001b[1;31m---------------------------------------------------------------------------\u001b[0m",
      "\u001b[1;31mUnboundLocalError\u001b[0m                         Traceback (most recent call last)",
      "Cell \u001b[1;32mIn[1], line 21\u001b[0m\n\u001b[0;32m     19\u001b[0m config\u001b[38;5;241m.\u001b[39mupdate(yaml\u001b[38;5;241m.\u001b[39mload(\u001b[38;5;28mopen\u001b[39m(\u001b[38;5;124m\"\u001b[39m\u001b[38;5;124mconfig_explanations/cartpole.yml\u001b[39m\u001b[38;5;124m\"\u001b[39m), Loader\u001b[38;5;241m=\u001b[39m yaml\u001b[38;5;241m.\u001b[39mFullLoader))\n\u001b[0;32m     20\u001b[0m Runner \u001b[38;5;241m=\u001b[39m GymRunner(config)\n\u001b[1;32m---> 21\u001b[0m \u001b[43mRunner\u001b[49m\u001b[38;5;241;43m.\u001b[39;49m\u001b[43mload_weights\u001b[49m\u001b[43m(\u001b[49m\u001b[43mPATH\u001b[49m\u001b[38;5;241;43m=\u001b[39;49m\u001b[38;5;124;43m\"\u001b[39;49m\u001b[38;5;124;43mconfig_envs/cartpole.yml\u001b[39;49m\u001b[38;5;124;43m\"\u001b[39;49m\u001b[43m)\u001b[49m\n",
      "File \u001b[1;32mc:\\Users\\blav1\\Scripts\\BryansClaimToFame\\InterpretableModelExploration\\EnvRunner.py:58\u001b[0m, in \u001b[0;36mGymRunner.load_weights\u001b[1;34m(self, PATH)\u001b[0m\n\u001b[0;32m     56\u001b[0m     \u001b[38;5;28mself\u001b[39m\u001b[38;5;241m.\u001b[39mmodel\u001b[38;5;241m.\u001b[39mpolicy\u001b[38;5;241m.\u001b[39mload_state_dict((torch\u001b[38;5;241m.\u001b[39mload(PATH_actor)))\n\u001b[0;32m     57\u001b[0m \u001b[38;5;28;01melse\u001b[39;00m:\n\u001b[1;32m---> 58\u001b[0m     \u001b[38;5;28mself\u001b[39m\u001b[38;5;241m.\u001b[39mmodel\u001b[38;5;241m.\u001b[39mbaseline_network\u001b[38;5;241m.\u001b[39mload_state_dict(torch\u001b[38;5;241m.\u001b[39mload(\u001b[43mPATH_critic\u001b[49m,map_location\u001b[38;5;241m=\u001b[39mtorch\u001b[38;5;241m.\u001b[39mdevice(\u001b[38;5;124m'\u001b[39m\u001b[38;5;124mcpu\u001b[39m\u001b[38;5;124m'\u001b[39m)))\n\u001b[0;32m     59\u001b[0m     \u001b[38;5;28mself\u001b[39m\u001b[38;5;241m.\u001b[39mmodel\u001b[38;5;241m.\u001b[39mpolicy\u001b[38;5;241m.\u001b[39mload_state_dict((torch\u001b[38;5;241m.\u001b[39mload(PATH_actor,map_location\u001b[38;5;241m=\u001b[39mtorch\u001b[38;5;241m.\u001b[39mdevice(\u001b[38;5;124m'\u001b[39m\u001b[38;5;124mcpu\u001b[39m\u001b[38;5;124m'\u001b[39m))))\n",
      "\u001b[1;31mUnboundLocalError\u001b[0m: local variable 'PATH_critic' referenced before assignment"
     ]
    }
   ],
   "source": [
    "import yaml\n",
    "import argparse\n",
    "import os\n",
    "import sys\n",
    "import numpy as np\n",
    "import torch\n",
    "import gym\n",
    "import matplotlib\n",
    "import matplotlib.pyplot as plt\n",
    "import unittest\n",
    "from DeepLearning_Models.utils.general import join, plot_combined\n",
    "from DeepLearning_Models.ActorCritic.policy_gradient import PolicyGradient\n",
    "from EnvRunner import GymRunner\n",
    "from Explanations_Models.DT_LIME.LIME import LIME\n",
    "from Explanations_Models.DT_LIME.sampling_methods import Uniform_Sampler\n",
    "import json\n",
    "yaml.add_constructor(\"!join\", join)\n",
    "config = yaml.load(open(\"config_envs/cartpole.yml\"), Loader= yaml.FullLoader)\n",
    "config.update(yaml.load(open(\"config_explanations/cartpole.yml\"), Loader= yaml.FullLoader))\n",
    "Runner = GymRunner(config)\n",
    "Runner.load_weights()\n"
   ]
  },
  {
   "cell_type": "code",
   "execution_count": 2,
   "metadata": {},
   "outputs": [
    {
     "name": "stdout",
     "output_type": "stream",
     "text": [
      "0.825 0.030956296 0 7 8 angle_vel\n"
     ]
    },
    {
     "name": "stderr",
     "output_type": "stream",
     "text": [
      "c:\\Users\\blav1\\anaconda3\\envs\\XAI_RL\\lib\\site-packages\\gym\\utils\\passive_env_checker.py:233: DeprecationWarning: `np.bool8` is a deprecated alias for `np.bool_`.  (Deprecated NumPy 1.24)\n",
      "  if not isinstance(terminated, (bool, np.bool8)):\n",
      "c:\\Users\\blav1\\Scripts\\BryansClaimToFame\\InterpretableModelExploration\\Explanations_Models\\DT_LIME\\sampling_methods.py:47: UserWarning: Creating a tensor from a list of numpy.ndarrays is extremely slow. Please consider converting the list to a single numpy.ndarray with numpy.array() before converting to a tensor. (Triggered internally at C:\\actions-runner\\_work\\pytorch\\pytorch\\builder\\windows\\pytorch\\torch\\csrc\\utils\\tensor_new.cpp:277.)\n",
      "  return torch.tensor(samples, dtype = torch.float32)[samples_indicies]\n",
      "c:\\Users\\blav1\\anaconda3\\envs\\XAI_RL\\lib\\site-packages\\gym\\utils\\passive_env_checker.py:233: DeprecationWarning: `np.bool8` is a deprecated alias for `np.bool_`.  (Deprecated NumPy 1.24)\n",
      "  if not isinstance(terminated, (bool, np.bool8)):\n",
      "c:\\Users\\blav1\\anaconda3\\envs\\XAI_RL\\lib\\site-packages\\gym\\utils\\passive_env_checker.py:233: DeprecationWarning: `np.bool8` is a deprecated alias for `np.bool_`.  (Deprecated NumPy 1.24)\n",
      "  if not isinstance(terminated, (bool, np.bool8)):\n"
     ]
    }
   ],
   "source": [
    "\n",
    "PercentCorrect = []\n",
    "ExecutionMSE = []\n",
    "ExecutionDiff = []\n",
    "TDepth = []\n",
    "TBreadth = []\n",
    "top_splits = []\n",
    "for i in range(config[\"metric_hyperparameters\"][\"tree_execution_samples\"]):\n",
    "    limemod = LIME(config, Runner)\n",
    "    limemod.train()\n",
    "    PercentCorrect.append(limemod.percent_Correct())\n",
    "    ADmse, CountDiff = limemod.absolute_distance()\n",
    "    ExecutionMSE.append(ADmse)\n",
    "    ExecutionDiff.append(CountDiff)\n",
    "\n",
    "    depth, breadth = limemod.surr_model.depth_breadth()\n",
    "    TDepth.append(depth)\n",
    "    TBreadth.append(breadth)\n",
    "    top_splits.append(config[\"picture\"][\"labels\"][limemod.surr_model.get_top_split()])\n",
    "\n",
    "\n",
    "\n",
    "#limemod.surr_model.display_tree()\n"
   ]
  },
  {
   "cell_type": "code",
   "execution_count": 3,
   "metadata": {},
   "outputs": [
    {
     "data": {
      "text/plain": [
       "(7, 8)"
      ]
     },
     "execution_count": 3,
     "metadata": {},
     "output_type": "execute_result"
    }
   ],
   "source": [
    "limemod.surr_model.depth_breadth()"
   ]
  },
  {
   "cell_type": "code",
   "execution_count": 5,
   "metadata": {},
   "outputs": [
    {
     "data": {
      "text/plain": [
       "'angle_vel'"
      ]
     },
     "execution_count": 5,
     "metadata": {},
     "output_type": "execute_result"
    }
   ],
   "source": [
    "config[\"picture\"][\"labels\"][limemod.surr_model.get_top_split()]"
   ]
  },
  {
   "cell_type": "code",
   "execution_count": 4,
   "metadata": {},
   "outputs": [
    {
     "ename": "NameError",
     "evalue": "name 'Uniform_Sampler' is not defined",
     "output_type": "error",
     "traceback": [
      "\u001b[1;31m---------------------------------------------------------------------------\u001b[0m",
      "\u001b[1;31mNameError\u001b[0m                                 Traceback (most recent call last)",
      "Cell \u001b[1;32mIn[4], line 1\u001b[0m\n\u001b[1;32m----> 1\u001b[0m sampler \u001b[38;5;241m=\u001b[39m \u001b[43mUniform_Sampler\u001b[49m(config, Runner \u001b[38;5;241m=\u001b[39m \u001b[38;5;28;01mNone\u001b[39;00m)\n",
      "\u001b[1;31mNameError\u001b[0m: name 'Uniform_Sampler' is not defined"
     ]
    }
   ],
   "source": [
    "sampler = Uniform_Sampler(config, Runner = None)"
   ]
  },
  {
   "cell_type": "code",
   "execution_count": null,
   "metadata": {},
   "outputs": [],
   "source": []
  }
 ],
 "metadata": {
  "kernelspec": {
   "display_name": "XAI_RL",
   "language": "python",
   "name": "python3"
  },
  "language_info": {
   "codemirror_mode": {
    "name": "ipython",
    "version": 3
   },
   "file_extension": ".py",
   "mimetype": "text/x-python",
   "name": "python",
   "nbconvert_exporter": "python",
   "pygments_lexer": "ipython3",
   "version": "3.9.19"
  }
 },
 "nbformat": 4,
 "nbformat_minor": 2
}
