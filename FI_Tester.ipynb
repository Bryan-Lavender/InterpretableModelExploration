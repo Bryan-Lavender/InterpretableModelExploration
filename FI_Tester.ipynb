{
 "cells": [
  {
   "cell_type": "code",
   "execution_count": null,
   "metadata": {},
   "outputs": [],
   "source": [
    "from Explanations_Models.Custom_DT.LIME import LIME\n",
    "from FeatureImportance.FI import FeatureImportance\n",
    "import yaml\n",
    "import argparse\n",
    "import os\n",
    "import sys\n",
    "import numpy as np\n",
    "import torch\n",
    "import gym\n",
    "import matplotlib\n",
    "import matplotlib.pyplot as plt\n",
    "import unittest\n",
    "from DeepLearning_Models.utils.general import join, plot_combined\n",
    "from DeepLearning_Models.ActorCritic.policy_gradient import PolicyGradient\n",
    "from EnvRunner import GymRunner\n",
    "import json\n",
    "import warnings\n",
    "from tqdm import tqdm\n",
    "\n",
    "# Suppress all deprecation warnings\n",
    "warnings.filterwarnings('ignore', category=DeprecationWarning)\n",
    "warnings.filterwarnings('ignore', category=UserWarning)\n",
    "\n",
    "yaml.add_constructor(\"!join\", join)\n",
    "parser = argparse.ArgumentParser()\n",
    "\n",
    "parser.add_argument(\"--config_filename\", required=False, type=str)\n",
    "\n",
    "config_file = open(\"config_envs/{}.yml\".format(\"_bipedal\"))\n",
    "config = yaml.load(config_file, Loader=yaml.FullLoader)\n",
    "config.update(yaml.load(open(\"config_explanations/{}.yml\".format(\"_bipedal\"), encoding=\"utf8\"), Loader= yaml.FullLoader))\n",
    "Runner = GymRunner(config)\n",
    "Runner.load_weights(PATH = None)"
   ]
  },
  {
   "cell_type": "code",
   "execution_count": null,
   "metadata": {},
   "outputs": [],
   "source": [
    "DT = LIME(config, Runner)\n",
    "X,Y = DT.train(returner=True)"
   ]
  }
 ],
 "metadata": {
  "language_info": {
   "name": "python"
  }
 },
 "nbformat": 4,
 "nbformat_minor": 2
}
