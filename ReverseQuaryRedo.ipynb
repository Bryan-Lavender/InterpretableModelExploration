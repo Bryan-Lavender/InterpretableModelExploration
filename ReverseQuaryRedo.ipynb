{
 "cells": [
  {
   "cell_type": "markdown",
   "metadata": {},
   "source": [
    "<h3> Init and load in uniform samples </h3>"
   ]
  },
  {
   "cell_type": "code",
   "execution_count": 14,
   "metadata": {},
   "outputs": [],
   "source": [
    "import numpy as np\n",
    "import pandas as pd\n",
    "import json\n",
    "import yaml\n",
    "from DeepLearning_Models.utils.general import join, plot_combined\n",
    "yaml.add_constructor(\"!join\", join)\n",
    "\n",
    "#THIS IS WHAT IS GOING TO CHANGE BOI\n",
    "test_file_path = \"uniform_samples/BipedalWalker-v3/input_samples.npy\"\n",
    "test_config = \"_bipedal\"\n",
    "\n",
    "\n",
    "config_file = open(\"config_envs/{}.yml\".format(test_config))\n",
    "config = yaml.load(config_file, Loader=yaml.FullLoader)\n",
    "config.update(yaml.load(open(\"config_explanations/{}.yml\".format(test_config), encoding=\"utf8\"), Loader= yaml.FullLoader))\n",
    "\n",
    "#read in npy\n",
    "def read_npy(file_path, config):\n",
    "    labels = config[\"picture\"][\"labels\"]\n",
    "    data = np.load(file_path)\n",
    "    return pd.DataFrame(data, columns=labels)\n",
    "\n"
   ]
  },
  {
   "cell_type": "markdown",
   "metadata": {},
   "source": [
    "<h3> load in old tree version and forward pass </h3>"
   ]
  },
  {
   "cell_type": "code",
   "execution_count": null,
   "metadata": {},
   "outputs": [
    {
     "data": {
      "text/plain": [
       "[-0.070003584, -0.27450842, 2.1886513, 1.2663306]"
      ]
     },
     "execution_count": 17,
     "metadata": {},
     "output_type": "execute_result"
    }
   ],
   "source": [
    "testTreeLoc = \"SavedCustomTreeMets/treeDTMetsNormd/_bipedal/trees/FalseBaselineFD0.json\"\n",
    "testData = read_npy(test_file_path, config)\n",
    "\n",
    "with open(testTreeLoc, 'r') as file:\n",
    "    tree = json.load(file)\n",
    "    \n",
    "def ForwardPassOld(tree, row):\n",
    "    \n",
    "    if \"Value\" in tree:\n",
    "        # We've hit a leaf node\n",
    "        return tree[\"Value\"]\n",
    "    \n",
    "    feature = tree[\"Feature\"]\n",
    "    bucket = tree[\"Bucket\"]\n",
    "    \n",
    "    # Determine whether to go left (True) or right (False)\n",
    "    if row[feature] < bucket:\n",
    "        return ForwardPassOld(tree[\"Left_Child\"], row)\n",
    "    else:\n",
    "        return ForwardPassOld(tree[\"Right_Child\"], row)\n",
    "\n",
    "row = testData.iloc[0]\n",
    "ForwardPassOld(tree, row)\n"
   ]
  },
  {
   "cell_type": "code",
   "execution_count": null,
   "metadata": {},
   "outputs": [],
   "source": [
    "def forward_pass_with_path(tree, row, path=[]):\n",
    "    if \"Value\" in tree:\n",
    "        return tree[\"Value\"], path\n",
    "    \n",
    "    feature = tree[\"Feature\"]\n",
    "    bucket = tree[\"Bucket\"]\n",
    "    \n",
    "    if row[feature] < bucket:\n",
    "        path.append((feature, \"left\", bucket))\n",
    "        return forward_pass_with_path(tree[\"Left_Child\"], row, path)\n",
    "    else:\n",
    "        path.append((feature, \"right\", bucket))\n",
    "        return forward_pass_with_path(tree[\"Right_Child\"], row, path)\n",
    "\n",
    "# Get the forward pass and path for the first row\n",
    "output, path = forward_pass_with_path(tree, row)\n",
    "print(\"Output:\", output)\n",
    "print(\"Path:\", path)\n",
    "\n",
    "def generate_counterfactual(path, row, output, desired_output):\n",
    "    # Adjust the feature values to affect the first output in the list\n",
    "    for feature, direction, bucket in reversed(path):\n",
    "        if direction == \"left\" and output[0] > desired_output:\n",
    "            # If we went left, we need to increase the feature to decrease the output\n",
    "            print(f\"Increase {feature} (currently {row[feature]}) closer to or above {bucket} to reduce output\")\n",
    "            row[feature] = bucket + 0.01  # Adjust to go to the other side of the bucket\n",
    "        elif direction == \"right\" and output[0] > desired_output:\n",
    "            # If we went right, we need to decrease the feature to decrease the output\n",
    "            print(f\"Decrease {feature} (currently {row[feature]}) closer to or below {bucket} to reduce output\")\n",
    "            row[feature] = bucket - 0.01  # Adjust to go to the other side of the bucket\n",
    "\n",
    "    # After adjustments, run forward pass again to check if output decreases\n",
    "    print(\"row:\",row)\n",
    "    new_output = forward_pass(tree, row)\n",
    "    out1, path2 = forward_pass_with_path(tree, row)\n",
    "    print(\"Path:\", path2)\n",
    "    return new_output\n",
    "\n",
    "# Example usage: Decrease the first output to a lower value\n",
    "desired_output = output[0] - 0.5  # Let's say we want to decrease the first output by 0.5\n",
    "counterfactual_output = generate_counterfactual(path, df.iloc[0].copy(), output, desired_output)\n",
    "\n",
    "print(\"Counterfactual Output:\", counterfactual_output)"
   ]
  }
 ],
 "metadata": {
  "kernelspec": {
   "display_name": "Python 3",
   "language": "python",
   "name": "python3"
  },
  "language_info": {
   "codemirror_mode": {
    "name": "ipython",
    "version": 3
   },
   "file_extension": ".py",
   "mimetype": "text/x-python",
   "name": "python",
   "nbconvert_exporter": "python",
   "pygments_lexer": "ipython3",
   "version": "3.8.19"
  }
 },
 "nbformat": 4,
 "nbformat_minor": 2
}
